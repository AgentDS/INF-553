{
 "cells": [
  {
   "cell_type": "code",
   "execution_count": 1,
   "metadata": {},
   "outputs": [],
   "source": [
    "import json\n",
    "import pandas as pd\n",
    "import numpy as np"
   ]
  },
  {
   "cell_type": "code",
   "execution_count": 2,
   "metadata": {},
   "outputs": [],
   "source": [
    "path = \"/Users/liangsiqi/Documents/Dataset/yelp_dataset/\"\n",
    "user_file = \"user.json\"\n",
    "review_file = \"review.json\"\n",
    "business_file = \"business.json\""
   ]
  },
  {
   "cell_type": "code",
   "execution_count": 3,
   "metadata": {},
   "outputs": [],
   "source": [
    "users = []\n",
    "for line in open(path+user_file, 'r'):\n",
    "    users.append(json.loads(line))\n",
    "\n",
    "user_sample = users[0]\n",
    "user_cnt = len(users)"
   ]
  },
  {
   "cell_type": "code",
   "execution_count": 4,
   "metadata": {},
   "outputs": [],
   "source": [
    "# user_sample\n",
    "#  user_id: str\n",
    "#  name: str\n",
    "#  review_count: int\n",
    "#  yelping_since: str like '2013-02-21 22:29:06'\n",
    "#  useful: int\n",
    "#  funny: int\n",
    "#  cool: int\n",
    "#  elite: str like '2015,2016,2017'\n",
    "#  friends: str like 'xx, xxx, xxx'\n",
    "#  fans: int\n",
    "#  average_stars: float\n",
    "#  compliment_hot: int\n",
    "#  compliment_more: int\n",
    "#  compliment_profile: int\n",
    "#  compliment_cute: int\n",
    "#  compliment_list: int\n",
    "#  compliment_note: int\n",
    "#  compliment_plain: int\n",
    "#  compliment_cool: int\n",
    "#  compliment_funny: int\n",
    "#  compliment_writer: int\n",
    "#  compliment_photos: int"
   ]
  },
  {
   "cell_type": "code",
   "execution_count": 5,
   "metadata": {},
   "outputs": [
    {
     "name": "stdout",
     "output_type": "stream",
     "text": [
      "total_users:  1637138\n",
      "avg_reviews:  22.28769779945246\n",
      "distinct_usernames:  124917\n",
      "num_users:  168467\n",
      "\n",
      "\n",
      "top10_popular_names:\n",
      "John        14430\n",
      "David       13616\n",
      "Michael     13559\n",
      "Chris       12178\n",
      "Mike        11358\n",
      "Jennifer    10360\n",
      "Jessica      9349\n",
      "Sarah        8748\n",
      "Michelle     8627\n",
      "Mark         8094\n",
      "Name: name, dtype: int64\n",
      "\n",
      "\n",
      "top10_most_reviews:\n",
      "                       user_id  review_cnt\n",
      "818915  8k3aO-mPeyhbR5HUucA5aA       13278\n",
      "2810    RtGqdDBvvBCjcu5dUqwfzA       12390\n",
      "585     hWDybu_KvYLSdEFzGrniTw       10022\n",
      "982453  P5bUL3Engv-2z6kKohB6qQ        9821\n",
      "6876    8RcEwGrFIgkt9WQ35E6SnQ        7750\n",
      "2534    nmdkHL2JKFx55T3nq5VziA        7089\n",
      "5178    Xwnf20FKuikiHcSpcEbpKQ        6738\n",
      "7023    Hi10sGSZNxQH3NLyWSZ1oA        6407\n",
      "2202    CxDOIDnH8gp9KXzpBHJYXw        6314\n",
      "8187    HFECrzYDpgbS5EmTBtj2zQ        5398\n"
     ]
    }
   ],
   "source": [
    "user_key = list(user_sample.keys())\n",
    "user_key_cnt = len(user_key)\n",
    "\n",
    "# check whether every \n",
    "review_cnt = []\n",
    "user_names = []\n",
    "user_ids = []\n",
    "user_cnt_2011 = 0\n",
    "for i in range(user_cnt):\n",
    "    review_cnt.append(users[i]['review_count'])\n",
    "    user_names.append(users[i]['name'])\n",
    "    user_ids.append(users[i]['user_id'])\n",
    "    if users[i]['yelping_since'][:4] == '2011':\n",
    "        user_cnt_2011 += 1 \n",
    "\n",
    "# A. total number of users\n",
    "print(\"total_users: \", user_cnt)\n",
    "\n",
    "# B. the average number of written reviews of all users\n",
    "print(\"avg_reviews: \", sum(review_cnt)/user_cnt)\n",
    "\n",
    "# C. the number of distinct user names\n",
    "distinguish_name_cnt = len(set(user_names)) \n",
    "print(\"distinct_usernames: \", distinguish_name_cnt)\n",
    "\n",
    "# D. the number of users that joined yelp in the year 2011 \n",
    "print(\"num_users: \", user_cnt_2011)\n",
    "\n",
    "# E. Top 10 popular names and the number of times they \n",
    "#    appear (user names that appear the most number of times) \n",
    "name_cnt = pd.DataFrame({'name':user_names})[\"name\"].value_counts()\n",
    "name_cnt.sort_values(ascending=False,inplace=True)\n",
    "top10_name = name_cnt.iloc[:10]\n",
    "print(\"\\n\\ntop10_popular_names:\")\n",
    "print(top10_name)\n",
    "\n",
    "# F. Find Top 10 user ids who have written the most number of reviews (0.5 point)\n",
    "print(\"\\n\\ntop10_most_reviews:\")\n",
    "print(pd.DataFrame({'user_id':user_ids,'review_cnt':review_cnt}).sort_values(by='review_cnt',ascending=False).iloc[:10])"
   ]
  }
 ],
 "metadata": {
  "kernelspec": {
   "display_name": "Python [conda env:root] *",
   "language": "python",
   "name": "conda-root-py"
  },
  "language_info": {
   "codemirror_mode": {
    "name": "ipython",
    "version": 3
   },
   "file_extension": ".py",
   "mimetype": "text/x-python",
   "name": "python",
   "nbconvert_exporter": "python",
   "pygments_lexer": "ipython3",
   "version": "3.7.3"
  },
  "latex_envs": {
   "LaTeX_envs_menu_present": true,
   "autoclose": false,
   "autocomplete": true,
   "bibliofile": "biblio.bib",
   "cite_by": "apalike",
   "current_citInitial": 1,
   "eqLabelWithNumbers": true,
   "eqNumInitial": 1,
   "hotkeys": {
    "equation": "Ctrl-E",
    "itemize": "Ctrl-I"
   },
   "labels_anchors": false,
   "latex_user_defs": false,
   "report_style_numbering": false,
   "user_envs_cfg": false
  },
  "toc": {
   "base_numbering": 1,
   "nav_menu": {},
   "number_sections": true,
   "sideBar": true,
   "skip_h1_title": false,
   "title_cell": "Table of Contents",
   "title_sidebar": "Contents",
   "toc_cell": false,
   "toc_position": {},
   "toc_section_display": true,
   "toc_window_display": false
  }
 },
 "nbformat": 4,
 "nbformat_minor": 2
}
