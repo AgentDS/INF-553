{
 "cells": [
  {
   "cell_type": "code",
   "execution_count": 1,
   "metadata": {},
   "outputs": [],
   "source": [
    "import json\n",
    "import pandas as pd\n",
    "import numpy as np"
   ]
  },
  {
   "cell_type": "code",
   "execution_count": 2,
   "metadata": {},
   "outputs": [],
   "source": [
    "path = \"/Users/liangsiqi/Documents/Dataset/yelp_dataset/\"\n",
    "user_file = \"user.json\"\n",
    "review_file = \"review.json\"\n",
    "business_file = \"business.json\""
   ]
  },
  {
   "cell_type": "code",
   "execution_count": 3,
   "metadata": {},
   "outputs": [],
   "source": [
    "users = []\n",
    "for line in open(path+user_file, 'r'):\n",
    "    users.append(json.loads(line))"
   ]
  },
  {
   "cell_type": "code",
   "execution_count": 4,
   "metadata": {},
   "outputs": [],
   "source": [
    "user_sample = users[0]\n",
    "user_cnt = len(users)"
   ]
  },
  {
   "cell_type": "code",
   "execution_count": 9,
   "metadata": {},
   "outputs": [
    {
     "data": {
      "text/plain": [
       "{'user_id': 'l6BmjZMeQD3rDxWUbiAiow',\n",
       " 'name': 'Rashmi',\n",
       " 'review_count': 95,\n",
       " 'yelping_since': '2013-10-08 23:11:33',\n",
       " 'useful': 84,\n",
       " 'funny': 17,\n",
       " 'cool': 25,\n",
       " 'elite': '2015,2016,2017',\n",
       " 'friends': 'c78V-rj8NQcQjOI8KP3UEA, alRMgPcngYSCJ5naFRBz5g, ajcnq75Z5xxkvUSmmJ1bCg, BSMAmp2-wMzCkhTfq9ToNg, jka10dk9ygX76hJG0gfPZQ, dut0e4xvme7QSlesOycHQA, l4l5lBnK356zBua7B-UJ6Q, 0HicMOOs-M_gl2eO-zES4Q, _uI57wL2fLyftrcSFpfSGQ, T4_Qd0YWbC3co6WSMw4vxg, iBRoLWPtWmsI1kdbE9ORSA, xjrUcid6Ymq0DoTJELkYyw, GqadWVzJ6At-vgLzK_SKgA, DvB13VJBmSnbFXBVBsKmDA, vRP9nQkYTeNioDjtxZlVhg, gT0A1iN3eeQ8EMAjJhwQtw, 6yCWjFPtp_AD4x93WAwmnw, 1dKzpNnib-JlViKv8_Gt5g, 3Bv4_JxHXq-gVLOxYMQX0Q, ikQyfu1iViYh8T0us7wiFQ, f1GGltNaB7K5DR1jf3dOmg, tgeFUChlh7v8bZFVl2-hjQ, -9-9oyXlqsMG2he5xIWdLQ, Adj9fBPVJad8vSs-mIP7gw, Ce49RY8CKXVsTifxRYFTsw, M1_7TLi8CbdA89nFLlH4iw, wFsNv-hqbW_F5-IRqfBN6g, 0Q1L7zXHocaUZ2gsG2XJeg, cBFgmOCBdhYa0xoFEAzp_g, VrD_AgiFvzqtlR15vir3SQ, cpE-7HK514Sr5vpSen9CEQ, F1UYelhPFB-zIKlt0ygIZg, CQAL1hvsLMCzuJf9AglsXw, 1KnY1wr15WfEWIRLB9IS6g, QWFQ-kXBiLbid-lm5Jr3dQ, nymT8liFugCrM16lTy0ZfQ, qj69bdd885heDvUPCyHd2Q, DySCZZcgbdrlHgEovk5y9w, lZMJIDuvhT9Dy4KyquLXyA, b_9Gn7wS93AoPZPR0dIJqQ, N07g1IaLh0_6sUjtiSRe4w, YdfPX_7DxSnKvvdCJ57iOw, 8GYryZPD22W7WgQ8kvMkEQ, cpQmAgOWatghp14h1pn1dQ, EnchhymLYMqftCRjqvVWmw, -JdfKhFktE7Zs9BMDFcPeQ, uWhC9eof98zPkvsalgaqJw, eyTlNDDaiPatfe6mheIZ0g, VfHq0o73aKsODvfAhwAQtg, kvD5tICngLAaQDujSFWupA, dXacwEhqi9-3_XT6JeH0Og, NfU0zDaTMEQ4-X9dbQWd9A, cTHWBdjSKbctSUIvWsgFxw, 3IEtCbSDF5t7RkZ20T6s9A, HJJXTrp6UybYyPdQ9DA0JA, JaXogQFVjzGRAeBvzamBHg, NUonfKkjS1iVqnNITtgXZg, D5vaJAYp0sOrGfsj9qvsMA, H27Ecbwwu4FGAlLgICourw, S8HrLmMiE4u8FWYWkNEoTw, Io36Y3xWQcIX9rYvPcYfXQ, J5mcqh8KxYpqjaLBNlwcig, -nTB3_08g06fD0GT8AtDBQ, wMpFA46lihK8oFns_5p65A, RZGFJHeomGJCWp3xcL3ejA, ZoQSzzXoSP1RxOD4Amv9Bg, qzM0EB0SkuuGIFv0adjQAQ, HuM6vvuveken-fPZ7d4olA, H3oukHpGpn9n_mJwSDSQyQ, PkmsJsQ8FIZe8eh8c_u96g, wSByVbwME4MzgkJaFyfvNg, YEVqknoDmrHAoUbHX0nPnA, li3vsK1XAPmeJYAUTYflHQ, MKc8yXi0glbPYt0Qb4PECw, fQPH6W9fksi27gkuUPnFaA, amrCMrDsoRetYFg2kwwdFA, 84dVQ6n6r2ezNaTuc7RkKA, yW9QjWY0olv5-uRKv3t_Kw, 5XJDj7c3eoidfQ3jW18Zgw, txSc6a6pIDctvwyBeu7Aqg, HFbbDCyyqP9xPkUlcxeIdg, hTUv5oh2do6Z3OppPuuiJA, gSqonG9J4fNM-fl_fE71AA, pd9mgTFpBTg5F9x-MsczNg, j3VE22V2GcHiH8UZxfFLfw, NYXlMW-T-3V4Jqr4r-i0Wg, btxgAZedxX8IWhMifA7Xkg, -Hp5mPLiRJNFnyeX5Ygzag, P6-DwVg6-t2JuQwIUEk0iQ, OI2TvxYvZrAodBG_RF53Xw, bHxf_VPKmZur1Bier-6A2A, Et_Sb39cVm81_Xe9HDM8ZQ, 5HwGl2UyYbaRq8aD6YC-fA, ZK228WMcCKLo5thcjD7rdw, iTf8wojwfm0NOi7dOiz3Nw, btYRxQYNJjpecflNHtFH0A, Kgo42FzpW_dXFgDKoewbtg, MNk_1Q_dqOY3xxHZKeO8VQ, AlwD504T9k0m5lkg3k5g6Q',\n",
       " 'fans': 5,\n",
       " 'average_stars': 4.03,\n",
       " 'compliment_hot': 2,\n",
       " 'compliment_more': 0,\n",
       " 'compliment_profile': 0,\n",
       " 'compliment_cute': 0,\n",
       " 'compliment_list': 0,\n",
       " 'compliment_note': 1,\n",
       " 'compliment_plain': 1,\n",
       " 'compliment_cool': 1,\n",
       " 'compliment_funny': 1,\n",
       " 'compliment_writer': 2,\n",
       " 'compliment_photos': 0}"
      ]
     },
     "execution_count": 9,
     "metadata": {},
     "output_type": "execute_result"
    }
   ],
   "source": [
    "user_sample\n",
    "#  user_id: str\n",
    "#  name: str\n",
    "#  review_count: int\n",
    "#  yelping_since: str like '2013-02-21 22:29:06'\n",
    "#  useful: int\n",
    "#  funny: int\n",
    "#  cool: int\n",
    "#  elite: str like '2015,2016,2017'\n",
    "#  friends: str like 'xx, xxx, xxx'\n",
    "#  fans: int\n",
    "#  average_stars: float\n",
    "#  compliment_hot: int\n",
    "#  compliment_more: int\n",
    "#  compliment_profile: int\n",
    "#  compliment_cute: int\n",
    "#  compliment_list: int\n",
    "#  compliment_note: int\n",
    "#  compliment_plain: int\n",
    "#  compliment_cool: int\n",
    "#  compliment_funny: int\n",
    "#  compliment_writer: int\n",
    "#  compliment_photos: int"
   ]
  },
  {
   "cell_type": "code",
   "execution_count": 5,
   "metadata": {},
   "outputs": [],
   "source": [
    "user_key = list(user_sample.keys())\n",
    "user_key_cnt = len(user_key)"
   ]
  },
  {
   "cell_type": "code",
   "execution_count": 6,
   "metadata": {},
   "outputs": [],
   "source": [
    "# check whether every \n",
    "review_cnt = []\n",
    "user_names = []\n",
    "user_ids = []\n",
    "user_cnt_2011 = 0\n",
    "for i in range(user_cnt):\n",
    "    review_cnt.append(users[i]['review_count'])\n",
    "    user_names.append(users[i]['name'])\n",
    "    user_ids.append(users[i]['user_id'])\n",
    "    if users[i]['yelping_since'][:4] == '2011':\n",
    "        user_cnt_2011 += 1 "
   ]
  },
  {
   "cell_type": "code",
   "execution_count": 7,
   "metadata": {},
   "outputs": [
    {
     "name": "stdout",
     "output_type": "stream",
     "text": [
      "number of users:  1637138\n",
      "the average number of written reviews of all users:  22.28769779945246\n",
      "the number of distinct user names:  124917\n",
      "the number of users that joined yelp in the year 2011:  168467\n"
     ]
    }
   ],
   "source": [
    "# A. total number of users\n",
    "print(\"number of users: \", user_cnt)\n",
    "\n",
    "# B. the average number of written reviews of all users\n",
    "print(\"the average number of written reviews of all users: \", sum(review_cnt)/user_cnt)\n",
    "\n",
    "# C. the number of distinct user names\n",
    "distinguish_name_cnt = len(set(user_names)) \n",
    "print(\"the number of distinct user names: \", distinguish_name_cnt)\n",
    "\n",
    "# D. the number of users that joined yelp in the year 2011 \n",
    "print(\"the number of users that joined yelp in the year 2011: \", user_cnt_2011)"
   ]
  },
  {
   "cell_type": "code",
   "execution_count": 23,
   "metadata": {},
   "outputs": [
    {
     "data": {
      "text/plain": [
       "John        14430\n",
       "David       13616\n",
       "Michael     13559\n",
       "Chris       12178\n",
       "Mike        11358\n",
       "Jennifer    10360\n",
       "Jessica      9349\n",
       "Sarah        8748\n",
       "Michelle     8627\n",
       "Mark         8094\n",
       "Name: name, dtype: int64"
      ]
     },
     "execution_count": 23,
     "metadata": {},
     "output_type": "execute_result"
    }
   ],
   "source": [
    "# E. Top 10 popular names and the number of times they \n",
    "# appear (user names that appear the most number of times) \n",
    "name_cnt = pd.DataFrame({'name':user_names})[\"name\"].value_counts()\n",
    "name_cnt.sort_values(ascending=False,inplace=True)\n",
    "top10_name = name_cnt.iloc[:10]\n",
    "top10_name"
   ]
  },
  {
   "cell_type": "code",
   "execution_count": null,
   "metadata": {},
   "outputs": [],
   "source": []
  }
 ],
 "metadata": {
  "kernelspec": {
   "display_name": "Python [conda env:root] *",
   "language": "python",
   "name": "conda-root-py"
  },
  "language_info": {
   "codemirror_mode": {
    "name": "ipython",
    "version": 3
   },
   "file_extension": ".py",
   "mimetype": "text/x-python",
   "name": "python",
   "nbconvert_exporter": "python",
   "pygments_lexer": "ipython3",
   "version": "3.7.3"
  },
  "latex_envs": {
   "LaTeX_envs_menu_present": true,
   "autoclose": false,
   "autocomplete": true,
   "bibliofile": "biblio.bib",
   "cite_by": "apalike",
   "current_citInitial": 1,
   "eqLabelWithNumbers": true,
   "eqNumInitial": 1,
   "hotkeys": {
    "equation": "Ctrl-E",
    "itemize": "Ctrl-I"
   },
   "labels_anchors": false,
   "latex_user_defs": false,
   "report_style_numbering": false,
   "user_envs_cfg": false
  },
  "toc": {
   "base_numbering": 1,
   "nav_menu": {},
   "number_sections": true,
   "sideBar": true,
   "skip_h1_title": false,
   "title_cell": "Table of Contents",
   "title_sidebar": "Contents",
   "toc_cell": false,
   "toc_position": {},
   "toc_section_display": true,
   "toc_window_display": false
  }
 },
 "nbformat": 4,
 "nbformat_minor": 2
}
