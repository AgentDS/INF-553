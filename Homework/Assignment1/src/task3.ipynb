{
 "cells": [
  {
   "cell_type": "code",
   "execution_count": 5,
   "metadata": {},
   "outputs": [],
   "source": [
    "import json\n",
    "import pandas as pd\n",
    "import numpy as np\n",
    "from copy import deepcopy"
   ]
  },
  {
   "cell_type": "code",
   "execution_count": 2,
   "metadata": {},
   "outputs": [],
   "source": [
    "path = \"/Users/liangsiqi/Documents/Dataset/yelp_dataset/\"\n",
    "user_file = \"user.json\"\n",
    "review_file = \"review.json\"\n",
    "business_file = \"business.json\""
   ]
  },
  {
   "cell_type": "code",
   "execution_count": 3,
   "metadata": {},
   "outputs": [],
   "source": [
    "reviews = []\n",
    "for line in open(path + review_file, 'r'):\n",
    "    reviews.append(json.loads(line))\n",
    "\n",
    "business = []    \n",
    "for line in open(path + business_file, 'r'):\n",
    "    business.append(json.loads(line))"
   ]
  },
  {
   "cell_type": "code",
   "execution_count": 6,
   "metadata": {},
   "outputs": [],
   "source": [
    "review_sample = deepcopy(reviews[0])\n",
    "review_cnt = len(reviews)\n",
    "business_sample = deepcopy(business[0])\n",
    "business_cnt = len(business)"
   ]
  },
  {
   "cell_type": "code",
   "execution_count": 11,
   "metadata": {},
   "outputs": [
    {
     "name": "stdout",
     "output_type": "stream",
     "text": [
      "Review information size: 6685900\n",
      "Business information size: 192609\n"
     ]
    }
   ],
   "source": [
    "# review_sample\n",
    "# review_id: str\n",
    "# user_id: str\n",
    "# business_id: str\n",
    "# stars: float\n",
    "# useful: int\n",
    "# funny: int\n",
    "# cool: int\n",
    "# text: str\n",
    "# date: '2013-05-07 04:34:36'\n",
    "\n",
    "\n",
    "# business[2]\n",
    "# business_id: str\n",
    "# name: str\n",
    "# address: str, 2818 E Camino Acequia Drive\n",
    "# city: str\n",
    "# state: str (CA for california, need to check)\n",
    "# postal_code: str, int, like '85016'\n",
    "# latitude: float\n",
    "# longitude: float\n",
    "# stars: float\n",
    "# review_count: int\n",
    "# is_open: int (0 or 1? need to check)\n",
    "# attributes: like {'GoodForKids': 'False'}\n",
    "# categories: str, like 'Golf, Active Life'\n",
    "# hours: None or {'Monday': '9:0-0:0',\n",
    "#                 'Tuesday': '9:0-0:0',\n",
    "#                 'Wednesday': '9:0-0:0',\n",
    "#                 'Thursday': '9:0-0:0',\n",
    "#                 'Friday': '9:0-1:0',\n",
    "#                 'Saturday': '9:0-1:0',\n",
    "#                 'Sunday': '9:0-0:0'}\n",
    "print(\"Review information size: %d\" % review_cnt)\n",
    "print(\"Business information size: %d\" % business_cnt)"
   ]
  },
  {
   "cell_type": "markdown",
   "metadata": {},
   "source": [
    "### What is the average stars for each state? (DO NOT use the stars information in the business file) "
   ]
  },
  {
   "cell_type": "code",
   "execution_count": 23,
   "metadata": {},
   "outputs": [],
   "source": [
    "business_state = dict()\n",
    "for store in business:\n",
    "    business_state[store['business_id']] = store['state']\n",
    "\n",
    "review_business = []\n",
    "for review in reviews:\n",
    "    review_business.append({'stars': review['stars'],\n",
    "                            'state': business_state[review['business_id']]})\n",
    "\n",
    "star_state = dict()\n",
    "for review in review_business:\n",
    "    state = review['state']\n",
    "    stars = review['stars']\n",
    "    if state in star_state:\n",
    "        star_state[state][0] += stars\n",
    "        star_state[state][1] += 1\n",
    "    else:\n",
    "        star_state[state] = [stars, 1]\n",
    "\n",
    "avg_star_state = dict()\n",
    "for state in star_state:\n",
    "    data = star_state[state]\n",
    "    avg_star_state[state] = data[0] / data[1]"
   ]
  },
  {
   "cell_type": "code",
   "execution_count": 28,
   "metadata": {},
   "outputs": [
    {
     "data": {
      "text/plain": [
       "[('TN', 5.0),\n",
       " ('NJ', 4.875),\n",
       " ('VT', 4.5),\n",
       " ('XWY', 4.5),\n",
       " ('XGL', 4.333333333333333),\n",
       " ('TX', 4.144724556489263),\n",
       " ('AL', 4.083333333333333),\n",
       " ('VA', 4.0),\n",
       " ('CA', 3.9282868525896415),\n",
       " ('QC', 3.844201542680645),\n",
       " ('NV', 3.755840466521956),\n",
       " ('AZ', 3.7554661631502615),\n",
       " ('BAS', 3.75),\n",
       " ('WI', 3.71846476133473),\n",
       " ('PA', 3.716132879691965),\n",
       " ('XGM', 3.7142857142857144),\n",
       " ('NC', 3.671072881439004),\n",
       " ('OH', 3.6708926543123432),\n",
       " ('CON', 3.6666666666666665),\n",
       " ('DUR', 3.6666666666666665),\n",
       " ('SC', 3.5886611508085746),\n",
       " ('IL', 3.582804276509877),\n",
       " ('AB', 3.576802256144682),\n",
       " ('ON', 3.537222373068897),\n",
       " ('CT', 3.4705882352941178),\n",
       " ('DOW', 3.25),\n",
       " ('NY', 3.0636042402826855),\n",
       " ('GA', 3.0),\n",
       " ('AK', 2.857142857142857),\n",
       " ('NM', 2.7142857142857144),\n",
       " ('NE', 2.5833333333333335),\n",
       " ('UT', 2.25),\n",
       " ('AR', 2.0),\n",
       " ('WA', 1.6842105263157894),\n",
       " ('FL', 1.5110192837465564),\n",
       " ('BC', 1.3333333333333333)]"
      ]
     },
     "execution_count": 28,
     "metadata": {},
     "output_type": "execute_result"
    }
   ],
   "source": [
    "sorted(avg_star_state.items(), key=lambda x: (-x[1],x[0]))"
   ]
  },
  {
   "cell_type": "markdown",
   "metadata": {},
   "source": [
    "### Print top 5 states with highest stars\n",
    "#### Method 1: Collect all the data, and then print the first 5 states"
   ]
  },
  {
   "cell_type": "code",
   "execution_count": null,
   "metadata": {},
   "outputs": [],
   "source": []
  },
  {
   "cell_type": "code",
   "execution_count": null,
   "metadata": {},
   "outputs": [],
   "source": []
  },
  {
   "cell_type": "code",
   "execution_count": null,
   "metadata": {},
   "outputs": [],
   "source": []
  },
  {
   "cell_type": "code",
   "execution_count": null,
   "metadata": {},
   "outputs": [],
   "source": []
  },
  {
   "cell_type": "code",
   "execution_count": null,
   "metadata": {},
   "outputs": [],
   "source": []
  },
  {
   "cell_type": "markdown",
   "metadata": {},
   "source": [
    "#### Method 2: Take the first 5 states, and then print them"
   ]
  },
  {
   "cell_type": "code",
   "execution_count": null,
   "metadata": {},
   "outputs": [],
   "source": []
  }
 ],
 "metadata": {
  "kernelspec": {
   "display_name": "Python 3",
   "language": "python",
   "name": "python3"
  },
  "language_info": {
   "codemirror_mode": {
    "name": "ipython",
    "version": 3
   },
   "file_extension": ".py",
   "mimetype": "text/x-python",
   "name": "python",
   "nbconvert_exporter": "python",
   "pygments_lexer": "ipython3",
   "version": "3.7.3"
  },
  "latex_envs": {
   "LaTeX_envs_menu_present": true,
   "autoclose": false,
   "autocomplete": true,
   "bibliofile": "biblio.bib",
   "cite_by": "apalike",
   "current_citInitial": 1,
   "eqLabelWithNumbers": true,
   "eqNumInitial": 1,
   "hotkeys": {
    "equation": "Ctrl-E",
    "itemize": "Ctrl-I"
   },
   "labels_anchors": false,
   "latex_user_defs": false,
   "report_style_numbering": false,
   "user_envs_cfg": false
  },
  "toc": {
   "base_numbering": 1,
   "nav_menu": {},
   "number_sections": true,
   "sideBar": true,
   "skip_h1_title": false,
   "title_cell": "Table of Contents",
   "title_sidebar": "Contents",
   "toc_cell": false,
   "toc_position": {},
   "toc_section_display": true,
   "toc_window_display": false
  }
 },
 "nbformat": 4,
 "nbformat_minor": 2
}
