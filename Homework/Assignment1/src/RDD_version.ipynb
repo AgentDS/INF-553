{
 "cells": [
  {
   "cell_type": "code",
   "execution_count": 1,
   "metadata": {},
   "outputs": [],
   "source": [
    "import json\n",
    "from pyspark import SparkContext"
   ]
  },
  {
   "cell_type": "code",
   "execution_count": 2,
   "metadata": {},
   "outputs": [],
   "source": [
    "path = \"/Users/liangsiqi/Documents/Dataset/yelp_dataset/\"\n",
    "user_file = \"user.json\"\n",
    "review_file = \"review.json\"\n",
    "business_file = \"business.json\""
   ]
  },
  {
   "cell_type": "code",
   "execution_count": 3,
   "metadata": {},
   "outputs": [],
   "source": [
    "task1_json_answer = {'total_users':  1637138,\n",
    "                     'avg_reviews':  22.287697799452484,\n",
    "                     'distinct_usernames':  124917,\n",
    "                     'num_users':  168467,\n",
    "                     'top10_popular_names':[['John', 14430],\n",
    "                                            ['David', 13616],\n",
    "                                            ['Michael', 13559],\n",
    "                                            ['Chris', 12178],\n",
    "                                            ['Mike', 11358],\n",
    "                                            ['Jennifer', 10360],\n",
    "                                            ['Jessica', 9349],\n",
    "                                            ['Sarah', 8748],\n",
    "                                            ['Michelle', 8627],\n",
    "                                            ['Mark', 8094]],\n",
    "                    'top10_most_reviews': [['8k3aO-mPeyhbR5HUucA5aA', 13278],\n",
    "                                            ['RtGqdDBvvBCjcu5dUqwfzA', 12390],\n",
    "                                            ['hWDybu_KvYLSdEFzGrniTw', 10022],\n",
    "                                            ['P5bUL3Engv-2z6kKohB6qQ', 9821],\n",
    "                                            ['8RcEwGrFIgkt9WQ35E6SnQ', 7750],\n",
    "                                            ['nmdkHL2JKFx55T3nq5VziA', 7089],\n",
    "                                            ['Xwnf20FKuikiHcSpcEbpKQ', 6738],\n",
    "                                            ['Hi10sGSZNxQH3NLyWSZ1oA', 6407],\n",
    "                                            ['CxDOIDnH8gp9KXzpBHJYXw', 6314],\n",
    "                                            ['HFECrzYDpgbS5EmTBtj2zQ', 5398]]}"
   ]
  },
  {
   "cell_type": "code",
   "execution_count": 4,
   "metadata": {
    "code_folding": []
   },
   "outputs": [
    {
     "name": "stdout",
     "output_type": "stream",
     "text": [
      "total_users:  1637138\n",
      "avg_reviews:  22.287697799452484\n",
      "distinct_usernames:  124917\n",
      "num_users:  168467\n",
      "\n",
      "\n",
      "top10_popular_names:\n",
      "('John', 14430)\n",
      "('David', 13616)\n",
      "('Michael', 13559)\n",
      "('Chris', 12178)\n",
      "('Mike', 11358)\n",
      "('Jennifer', 10360)\n",
      "('Jessica', 9349)\n",
      "('Sarah', 8748)\n",
      "('Michelle', 8627)\n",
      "('Mark', 8094)\n",
      "\n",
      "\n",
      "top10_most_reviews:\n",
      "['8k3aO-mPeyhbR5HUucA5aA', 13278]\n",
      "['RtGqdDBvvBCjcu5dUqwfzA', 12390]\n",
      "['hWDybu_KvYLSdEFzGrniTw', 10022]\n",
      "['P5bUL3Engv-2z6kKohB6qQ', 9821]\n",
      "['8RcEwGrFIgkt9WQ35E6SnQ', 7750]\n",
      "['nmdkHL2JKFx55T3nq5VziA', 7089]\n",
      "['Xwnf20FKuikiHcSpcEbpKQ', 6738]\n",
      "['Hi10sGSZNxQH3NLyWSZ1oA', 6407]\n",
      "['CxDOIDnH8gp9KXzpBHJYXw', 6314]\n",
      "['HFECrzYDpgbS5EmTBtj2zQ', 5398]\n"
     ]
    }
   ],
   "source": [
    "# sssss\n",
    "sc = SparkContext()\n",
    "userRDD = sc.textFile(path + user_file)\n",
    "userRDD_json = userRDD.map(json.loads)\n",
    "# A. total number of users\n",
    "user_cnt = userRDD_json.count()\n",
    "print(\"total_users: \", user_cnt)\n",
    "\n",
    "# B. average number of reviews\n",
    "review_cnt_RDD = userRDD_json.map(lambda x: [x['user_id'],x['review_count']])\n",
    "review_cnt_mean = review_cnt_RDD.values().mean()\n",
    "print(\"avg_reviews: \", review_cnt_mean)\n",
    "\n",
    "# C. number of distinct user names\n",
    "user_nameRDD = userRDD_json.map(lambda x: (x['name'],1)).reduceByKey(lambda x,y:x+y)\n",
    "user_name_cnt = user_nameRDD.count()\n",
    "print(\"distinct_usernames: \", user_name_cnt)\n",
    "\n",
    "# D. number of users joined in 2011\n",
    "user_2011_cnt = userRDD_json.filter(lambda x: x['yelping_since'][:4] == '2011').count()\n",
    "print(\"num_users: \", user_2011_cnt)\n",
    "\n",
    "# E. Top 10 popular names and the number of times they \n",
    "#    appear (user names that appear the most number of times) \n",
    "most_name = user_nameRDD.sortBy(lambda x: x[1],ascending=False).take(10)\n",
    "print(\"\\n\\ntop10_popular_names:\")\n",
    "for item in most_name:\n",
    "    print(item)\n",
    "\n",
    "# F. Find Top 10 user ids who have written the most number of reviews (0.5 point)\n",
    "most_review = review_cnt_RDD.sortBy(lambda x: x[1],ascending=False).take(10)\n",
    "print(\"\\n\\ntop10_most_reviews:\")\n",
    "for item in most_review:\n",
    "    print(item)"
   ]
  },
  {
   "cell_type": "code",
   "execution_count": 7,
   "metadata": {},
   "outputs": [],
   "source": [
    "def task1():\n",
    "    sc = SparkContext.getOrCreate()\n",
    "    sc.stop()\n",
    "    sc = SparkContext()\n",
    "    userRDD = sc.textFile(path + user_file)\n",
    "    userRDD_json = userRDD.map(json.loads)\n",
    "    # A. total number of users\n",
    "    user_cnt = userRDD_json.count()\n",
    "\n",
    "    # B. average number of reviews\n",
    "    review_cnt_RDD = userRDD_json.map(lambda x: [x['user_id'],x['review_count']])\n",
    "    review_cnt_mean = review_cnt_RDD.values().mean()\n",
    "\n",
    "    # C. number of distinct user names\n",
    "    user_nameRDD = userRDD_json.map(lambda x: x['name']).groupBy(lambda x: x)\n",
    "    user_name_cnt = user_nameRDD.count()\n",
    "\n",
    "    # D. number of users joined in 2011\n",
    "    user_2011_cnt = userRDD_json.filter(lambda x: x['yelping_since'][:4] == '2011').count()\n",
    "\n",
    "    # E. Top 10 popular names and the number of times they \n",
    "    #    appear (user names that appear the most number of times) \n",
    "    user_name_cntRDD = user_nameRDD.map(lambda x: [x[0],len(x[1])])\n",
    "    most_name = user_name_cntRDD.sortBy(lambda x: x[1],ascending=False).take(10)\n",
    "\n",
    "\n",
    "    # F. Find Top 10 user ids who have written the most number of reviews (0.5 point)\n",
    "    most_review = review_cnt_RDD.sortBy(lambda x: x[1],ascending=False).take(10)\n",
    "    \n",
    "    result_json = {'total_users': user_cnt,\n",
    "                  'avg_reviews': review_cnt_mean,\n",
    "                  'distinct_usernames': user_name_cnt,\n",
    "                  'num_users': user_2011_cnt,\n",
    "                  'top10_popular_names': most_name,\n",
    "                  'top10_most_reviews': most_review}"
   ]
  },
  {
   "cell_type": "code",
   "execution_count": 11,
   "metadata": {},
   "outputs": [],
   "source": [
    "def task1_2():\n",
    "    sc = SparkContext.getOrCreate()\n",
    "    sc.stop()\n",
    "    sc = SparkContext()\n",
    "    userRDD = sc.textFile(path + user_file)\n",
    "    userRDD_json = userRDD.map(json.loads)\n",
    "    # A. total number of users\n",
    "    user_cnt = userRDD_json.count()\n",
    "    \n",
    "\n",
    "    # B. average number of reviews\n",
    "    review_cnt_RDD = userRDD_json.map(lambda x: [x['user_id'],x['review_count']])\n",
    "    review_cnt_mean = review_cnt_RDD.values().mean()\n",
    "   \n",
    "    # C. number of distinct user names\n",
    "    user_nameRDD = userRDD_json.map(lambda x: (x['name'],1)).reduceByKey(lambda x,y:x+y)\n",
    "    user_name_cnt = user_nameRDD.count()\n",
    "    \n",
    "\n",
    "    # D. number of users joined in 2011\n",
    "    user_2011_cnt = userRDD_json.filter(lambda x: x['yelping_since'][:4] == '2011').count()\n",
    "    \n",
    "\n",
    "    # E. Top 10 popular names and the number of times they \n",
    "    #    appear (user names that appear the most number of times) \n",
    "    most_name = user_nameRDD.sortBy(lambda x: x[1],ascending=False).take(10)\n",
    "    \n",
    "    # F. Find Top 10 user ids who have written the most number of reviews (0.5 point)\n",
    "    most_review = review_cnt_RDD.sortBy(lambda x: x[1],ascending=False).take(10)\n",
    "    \n",
    "    result_json = {'total_users': user_cnt,\n",
    "                  'avg_reviews': review_cnt_mean,\n",
    "                  'distinct_usernames': user_name_cnt,\n",
    "                  'num_users': user_2011_cnt,\n",
    "                  'top10_popular_names': most_name,\n",
    "                  'top10_most_reviews': most_review}"
   ]
  },
  {
   "cell_type": "code",
   "execution_count": 8,
   "metadata": {},
   "outputs": [
    {
     "name": "stdout",
     "output_type": "stream",
     "text": [
      "CPU times: user 120 ms, sys: 30.4 ms, total: 150 ms\n",
      "Wall time: 41.5 s\n"
     ]
    }
   ],
   "source": [
    "%time task1()"
   ]
  },
  {
   "cell_type": "code",
   "execution_count": null,
   "metadata": {},
   "outputs": [],
   "source": [
    "%time task1_2()"
   ]
  },
  {
   "cell_type": "code",
   "execution_count": null,
   "metadata": {},
   "outputs": [],
   "source": []
  }
 ],
 "metadata": {
  "kernelspec": {
   "display_name": "Python [conda env:inf553]",
   "language": "python",
   "name": "conda-env-inf553-py"
  },
  "language_info": {
   "codemirror_mode": {
    "name": "ipython",
    "version": 3
   },
   "file_extension": ".py",
   "mimetype": "text/x-python",
   "name": "python",
   "nbconvert_exporter": "python",
   "pygments_lexer": "ipython3",
   "version": "3.6.9"
  },
  "latex_envs": {
   "LaTeX_envs_menu_present": true,
   "autoclose": false,
   "autocomplete": true,
   "bibliofile": "biblio.bib",
   "cite_by": "apalike",
   "current_citInitial": 1,
   "eqLabelWithNumbers": true,
   "eqNumInitial": 1,
   "hotkeys": {
    "equation": "Ctrl-E",
    "itemize": "Ctrl-I"
   },
   "labels_anchors": false,
   "latex_user_defs": false,
   "report_style_numbering": false,
   "user_envs_cfg": false
  },
  "toc": {
   "base_numbering": 1,
   "nav_menu": {},
   "number_sections": true,
   "sideBar": true,
   "skip_h1_title": false,
   "title_cell": "Table of Contents",
   "title_sidebar": "Contents",
   "toc_cell": false,
   "toc_position": {},
   "toc_section_display": true,
   "toc_window_display": false
  }
 },
 "nbformat": 4,
 "nbformat_minor": 2
}
