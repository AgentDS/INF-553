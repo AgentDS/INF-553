{
 "cells": [
  {
   "cell_type": "code",
   "execution_count": 1,
   "metadata": {},
   "outputs": [],
   "source": [
    "import json\n",
    "from pyspark import SparkContext"
   ]
  },
  {
   "cell_type": "code",
   "execution_count": 2,
   "metadata": {},
   "outputs": [],
   "source": [
    "path = \"/Users/liangsiqi/Documents/Dataset/yelp_dataset/\"\n",
    "user_file = \"user.json\"\n",
    "review_file = \"review.json\"\n",
    "business_file = \"business.json\""
   ]
  },
  {
   "cell_type": "code",
   "execution_count": 10,
   "metadata": {},
   "outputs": [],
   "source": [
    "sc = SparkContext.getOrCreate()\n",
    "reviewRDD = sc.textFile(path+review_file).map(json.loads)\n",
    "businessRDD = sc.textFile(path+business_file).map(json.loads)\n",
    "\n",
    "business_state_kvRDD = businessRDD.map(lambda x: [x['business_id'],x['state']])\n",
    "business_id_star_kvRDD = reviewRDD.map(lambda x: [x['business_id'],x['stars']])"
   ]
  },
  {
   "cell_type": "code",
   "execution_count": 11,
   "metadata": {},
   "outputs": [
    {
     "data": {
      "text/plain": [
       "6685900"
      ]
     },
     "execution_count": 11,
     "metadata": {},
     "output_type": "execute_result"
    }
   ],
   "source": [
    "business_id_star_kvRDD.count()"
   ]
  },
  {
   "cell_type": "code",
   "execution_count": 12,
   "metadata": {},
   "outputs": [],
   "source": [
    "business_id_star_combine = star_business_id_kvRDD.combineByKey((lambda x: (x,1)),  # ceateCombiner\n",
    "                            (lambda x,value: (x[0] + value, x[1] + 1)),  # mergeValue\n",
    "                            (lambda x,y: (x[0] + y[0], x[1] + y[1])))"
   ]
  },
  {
   "cell_type": "code",
   "execution_count": 13,
   "metadata": {},
   "outputs": [
    {
     "data": {
      "text/plain": [
       "[('oD-C0IhodDOtWWOiNm2txA', (1797.0, 445)),\n",
       " ('HTngUd7s8kLBiAbEtd65Ug', (785.0, 169)),\n",
       " ('73sJHGCKDNFhYuS8DqnGHQ', (26.0, 6)),\n",
       " ('68O4uYCd0YToLOLqHTBSZQ', (1026.0, 214)),\n",
       " ('EhtKeNUGGWnjsCLIhCD1jQ', (1126.0, 358)),\n",
       " ('rwLm3556i3xw2n3ND0cpdg', (469.0, 114)),\n",
       " ('-000aQFeK6tqVLndf7xORg', (40.0, 8)),\n",
       " ('ubOdh5ycn8Id83KH9_c6-Q', (11.0, 3)),\n",
       " ('cA3758wmDHz5nK05WY98dg', (372.0, 94)),\n",
       " ('hhhHgSaSl6GLtuDoDrMUZQ', (735.0, 157))]"
      ]
     },
     "execution_count": 13,
     "metadata": {},
     "output_type": "execute_result"
    }
   ],
   "source": [
    "business_id_star_combine.take(10)"
   ]
  },
  {
   "cell_type": "code",
   "execution_count": null,
   "metadata": {},
   "outputs": [],
   "source": []
  },
  {
   "cell_type": "code",
   "execution_count": null,
   "metadata": {},
   "outputs": [],
   "source": []
  },
  {
   "cell_type": "code",
   "execution_count": null,
   "metadata": {},
   "outputs": [],
   "source": []
  }
 ],
 "metadata": {
  "kernelspec": {
   "display_name": "Python [conda env:inf553]",
   "language": "python",
   "name": "conda-env-inf553-py"
  },
  "language_info": {
   "codemirror_mode": {
    "name": "ipython",
    "version": 3
   },
   "file_extension": ".py",
   "mimetype": "text/x-python",
   "name": "python",
   "nbconvert_exporter": "python",
   "pygments_lexer": "ipython3",
   "version": "3.6.9"
  },
  "latex_envs": {
   "LaTeX_envs_menu_present": true,
   "autoclose": false,
   "autocomplete": true,
   "bibliofile": "biblio.bib",
   "cite_by": "apalike",
   "current_citInitial": 1,
   "eqLabelWithNumbers": true,
   "eqNumInitial": 1,
   "hotkeys": {
    "equation": "Ctrl-E",
    "itemize": "Ctrl-I"
   },
   "labels_anchors": false,
   "latex_user_defs": false,
   "report_style_numbering": false,
   "user_envs_cfg": false
  },
  "toc": {
   "base_numbering": 1,
   "nav_menu": {},
   "number_sections": true,
   "sideBar": true,
   "skip_h1_title": false,
   "title_cell": "Table of Contents",
   "title_sidebar": "Contents",
   "toc_cell": false,
   "toc_position": {},
   "toc_section_display": true,
   "toc_window_display": false
  }
 },
 "nbformat": 4,
 "nbformat_minor": 2
}
