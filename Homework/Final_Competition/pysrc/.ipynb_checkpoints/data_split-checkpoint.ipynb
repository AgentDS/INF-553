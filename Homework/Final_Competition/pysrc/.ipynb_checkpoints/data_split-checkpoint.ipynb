{
 "cells": [
  {
   "cell_type": "code",
   "execution_count": 17,
   "metadata": {},
   "outputs": [],
   "source": [
    "import pandas as pd\n",
    "import numpy as np\n",
    "import csv\n",
    "from sklearn.model_selection import StratifiedKFold"
   ]
  },
  {
   "cell_type": "code",
   "execution_count": 2,
   "metadata": {},
   "outputs": [],
   "source": [
    "val_path = \"/Users/liangsiqi/Documents/Dataset/inf553final_competition/yelp_val.csv\"\n",
    "train_path = \"/Users/liangsiqi/Documents/Dataset/inf553final_competition/yelp_train.csv\""
   ]
  },
  {
   "cell_type": "code",
   "execution_count": 13,
   "metadata": {},
   "outputs": [
    {
     "name": "stdout",
     "output_type": "stream",
     "text": [
      "size of train:  455854\n",
      "size of val:  142044\n",
      "size of train + val:  597898\n"
     ]
    }
   ],
   "source": [
    "val_raw = pd.read_csv(val_path)\n",
    "train_raw = pd.read_csv(train_path)\n",
    "\n",
    "val_raw.columns = ['user_id','business_id','stars']\n",
    "train_raw.columns = ['user_id','business_id','stars']\n",
    "\n",
    "val_raw['stars'] = val_raw['stars'].astype(int)\n",
    "train_raw['stars'] = train_raw['stars'].astype(int)\n",
    "\n",
    "print(\"size of train: \",len(train_raw))\n",
    "print(\"size of val: \",len(val_raw))\n",
    "\n",
    "train_val = pd.concat([train_raw,val_raw],axis=0)\n",
    "print(\"size of train + val: \",len(train_val))"
   ]
  },
  {
   "cell_type": "code",
   "execution_count": 16,
   "metadata": {},
   "outputs": [
    {
     "name": "stdout",
     "output_type": "stream",
     "text": [
      "Total number of distinct user id:  11270\n",
      "Total number of distinct business id:  24951\n"
     ]
    }
   ],
   "source": [
    "print(\"Total number of distinct user id: \",len(train_val['user_id'].unique()))\n",
    "print(\"Total number of distinct business id: \",len(train_val['business_id'].unique()))"
   ]
  },
  {
   "cell_type": "markdown",
   "metadata": {},
   "source": [
    "In validation data, only exist pairs that missing business!!! So maybe we can try to split stratified based on user id!"
   ]
  },
  {
   "cell_type": "code",
   "execution_count": null,
   "metadata": {},
   "outputs": [],
   "source": []
  }
 ],
 "metadata": {
  "kernelspec": {
   "display_name": "Python 3",
   "language": "python",
   "name": "python3"
  },
  "language_info": {
   "codemirror_mode": {
    "name": "ipython",
    "version": 3
   },
   "file_extension": ".py",
   "mimetype": "text/x-python",
   "name": "python",
   "nbconvert_exporter": "python",
   "pygments_lexer": "ipython3",
   "version": "3.7.3"
  },
  "latex_envs": {
   "LaTeX_envs_menu_present": true,
   "autoclose": false,
   "autocomplete": true,
   "bibliofile": "biblio.bib",
   "cite_by": "apalike",
   "current_citInitial": 1,
   "eqLabelWithNumbers": true,
   "eqNumInitial": 1,
   "hotkeys": {
    "equation": "Ctrl-E",
    "itemize": "Ctrl-I"
   },
   "labels_anchors": false,
   "latex_user_defs": false,
   "report_style_numbering": false,
   "user_envs_cfg": false
  },
  "toc": {
   "base_numbering": 1,
   "nav_menu": {},
   "number_sections": true,
   "sideBar": true,
   "skip_h1_title": false,
   "title_cell": "Table of Contents",
   "title_sidebar": "Contents",
   "toc_cell": false,
   "toc_position": {},
   "toc_section_display": true,
   "toc_window_display": false
  }
 },
 "nbformat": 4,
 "nbformat_minor": 2
}
