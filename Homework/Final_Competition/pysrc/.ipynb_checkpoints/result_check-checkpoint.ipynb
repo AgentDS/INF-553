{
 "cells": [
  {
   "cell_type": "code",
   "execution_count": 1,
   "metadata": {},
   "outputs": [],
   "source": [
    "import sys\n",
    "from pyspark.mllib.recommendation import ALS, MatrixFactorizationModel, Rating\n",
    "from pyspark import SparkContext, SparkConf\n",
    "import csv\n",
    "from time import time"
   ]
  },
  {
   "cell_type": "code",
   "execution_count": 31,
   "metadata": {},
   "outputs": [],
   "source": [
    "def cal_RMSE(output_file_path, test_file_path):\n",
    "    conf = SparkConf().set('spark.driver.host', '127.0.0.1')\n",
    "    sc = SparkContext(master='local', appName='myAppName', conf=conf)\n",
    "    raws = []\n",
    "    with open(output_file_path, 'r') as f:\n",
    "        csv_reader = csv.reader(f, delimiter=',')\n",
    "        line_count = 0\n",
    "        for row in csv_reader:\n",
    "            if line_count == 0:\n",
    "                line_count += 1\n",
    "            else:\n",
    "                raws.append([row[0] + ',' + row[1], float(row[2])])\n",
    "    predict_val_pair = sc.parallelize(raws)\n",
    "\n",
    "    raws = []\n",
    "    with open(test_file_path, 'r') as f:\n",
    "        csv_reader = csv.reader(f, delimiter=',')\n",
    "        line_count = 0\n",
    "        for row in csv_reader:\n",
    "            if line_count == 0:\n",
    "                line_count += 1\n",
    "            else:\n",
    "                raws.append([row[0] + ',' + row[1], float(row[2])])\n",
    "    ground_val_pair = sc.parallelize(raws)\n",
    "\n",
    "    val_RMSE = (ground_val_pair.join(predict_val_pair).map(lambda x: (x[1][0] - x[1][1]) ** 2).mean()) ** 0.5\n",
    "    sc.stop()\n",
    "    return val_RMSE\n",
    "\n",
    "def error_distribution(output_file_path, test_file_path):\n",
    "    conf = SparkConf().set('spark.driver.host', '127.0.0.1')\n",
    "    sc = SparkContext(master='local', appName='myAppName', conf=conf)\n",
    "    raws = []\n",
    "    with open(output_file_path, 'r') as f:\n",
    "        csv_reader = csv.reader(f, delimiter=',')\n",
    "        line_count = 0\n",
    "        for row in csv_reader:\n",
    "            if line_count == 0:\n",
    "                line_count += 1\n",
    "            else:\n",
    "                raws.append([row[0] + ',' + row[1], float(row[2])])\n",
    "    predict_val_pair = sc.parallelize(raws)\n",
    "\n",
    "    raws = []\n",
    "    with open(test_file_path, 'r') as f:\n",
    "        csv_reader = csv.reader(f, delimiter=',')\n",
    "        line_count = 0\n",
    "        for row in csv_reader:\n",
    "            if line_count == 0:\n",
    "                line_count += 1\n",
    "            else:\n",
    "                raws.append([row[0] + ',' + row[1], float(row[2])])\n",
    "    ground_val_pair = sc.parallelize(raws)\n",
    "    err_dict = ground_val_pair.join(predict_val_pair).map(lambda x: abs(x[1][0] - x[1][1])).map(lambda x: (int(x), 1)).reduceByKey(\n",
    "        lambda a, b: a + b).collectAsMap()\n",
    "    print(\"Error Distribution:\")\n",
    "    for i in range(5):\n",
    "        if i != 4:\n",
    "            if i in err_dict:\n",
    "                print(\">=%d and <%d: %d\" % (i, i + 1, err_dict[i]))\n",
    "            else:\n",
    "                print(\">=%d and <%d: %d\" % (i, i + 1, 0))\n",
    "        else:\n",
    "            if i in err_dict:\n",
    "                print(\">=4: %d\" % err_dict[i])\n",
    "            else:\n",
    "                print(\">=4: 0\")\n",
    "    sc.stop()"
   ]
  },
  {
   "cell_type": "code",
   "execution_count": 32,
   "metadata": {},
   "outputs": [
    {
     "name": "stdout",
     "output_type": "stream",
     "text": [
      "Error Distribution:\n",
      ">=0 and <1: 96910\n",
      ">=1 and <2: 37451\n",
      ">=2 and <3: 7051\n",
      ">=3 and <4: 632\n",
      ">=4: 0\n",
      "RMSE= 1.0191399968701205\n"
     ]
    }
   ],
   "source": [
    "output_file_path = \"./local_avg_val_pred.csv\"\n",
    "test_file_path = \"/Users/liangsiqi/Documents/Dataset/inf553final_competition/yelp_val.csv\"\n",
    "rmse = cal_RMSE(output_file_path, test_file_path)\n",
    "error_distribution(output_file_path, test_file_path)\n",
    "print(\"RMSE=\",rmse)"
   ]
  },
  {
   "cell_type": "code",
   "execution_count": null,
   "metadata": {},
   "outputs": [],
   "source": []
  }
 ],
 "metadata": {
  "kernelspec": {
   "display_name": "Python [conda env:inf553]",
   "language": "python",
   "name": "conda-env-inf553-py"
  },
  "language_info": {
   "codemirror_mode": {
    "name": "ipython",
    "version": 3
   },
   "file_extension": ".py",
   "mimetype": "text/x-python",
   "name": "python",
   "nbconvert_exporter": "python",
   "pygments_lexer": "ipython3",
   "version": "3.6.9"
  },
  "latex_envs": {
   "LaTeX_envs_menu_present": true,
   "autoclose": false,
   "autocomplete": true,
   "bibliofile": "biblio.bib",
   "cite_by": "apalike",
   "current_citInitial": 1,
   "eqLabelWithNumbers": true,
   "eqNumInitial": 1,
   "hotkeys": {
    "equation": "Ctrl-E",
    "itemize": "Ctrl-I"
   },
   "labels_anchors": false,
   "latex_user_defs": false,
   "report_style_numbering": false,
   "user_envs_cfg": false
  },
  "toc": {
   "base_numbering": 1,
   "nav_menu": {},
   "number_sections": true,
   "sideBar": true,
   "skip_h1_title": false,
   "title_cell": "Table of Contents",
   "title_sidebar": "Contents",
   "toc_cell": false,
   "toc_position": {},
   "toc_section_display": true,
   "toc_window_display": false
  }
 },
 "nbformat": 4,
 "nbformat_minor": 2
}
