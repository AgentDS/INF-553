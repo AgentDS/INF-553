{
 "cells": [
  {
   "cell_type": "code",
   "execution_count": 1,
   "metadata": {},
   "outputs": [],
   "source": [
    "from pyspark import SparkContext\n",
    "import json\n",
    "import csv\n",
    "import ast\n",
    "import re\n",
    "import pandas as pd\n",
    "import seaborn as sns\n",
    "from matplotlib import pyplot as plt"
   ]
  },
  {
   "cell_type": "code",
   "execution_count": 2,
   "metadata": {},
   "outputs": [],
   "source": [
    "output_file_path = \"/Users/liangsiqi/Documents/Dataset/inf553final_competition/val_pred.csv\"\n",
    "test_file_path = \"/Users/liangsiqi/Documents/Dataset/inf553final_competition/yelp_val.csv\""
   ]
  },
  {
   "cell_type": "code",
   "execution_count": 3,
   "metadata": {},
   "outputs": [],
   "source": [
    "path = \"/Users/liangsiqi/Documents/Dataset/inf553final_competition/\"\n",
    "business_file_name = \"business.json\"\n",
    "review_train_file_name = \"review_train.json\"\n",
    "user_file_name = \"user.json\""
   ]
  },
  {
   "cell_type": "code",
   "execution_count": 4,
   "metadata": {},
   "outputs": [],
   "source": [
    "def print_dict(d):\n",
    "    for i in d:\n",
    "        print(\"{0} : {1}\".format(i,d[i]))\n",
    "\n",
    "def user_extract(x):\n",
    "    user_id = x['user_id']\n",
    "    review_cnt = x['review_count']\n",
    "    if x['friends'] == 'None':\n",
    "        friends = 0\n",
    "    else:\n",
    "        friends = len(x['friends'])\n",
    "        \n",
    "    useful = x['useful']\n",
    "    cool = x['cool']\n",
    "    funny = x['funny']\n",
    "    fans = x['fans']\n",
    "    avg_star = x['average_stars']\n",
    "    # user_id, review_cnt, friends, useful, cool, funny, fans, avg_star\n",
    "    return (user_id, review_cnt, friends, useful, cool, funny, fans, avg_star)\n",
    "    \n",
    "def get_duration(string):\n",
    "    tmp = re.split('[\\-:]+',string)\n",
    "    duration = float(int(tmp[2]) - int(tmp[0]))\n",
    "    if duration < 0:\n",
    "        duration += 24\n",
    "    return duration\n",
    "    \n",
    "def business_extract(x):\n",
    "    bid = x['business_id']\n",
    "    state = x['state']\n",
    "    latitude = x['latitude']\n",
    "    longitude = x['longitude']\n",
    "    star = x['stars']\n",
    "    review_cnt = x['review_count']\n",
    "    if x['categories'] is None:\n",
    "        categories = []\n",
    "    else:\n",
    "        categories = sorted(x['categories'].split(', '))\n",
    "        \n",
    "    if x['hours'] is None:\n",
    "        duration = -1\n",
    "        mon = -1\n",
    "        tue = -1\n",
    "        wed = -1\n",
    "        thu = -1\n",
    "        fri = -1\n",
    "        sat = -1\n",
    "        sun = -1\n",
    "    else:\n",
    "        duration = len(x['hours'])\n",
    "        hours = x['hours']\n",
    "        if 'Monday' in hours:\n",
    "            mon = get_duration(hours['Monday'])\n",
    "        else:\n",
    "            mon = 0\n",
    "        if 'Tuesday' in hours:\n",
    "            tue = get_duration(hours['Tuesday'])\n",
    "        else:\n",
    "            tue = 0\n",
    "        if 'Wednesday' in hours:\n",
    "            wed = get_duration(hours['Wednesday'])\n",
    "        else:\n",
    "            wed = 0\n",
    "        if 'Thursday' in hours:\n",
    "            thu = get_duration(hours['Thursday'])\n",
    "        else:\n",
    "            thu = 0\n",
    "        if 'Friday' in hours:\n",
    "            fri = get_duration(hours['Friday'])\n",
    "        else:\n",
    "            fri = 0\n",
    "        if 'Saturday' in hours:\n",
    "            sat = get_duration(hours['Saturday'])\n",
    "        else:\n",
    "            sat = 0\n",
    "        if 'Sunday' in hours:\n",
    "            sun = get_duration(hours['Sunday'])\n",
    "        else:\n",
    "            sun = 0 \n",
    "    \n",
    "    BikeParking = 0\n",
    "    NoiseLevel = -1\n",
    "    GoodForKids = -1\n",
    "    BusinessParking = -1\n",
    "    \n",
    "    RestaurantsPriceRange = -1\n",
    "    if isinstance(x['attributes'],dict):\n",
    "        attribute = x['attributes']\n",
    "        if 'BikeParking' in attribute:\n",
    "            if attribute['BikeParking'] == 'True':\n",
    "                BikeParking = 1\n",
    "        if 'NoiseLevel' in attribute:\n",
    "            NoiseLevel = attribute['NoiseLevel']    \n",
    "        if 'RestaurantsPriceRange2' in attribute:\n",
    "            RestaurantsPriceRange = int(attribute['RestaurantsPriceRange2'])       \n",
    "        if 'GoodForKids' in attribute:\n",
    "            if attribute['GoodForKids'] == 'True':\n",
    "                GoodForKids = 1\n",
    "            if attribute['GoodForKids'] == 'False':\n",
    "                GoodForKids = 0\n",
    "        if 'BusinessParking' in attribute:\n",
    "            acceptable_string = attribute['BusinessParking'].replace(\"'\", \"\\\"\")\n",
    "            BusinessParking_dict = ast.literal_eval(acceptable_string) \n",
    "            if any(list(BusinessParking_dict.values())):\n",
    "                BusinessParking = 1\n",
    "            else:\n",
    "                BusinessParking = 0\n",
    "            \n",
    "    # bid, state, star, latitude, longitude, review_cnt, BikeParking, BusinessParking, NoiseLevel, GoodForKids, categories, duration, mon, tue, wed, thu, fri, sat, sun\n",
    "    return (bid, state, star, latitude, longitude, review_cnt, BikeParking, BusinessParking, NoiseLevel, GoodForKids, categories, duration, mon, tue, wed, thu, fri, sat, sun)    \n",
    "\n"
   ]
  },
  {
   "cell_type": "code",
   "execution_count": 5,
   "metadata": {},
   "outputs": [],
   "source": [
    "sc = SparkContext.getOrCreate()"
   ]
  },
  {
   "cell_type": "code",
   "execution_count": 6,
   "metadata": {},
   "outputs": [],
   "source": [
    "userRDD = sc.textFile(path + user_file_name).map(json.loads)\n",
    "businessRDD = sc.textFile(path + business_file_name).map(json.loads)\n",
    "review_train_RDD = sc.textFile(path + review_train_file_name).map(json.loads)"
   ]
  },
  {
   "cell_type": "markdown",
   "metadata": {},
   "source": [
    "# ``user.json`` extraction"
   ]
  },
  {
   "cell_type": "code",
   "execution_count": 7,
   "metadata": {},
   "outputs": [
    {
     "name": "stdout",
     "output_type": "stream",
     "text": [
      "User sample:\n",
      "user_id : lzlZwIpuSWXEnNS91wxjHw\n",
      "name : Susan\n",
      "review_count : 1\n",
      "yelping_since : 2015-09-28\n",
      "friends : None\n",
      "useful : 0\n",
      "funny : 0\n",
      "cool : 0\n",
      "fans : 0\n",
      "elite : None\n",
      "average_stars : 2.0\n",
      "compliment_hot : 0\n",
      "compliment_more : 0\n",
      "compliment_profile : 0\n",
      "compliment_cute : 0\n",
      "compliment_list : 0\n",
      "compliment_note : 0\n",
      "compliment_plain : 0\n",
      "compliment_cool : 0\n",
      "compliment_funny : 0\n",
      "compliment_writer : 0\n",
      "compliment_photos : 0\n"
     ]
    }
   ],
   "source": [
    "print(\"User sample:\")\n",
    "print_dict(userRDD.take(1)[0])"
   ]
  },
  {
   "cell_type": "code",
   "execution_count": 9,
   "metadata": {},
   "outputs": [
    {
     "data": {
      "text/plain": [
       "[('lzlZwIpuSWXEnNS91wxjHw', 1, 0, 0, 0, 0, 0, 2.0),\n",
       " ('XvLBr-9smbI0m_a7dXtB7w', 2, 0, 0, 0, 0, 0, 5.0),\n",
       " ('QPT4Ud4H5sJVr68yXhoWFw', 1, 0, 0, 0, 0, 0, 4.0)]"
      ]
     },
     "execution_count": 9,
     "metadata": {},
     "output_type": "execute_result"
    }
   ],
   "source": [
    "user_profile = userRDD.map(user_extract)\n",
    "user_profile.take(3)"
   ]
  },
  {
   "cell_type": "code",
   "execution_count": 13,
   "metadata": {},
   "outputs": [],
   "source": [
    "user_profile_data = user_profile.collect()\n",
    "user_profile_df = pd.DataFrame(data=user_profile.collect(),\n",
    "                               columns=['user_id', 'review_cnt', \n",
    "                                       'friends', 'useful', 'cool', \n",
    "                                       'funny', 'fans', 'avg_star'])\n",
    "\n",
    "user_profile_df.to_csv(\"../data/user_feature.csv\",index=False)"
   ]
  },
  {
   "cell_type": "markdown",
   "metadata": {},
   "source": [
    "# ``business.json`` extraction"
   ]
  },
  {
   "cell_type": "code",
   "execution_count": 7,
   "metadata": {},
   "outputs": [
    {
     "name": "stdout",
     "output_type": "stream",
     "text": [
      "\n",
      "Business sample:\n",
      "business_id : Apn5Q_b6Nz61Tq4XzPdf9A\n",
      "name : Minhas Micro Brewery\n",
      "neighborhood : \n",
      "address : 1314 44 Avenue NE\n",
      "city : Calgary\n",
      "state : AB\n",
      "postal_code : T2E 6L6\n",
      "latitude : 51.0918130155\n",
      "longitude : -114.031674872\n",
      "stars : 4.0\n",
      "review_count : 24\n",
      "is_open : 1\n",
      "attributes : {'BikeParking': 'False', 'BusinessAcceptsCreditCards': 'True', 'BusinessParking': \"{'garage': False, 'street': True, 'validated': False, 'lot': False, 'valet': False}\", 'GoodForKids': 'True', 'HasTV': 'True', 'NoiseLevel': 'average', 'OutdoorSeating': 'False', 'RestaurantsAttire': 'casual', 'RestaurantsDelivery': 'False', 'RestaurantsGoodForGroups': 'True', 'RestaurantsPriceRange2': '2', 'RestaurantsReservations': 'True', 'RestaurantsTakeOut': 'True'}\n",
      "categories : Tours, Breweries, Pizza, Restaurants, Food, Hotels & Travel\n",
      "hours : {'Monday': '8:30-17:0', 'Tuesday': '11:0-21:0', 'Wednesday': '11:0-21:0', 'Thursday': '11:0-21:0', 'Friday': '11:0-21:0', 'Saturday': '11:0-21:0'}\n"
     ]
    }
   ],
   "source": [
    "print(\"\\nBusiness sample:\")\n",
    "print_dict(businessRDD.take(1)[0])"
   ]
  },
  {
   "cell_type": "code",
   "execution_count": 8,
   "metadata": {},
   "outputs": [
    {
     "name": "stdout",
     "output_type": "stream",
     "text": [
      "Business minimum info: {'state', 'review_count', 'city', 'attributes', 'latitude', 'categories', 'stars', 'longitude', 'is_open', 'postal_code', 'neighborhood', 'name', 'address', 'business_id', 'hours'}\n",
      "Business maximum info: {'state', 'review_count', 'city', 'attributes', 'latitude', 'categories', 'stars', 'longitude', 'is_open', 'postal_code', 'neighborhood', 'name', 'address', 'business_id', 'hours'}\n"
     ]
    }
   ],
   "source": [
    "min_bisiness_feat = businessRDD.map(lambda x: (1, set(list(x.keys())))).reduceByKey(lambda a,b: a.intersection(b)).collect()[0][1]\n",
    "max_bisiness_feat = businessRDD.map(lambda x: (1, set(list(x.keys())))).reduceByKey(lambda a,b: a.union(b)).collect()[0][1]\n",
    "print(\"Business minimum info:\",min_bisiness_feat)\n",
    "print(\"Business maximum info:\",max_bisiness_feat)"
   ]
  },
  {
   "cell_type": "code",
   "execution_count": 9,
   "metadata": {},
   "outputs": [
    {
     "data": {
      "text/html": [
       "<div>\n",
       "<style scoped>\n",
       "    .dataframe tbody tr th:only-of-type {\n",
       "        vertical-align: middle;\n",
       "    }\n",
       "\n",
       "    .dataframe tbody tr th {\n",
       "        vertical-align: top;\n",
       "    }\n",
       "\n",
       "    .dataframe thead th {\n",
       "        text-align: right;\n",
       "    }\n",
       "</style>\n",
       "<table border=\"1\" class=\"dataframe\">\n",
       "  <thead>\n",
       "    <tr style=\"text-align: right;\">\n",
       "      <th></th>\n",
       "      <th>business_id</th>\n",
       "      <th>state</th>\n",
       "      <th>star</th>\n",
       "      <th>latitude</th>\n",
       "      <th>longitude</th>\n",
       "      <th>review_cnt</th>\n",
       "      <th>BikeParking</th>\n",
       "      <th>BusinessParking</th>\n",
       "      <th>NoiseLevel</th>\n",
       "      <th>GoodForKids</th>\n",
       "      <th>categories</th>\n",
       "      <th>duration</th>\n",
       "      <th>mon</th>\n",
       "      <th>tue</th>\n",
       "      <th>wed</th>\n",
       "      <th>thu</th>\n",
       "      <th>fri</th>\n",
       "      <th>sat</th>\n",
       "      <th>sun</th>\n",
       "    </tr>\n",
       "  </thead>\n",
       "  <tbody>\n",
       "    <tr>\n",
       "      <th>0</th>\n",
       "      <td>Apn5Q_b6Nz61Tq4XzPdf9A</td>\n",
       "      <td>AB</td>\n",
       "      <td>4.0</td>\n",
       "      <td>51.091813</td>\n",
       "      <td>-114.031675</td>\n",
       "      <td>24</td>\n",
       "      <td>0</td>\n",
       "      <td>1</td>\n",
       "      <td>average</td>\n",
       "      <td>1</td>\n",
       "      <td>[Breweries, Food, Hotels &amp; Travel, Pizza, Rest...</td>\n",
       "      <td>6</td>\n",
       "      <td>9.0</td>\n",
       "      <td>10.0</td>\n",
       "      <td>10.0</td>\n",
       "      <td>10.0</td>\n",
       "      <td>10.0</td>\n",
       "      <td>10.0</td>\n",
       "      <td>0.0</td>\n",
       "    </tr>\n",
       "    <tr>\n",
       "      <th>1</th>\n",
       "      <td>AjEbIBw6ZFfln7ePHha9PA</td>\n",
       "      <td>NV</td>\n",
       "      <td>4.5</td>\n",
       "      <td>35.960734</td>\n",
       "      <td>-114.939821</td>\n",
       "      <td>3</td>\n",
       "      <td>0</td>\n",
       "      <td>1</td>\n",
       "      <td>-1</td>\n",
       "      <td>1</td>\n",
       "      <td>[Barbeque, Burgers, Caterers, Chicken Wings, E...</td>\n",
       "      <td>3</td>\n",
       "      <td>0.0</td>\n",
       "      <td>0.0</td>\n",
       "      <td>0.0</td>\n",
       "      <td>0.0</td>\n",
       "      <td>6.0</td>\n",
       "      <td>6.0</td>\n",
       "      <td>6.0</td>\n",
       "    </tr>\n",
       "    <tr>\n",
       "      <th>2</th>\n",
       "      <td>O8S5hYJ1SMc8fA4QBtVujA</td>\n",
       "      <td>QC</td>\n",
       "      <td>4.0</td>\n",
       "      <td>45.540503</td>\n",
       "      <td>-73.599300</td>\n",
       "      <td>5</td>\n",
       "      <td>1</td>\n",
       "      <td>0</td>\n",
       "      <td>average</td>\n",
       "      <td>1</td>\n",
       "      <td>[Breakfast &amp; Brunch, Cafes, French, Restaurant...</td>\n",
       "      <td>7</td>\n",
       "      <td>12.0</td>\n",
       "      <td>12.0</td>\n",
       "      <td>12.0</td>\n",
       "      <td>12.0</td>\n",
       "      <td>12.0</td>\n",
       "      <td>12.0</td>\n",
       "      <td>12.0</td>\n",
       "    </tr>\n",
       "    <tr>\n",
       "      <th>3</th>\n",
       "      <td>bFzdJJ3wp3PZssNEsyU23g</td>\n",
       "      <td>AZ</td>\n",
       "      <td>1.5</td>\n",
       "      <td>33.449999</td>\n",
       "      <td>-112.076979</td>\n",
       "      <td>8</td>\n",
       "      <td>0</td>\n",
       "      <td>-1</td>\n",
       "      <td>-1</td>\n",
       "      <td>-1</td>\n",
       "      <td>[Financial Services, Insurance]</td>\n",
       "      <td>-1</td>\n",
       "      <td>-1.0</td>\n",
       "      <td>-1.0</td>\n",
       "      <td>-1.0</td>\n",
       "      <td>-1.0</td>\n",
       "      <td>-1.0</td>\n",
       "      <td>-1.0</td>\n",
       "      <td>-1.0</td>\n",
       "    </tr>\n",
       "    <tr>\n",
       "      <th>4</th>\n",
       "      <td>8USyCYqpScwiNEb58Bt6CA</td>\n",
       "      <td>AB</td>\n",
       "      <td>2.0</td>\n",
       "      <td>51.035591</td>\n",
       "      <td>-114.027366</td>\n",
       "      <td>4</td>\n",
       "      <td>0</td>\n",
       "      <td>-1</td>\n",
       "      <td>-1</td>\n",
       "      <td>-1</td>\n",
       "      <td>[Automotive, Electronics Repair, Home &amp; Garden...</td>\n",
       "      <td>5</td>\n",
       "      <td>9.0</td>\n",
       "      <td>9.0</td>\n",
       "      <td>9.0</td>\n",
       "      <td>9.0</td>\n",
       "      <td>9.0</td>\n",
       "      <td>0.0</td>\n",
       "      <td>0.0</td>\n",
       "    </tr>\n",
       "  </tbody>\n",
       "</table>\n",
       "</div>"
      ],
      "text/plain": [
       "              business_id state  star   latitude   longitude  review_cnt  \\\n",
       "0  Apn5Q_b6Nz61Tq4XzPdf9A    AB   4.0  51.091813 -114.031675          24   \n",
       "1  AjEbIBw6ZFfln7ePHha9PA    NV   4.5  35.960734 -114.939821           3   \n",
       "2  O8S5hYJ1SMc8fA4QBtVujA    QC   4.0  45.540503  -73.599300           5   \n",
       "3  bFzdJJ3wp3PZssNEsyU23g    AZ   1.5  33.449999 -112.076979           8   \n",
       "4  8USyCYqpScwiNEb58Bt6CA    AB   2.0  51.035591 -114.027366           4   \n",
       "\n",
       "   BikeParking  BusinessParking NoiseLevel  GoodForKids  \\\n",
       "0            0                1    average            1   \n",
       "1            0                1         -1            1   \n",
       "2            1                0    average            1   \n",
       "3            0               -1         -1           -1   \n",
       "4            0               -1         -1           -1   \n",
       "\n",
       "                                          categories  duration   mon   tue  \\\n",
       "0  [Breweries, Food, Hotels & Travel, Pizza, Rest...         6   9.0  10.0   \n",
       "1  [Barbeque, Burgers, Caterers, Chicken Wings, E...         3   0.0   0.0   \n",
       "2  [Breakfast & Brunch, Cafes, French, Restaurant...         7  12.0  12.0   \n",
       "3                    [Financial Services, Insurance]        -1  -1.0  -1.0   \n",
       "4  [Automotive, Electronics Repair, Home & Garden...         5   9.0   9.0   \n",
       "\n",
       "    wed   thu   fri   sat   sun  \n",
       "0  10.0  10.0  10.0  10.0   0.0  \n",
       "1   0.0   0.0   6.0   6.0   6.0  \n",
       "2  12.0  12.0  12.0  12.0  12.0  \n",
       "3  -1.0  -1.0  -1.0  -1.0  -1.0  \n",
       "4   9.0   9.0   9.0   0.0   0.0  "
      ]
     },
     "execution_count": 9,
     "metadata": {},
     "output_type": "execute_result"
    }
   ],
   "source": [
    "business_profile = businessRDD.map(lambda x: business_extract(x))\n",
    "business_profile_data = business_profile.collect()\n",
    "business_profile_df = pd.DataFrame(data=business_profile_data,\n",
    "                                   columns=['business_id', 'state', 'star', \n",
    "                                            'latitude', 'longitude', 'review_cnt', \n",
    "                                            'BikeParking', 'BusinessParking', \n",
    "                                            'NoiseLevel', 'GoodForKids', 'categories', \n",
    "                                            'duration', 'mon', 'tue', 'wed', 'thu', \n",
    "                                            'fri', 'sat', 'sun'])\n",
    "\n",
    "business_profile_df.head()"
   ]
  },
  {
   "cell_type": "code",
   "execution_count": 10,
   "metadata": {},
   "outputs": [],
   "source": [
    "business_profile_df.to_csv(\"../data/business_features.csv\",index=False)"
   ]
  },
  {
   "cell_type": "markdown",
   "metadata": {},
   "source": [
    "# ``review_train.json`` extraction"
   ]
  },
  {
   "cell_type": "code",
   "execution_count": 15,
   "metadata": {},
   "outputs": [
    {
     "name": "stdout",
     "output_type": "stream",
     "text": [
      "\n",
      "Review sample:\n",
      "review_id : D2TcNaPqXxDGQ6T0n-vHXw\n",
      "user_id : YHWsLBS8jzZiPjKHMFOaAA\n",
      "business_id : iKMLsX1Je7P3wAOEc9scDg\n",
      "stars : 4.0\n",
      "date : 2011-11-07\n",
      "text : I have been itching to get to Origin for months now after a friend of mine had gone and raved about the food. I dug the concept: tapas with a twist. This is definitely not your traditional, Spanish tapas. At Origin, you'll sample small plates with Asian, Italian and Latin influences. I didn't find the menu overwhelming, but our server was more than happy to help steer the meal so that similar and complimentary flavours were eaten together.\n",
      "\n",
      "It was tough to narrow it down, as we would have been happy with just about anything on the menu. We started with the tostones: smashed, flattened and deep-fried plantains with guacamole on the side. The plantains were very well seasoned, with generous use of kosher salt and a light dusting of curry powder.\n",
      "\n",
      "Next up were the deviled eggs with smoked bacon and gremolata and the smoked cod croquettes with saffron aioli. Both were a big hit at the table, disappearing in a flash. I preferred the croquettes of the two, but I didn't exactly NOT eat my share of the deviled eggs either.\n",
      "\n",
      "Those scrumptious bites devoured, we ordered another bottle of wine (three cheers for Monday night dinners with lots of wine!) and anticipated the arrival of more delectable plates. While we waited, we marveled at the strangeness of the cutlery provided. The only way to balance your knife was blade up. That seemed...dangerous. Especially after the third glass of cabernet sauvignon.\n",
      "\n",
      "Our next dish appeared and we dove right back in (carefully, so as not to cut ourselves on our upturned knives). A gorgeously-presented order from the Mozzarella Bar: bufala mozzarella with pear, rosemary oil, pine nuts that was drizzled with honey and placed on a crunchy, toasted slice of calabrese bread.\n",
      "\n",
      "Next up was the Bangkok beef salad with peanuts, mint, mango, fried shallots and a sweet and sour dressing. There was a moment of hesitation while we all tried to dance around the fact that splitting this thing among the three of us might get violent. In the end however, we shared well (our kindergarten teachers would be so proud!). This wasn't an exceptionally complicated dish, but it was done to perfection: the beef was tender and pink; the mangoes were ripe and slippery; the shallots and peanuts added the crunch the dish needed; and the cilantro added the wonderful, bright note at the end. It should be noted that my friend said it was the third time she'd had this particular dish, and it was exactly the same every time. THAT is a sign of a great restaurant.\n",
      "\n",
      "Our final round of food was to arrive, and we were practically giddy with excitement. We had decided on the Chinois duck with pickled cucumber, hoisin and sriracha sauce on a chive pancake, the curried shrimp with naan and the miso-glazed black cod with soba noodles and a ginger vinaigrette. We knew each dish would be good, but didn't know HOW good. We had spent the first half of the meal happily eating away and we were by no means disappointed with our choices. But these last three dishes absolutely blew them all out of the water. The duck was crispy and, I must say, substantial. The kitchen does not scrimp on the portions at all with this dish! The sweet hoisin sauce was a great compliment to the duck and the heat of the sriracha. A definite must-order at Origin.\n",
      "\n",
      "Next up, we attacked the curried shrimp, which was intensely flavoured and perfectly spicy. The soft, aromatic naan bread sopped up the spicy broth that was left after devouring the plump, juicy shrimp. Another dish that hit its mark!\n",
      "\n",
      "Finally (and kind of sadly), we came to our last dish: the black cod. Black cod is one my favourite fish and I have it a fair bit. When I was out in Vancouver earlier this year, I had it almost once a day. but this black cod might be the best I've had...ever. It was flaky, tender and moist. The miso glaze was pleasantly salty and the skin, most importantly, was nice and crispy. The soba noodles were served with the ginger vinaigrette and by the time we were done, there was literally nothing left on the plate. In all likelihood, the best dish of the night though the three of us never could decide on a clear winner in that category.\n",
      "\n",
      "All in all, I would definitely recommend Origin to anyone who has some reasonably adventurous taste buds and who is willing to share. There is one composed plate that makes a meal - a burger combo with Spanish fries and a float. I have no doubt it's delicious, but it seems kind of beside the point of a restaurant like this. Go with friends, go on a date, go with family. It's not a cheap night out, but it is most definitely money well spent.\n",
      "useful : 4\n",
      "funny : 0\n",
      "cool : 0\n"
     ]
    }
   ],
   "source": [
    "print(\"\\nReview sample:\")\n",
    "print_dict(review_train_RDD.take(1)[0])"
   ]
  },
  {
   "cell_type": "markdown",
   "metadata": {},
   "source": [
    "# Check user features"
   ]
  },
  {
   "cell_type": "code",
   "execution_count": 21,
   "metadata": {},
   "outputs": [
    {
     "data": {
      "text/html": [
       "<div>\n",
       "<style scoped>\n",
       "    .dataframe tbody tr th:only-of-type {\n",
       "        vertical-align: middle;\n",
       "    }\n",
       "\n",
       "    .dataframe tbody tr th {\n",
       "        vertical-align: top;\n",
       "    }\n",
       "\n",
       "    .dataframe thead th {\n",
       "        text-align: right;\n",
       "    }\n",
       "</style>\n",
       "<table border=\"1\" class=\"dataframe\">\n",
       "  <thead>\n",
       "    <tr style=\"text-align: right;\">\n",
       "      <th></th>\n",
       "      <th>user_id</th>\n",
       "      <th>review_cnt</th>\n",
       "      <th>friends</th>\n",
       "      <th>useful</th>\n",
       "      <th>cool</th>\n",
       "      <th>funny</th>\n",
       "      <th>fans</th>\n",
       "      <th>avg_star</th>\n",
       "    </tr>\n",
       "  </thead>\n",
       "  <tbody>\n",
       "    <tr>\n",
       "      <th>0</th>\n",
       "      <td>lzlZwIpuSWXEnNS91wxjHw</td>\n",
       "      <td>1</td>\n",
       "      <td>0</td>\n",
       "      <td>0</td>\n",
       "      <td>0</td>\n",
       "      <td>0</td>\n",
       "      <td>0</td>\n",
       "      <td>2.00</td>\n",
       "    </tr>\n",
       "    <tr>\n",
       "      <th>1</th>\n",
       "      <td>XvLBr-9smbI0m_a7dXtB7w</td>\n",
       "      <td>2</td>\n",
       "      <td>0</td>\n",
       "      <td>0</td>\n",
       "      <td>0</td>\n",
       "      <td>0</td>\n",
       "      <td>0</td>\n",
       "      <td>5.00</td>\n",
       "    </tr>\n",
       "    <tr>\n",
       "      <th>2</th>\n",
       "      <td>QPT4Ud4H5sJVr68yXhoWFw</td>\n",
       "      <td>1</td>\n",
       "      <td>0</td>\n",
       "      <td>0</td>\n",
       "      <td>0</td>\n",
       "      <td>0</td>\n",
       "      <td>0</td>\n",
       "      <td>4.00</td>\n",
       "    </tr>\n",
       "    <tr>\n",
       "      <th>3</th>\n",
       "      <td>i5YitlHZpf0B3R0s_8NVuw</td>\n",
       "      <td>19</td>\n",
       "      <td>0</td>\n",
       "      <td>0</td>\n",
       "      <td>0</td>\n",
       "      <td>0</td>\n",
       "      <td>0</td>\n",
       "      <td>4.05</td>\n",
       "    </tr>\n",
       "    <tr>\n",
       "      <th>4</th>\n",
       "      <td>s4FoIXE_LSGviTHBe8dmcg</td>\n",
       "      <td>3</td>\n",
       "      <td>0</td>\n",
       "      <td>0</td>\n",
       "      <td>0</td>\n",
       "      <td>0</td>\n",
       "      <td>0</td>\n",
       "      <td>3.00</td>\n",
       "    </tr>\n",
       "  </tbody>\n",
       "</table>\n",
       "</div>"
      ],
      "text/plain": [
       "                  user_id  review_cnt  friends  useful  cool  funny  fans  \\\n",
       "0  lzlZwIpuSWXEnNS91wxjHw           1        0       0     0      0     0   \n",
       "1  XvLBr-9smbI0m_a7dXtB7w           2        0       0     0      0     0   \n",
       "2  QPT4Ud4H5sJVr68yXhoWFw           1        0       0     0      0     0   \n",
       "3  i5YitlHZpf0B3R0s_8NVuw          19        0       0     0      0     0   \n",
       "4  s4FoIXE_LSGviTHBe8dmcg           3        0       0     0      0     0   \n",
       "\n",
       "   avg_star  \n",
       "0      2.00  \n",
       "1      5.00  \n",
       "2      4.00  \n",
       "3      4.05  \n",
       "4      3.00  "
      ]
     },
     "execution_count": 21,
     "metadata": {},
     "output_type": "execute_result"
    }
   ],
   "source": [
    "user_features = pd.read_csv(\"../data/user_feature.csv\")\n",
    "user_features.head()"
   ]
  },
  {
   "cell_type": "code",
   "execution_count": 25,
   "metadata": {},
   "outputs": [
    {
     "data": {
      "text/plain": [
       "<seaborn.axisgrid.JointGrid at 0x1a4d8f7320>"
      ]
     },
     "execution_count": 25,
     "metadata": {},
     "output_type": "execute_result"
    },
    {
     "data": {
      "image/png": "[encoded data removed]",
      "text/plain": [
       "<Figure size 432x432 with 3 Axes>"
      ]
     },
     "metadata": {
      "needs_background": "light"
     },
     "output_type": "display_data"
    }
   ],
   "source": [
    "sns.jointplot(x=\"fans\", y=\"avg_star\", data=user_features, s=10)"
   ]
  },
  {
   "cell_type": "code",
   "execution_count": 24,
   "metadata": {},
   "outputs": [
    {
     "data": {
      "text/plain": [
       "<seaborn.axisgrid.JointGrid at 0x1a4d8f78d0>"
      ]
     },
     "execution_count": 24,
     "metadata": {},
     "output_type": "execute_result"
    },
    {
     "data": {
      "image/png": "[encoded data removed]",
      "text/plain": [
       "<Figure size 432x432 with 3 Axes>"
      ]
     },
     "metadata": {
      "needs_background": "light"
     },
     "output_type": "display_data"
    }
   ],
   "source": [
    "sns.jointplot(x=\"review_cnt\", y=\"avg_star\", data=user_features, s=10)"
   ]
  },
  {
   "cell_type": "code",
   "execution_count": 26,
   "metadata": {},
   "outputs": [
    {
     "data": {
      "text/plain": [
       "<seaborn.axisgrid.JointGrid at 0x1a4d3c6240>"
      ]
     },
     "execution_count": 26,
     "metadata": {},
     "output_type": "execute_result"
    },
    {
     "data": {
      "image/png": "[encoded data removed]",
      "text/plain": [
       "<Figure size 432x432 with 3 Axes>"
      ]
     },
     "metadata": {
      "needs_background": "light"
     },
     "output_type": "display_data"
    }
   ],
   "source": [
    "sns.jointplot(x=\"cool\", y=\"avg_star\", data=user_features, s=10)"
   ]
  },
  {
   "cell_type": "code",
   "execution_count": 27,
   "metadata": {},
   "outputs": [
    {
     "data": {
      "text/plain": [
       "<seaborn.axisgrid.JointGrid at 0x1a4f54ecf8>"
      ]
     },
     "execution_count": 27,
     "metadata": {},
     "output_type": "execute_result"
    },
    {
     "data": {
      "image/png": "[encoded data removed]",
      "text/plain": [
       "<Figure size 432x432 with 3 Axes>"
      ]
     },
     "metadata": {
      "needs_background": "light"
     },
     "output_type": "display_data"
    }
   ],
   "source": [
    "sns.jointplot(x=\"funny\", y=\"avg_star\", data=user_features, s=10)"
   ]
  },
  {
   "cell_type": "code",
   "execution_count": 28,
   "metadata": {},
   "outputs": [
    {
     "data": {
      "text/plain": [
       "<seaborn.axisgrid.JointGrid at 0x1a4f2b2470>"
      ]
     },
     "execution_count": 28,
     "metadata": {},
     "output_type": "execute_result"
    },
    {
     "data": {
      "image/png": "[encoded data removed]",
      "text/plain": [
       "<Figure size 432x432 with 3 Axes>"
      ]
     },
     "metadata": {
      "needs_background": "light"
     },
     "output_type": "display_data"
    }
   ],
   "source": [
    "sns.jointplot(x=\"useful\", y=\"avg_star\", data=user_features, s=10)"
   ]
  },
  {
   "cell_type": "code",
   "execution_count": 29,
   "metadata": {},
   "outputs": [
    {
     "data": {
      "text/plain": [
       "<seaborn.axisgrid.JointGrid at 0x1a53616160>"
      ]
     },
     "execution_count": 29,
     "metadata": {},
     "output_type": "execute_result"
    },
    {
     "data": {
      "image/png": "[encoded data removed]",
      "text/plain": [
       "<Figure size 432x432 with 3 Axes>"
      ]
     },
     "metadata": {
      "needs_background": "light"
     },
     "output_type": "display_data"
    }
   ],
   "source": [
    "sns.jointplot(x=\"useful\", y=\"fans\", data=user_features, s=10)"
   ]
  },
  {
   "cell_type": "code",
   "execution_count": 30,
   "metadata": {},
   "outputs": [
    {
     "data": {
      "text/plain": [
       "<seaborn.axisgrid.JointGrid at 0x1a54b9d940>"
      ]
     },
     "execution_count": 30,
     "metadata": {},
     "output_type": "execute_result"
    },
    {
     "data": {
      "image/png": "[encoded data removed]",
      "text/plain": [
       "<Figure size 432x432 with 3 Axes>"
      ]
     },
     "metadata": {
      "needs_background": "light"
     },
     "output_type": "display_data"
    }
   ],
   "source": [
    "sns.jointplot(x=\"cool\", y=\"fans\", data=user_features, s=10)"
   ]
  },
  {
   "cell_type": "code",
   "execution_count": 31,
   "metadata": {},
   "outputs": [
    {
     "data": {
      "text/plain": [
       "<seaborn.axisgrid.JointGrid at 0x1a5544e588>"
      ]
     },
     "execution_count": 31,
     "metadata": {},
     "output_type": "execute_result"
    },
    {
     "data": {
      "image/png": "[encoded data removed]",
      "text/plain": [
       "<Figure size 432x432 with 3 Axes>"
      ]
     },
     "metadata": {
      "needs_background": "light"
     },
     "output_type": "display_data"
    }
   ],
   "source": [
    "sns.jointplot(x=\"useful\", y=\"cool\", data=user_features, s=10)"
   ]
  },
  {
   "cell_type": "code",
   "execution_count": 34,
   "metadata": {},
   "outputs": [
    {
     "data": {
      "text/plain": [
       "<seaborn.axisgrid.JointGrid at 0x1a939bd7b8>"
      ]
     },
     "execution_count": 34,
     "metadata": {},
     "output_type": "execute_result"
    },
    {
     "data": {
      "image/png": "[encoded data removed]",
      "text/plain": [
       "<Figure size 432x432 with 3 Axes>"
      ]
     },
     "metadata": {
      "needs_background": "light"
     },
     "output_type": "display_data"
    }
   ],
   "source": [
    "sns.jointplot(x=\"useful\", y=\"funny\", data=user_features, s=10)"
   ]
  },
  {
   "cell_type": "code",
   "execution_count": 35,
   "metadata": {},
   "outputs": [
    {
     "data": {
      "text/plain": [
       "<seaborn.axisgrid.JointGrid at 0x1a948b2da0>"
      ]
     },
     "execution_count": 35,
     "metadata": {},
     "output_type": "execute_result"
    },
    {
     "data": {
      "image/png": "[encoded data removed]",
      "text/plain": [
       "<Figure size 432x432 with 3 Axes>"
      ]
     },
     "metadata": {
      "needs_background": "light"
     },
     "output_type": "display_data"
    }
   ],
   "source": [
    "sns.jointplot(x=\"cool\", y=\"funny\", data=user_features, s=10)"
   ]
  },
  {
   "cell_type": "markdown",
   "metadata": {},
   "source": [
    "# Business Features"
   ]
  },
  {
   "cell_type": "code",
   "execution_count": 11,
   "metadata": {},
   "outputs": [],
   "source": [
    "business_features = pd.read_csv(\"../data/business_features.csv\")"
   ]
  },
  {
   "cell_type": "code",
   "execution_count": 12,
   "metadata": {},
   "outputs": [
    {
     "data": {
      "text/html": [
       "<div>\n",
       "<style scoped>\n",
       "    .dataframe tbody tr th:only-of-type {\n",
       "        vertical-align: middle;\n",
       "    }\n",
       "\n",
       "    .dataframe tbody tr th {\n",
       "        vertical-align: top;\n",
       "    }\n",
       "\n",
       "    .dataframe thead th {\n",
       "        text-align: right;\n",
       "    }\n",
       "</style>\n",
       "<table border=\"1\" class=\"dataframe\">\n",
       "  <thead>\n",
       "    <tr style=\"text-align: right;\">\n",
       "      <th></th>\n",
       "      <th>business_id</th>\n",
       "      <th>state</th>\n",
       "      <th>star</th>\n",
       "      <th>latitude</th>\n",
       "      <th>longitude</th>\n",
       "      <th>review_cnt</th>\n",
       "      <th>BikeParking</th>\n",
       "      <th>BusinessParking</th>\n",
       "      <th>NoiseLevel</th>\n",
       "      <th>GoodForKids</th>\n",
       "      <th>categories</th>\n",
       "      <th>duration</th>\n",
       "      <th>mon</th>\n",
       "      <th>tue</th>\n",
       "      <th>wed</th>\n",
       "      <th>thu</th>\n",
       "      <th>fri</th>\n",
       "      <th>sat</th>\n",
       "      <th>sun</th>\n",
       "    </tr>\n",
       "  </thead>\n",
       "  <tbody>\n",
       "    <tr>\n",
       "      <th>0</th>\n",
       "      <td>Apn5Q_b6Nz61Tq4XzPdf9A</td>\n",
       "      <td>AB</td>\n",
       "      <td>4.0</td>\n",
       "      <td>51.091813</td>\n",
       "      <td>-114.031675</td>\n",
       "      <td>24</td>\n",
       "      <td>0</td>\n",
       "      <td>1</td>\n",
       "      <td>average</td>\n",
       "      <td>1</td>\n",
       "      <td>['Breweries', 'Food', 'Hotels &amp; Travel', 'Pizz...</td>\n",
       "      <td>6</td>\n",
       "      <td>9.0</td>\n",
       "      <td>10.0</td>\n",
       "      <td>10.0</td>\n",
       "      <td>10.0</td>\n",
       "      <td>10.0</td>\n",
       "      <td>10.0</td>\n",
       "      <td>0.0</td>\n",
       "    </tr>\n",
       "    <tr>\n",
       "      <th>1</th>\n",
       "      <td>AjEbIBw6ZFfln7ePHha9PA</td>\n",
       "      <td>NV</td>\n",
       "      <td>4.5</td>\n",
       "      <td>35.960734</td>\n",
       "      <td>-114.939821</td>\n",
       "      <td>3</td>\n",
       "      <td>0</td>\n",
       "      <td>1</td>\n",
       "      <td>-1</td>\n",
       "      <td>1</td>\n",
       "      <td>['Barbeque', 'Burgers', 'Caterers', 'Chicken W...</td>\n",
       "      <td>3</td>\n",
       "      <td>0.0</td>\n",
       "      <td>0.0</td>\n",
       "      <td>0.0</td>\n",
       "      <td>0.0</td>\n",
       "      <td>6.0</td>\n",
       "      <td>6.0</td>\n",
       "      <td>6.0</td>\n",
       "    </tr>\n",
       "    <tr>\n",
       "      <th>2</th>\n",
       "      <td>O8S5hYJ1SMc8fA4QBtVujA</td>\n",
       "      <td>QC</td>\n",
       "      <td>4.0</td>\n",
       "      <td>45.540503</td>\n",
       "      <td>-73.599300</td>\n",
       "      <td>5</td>\n",
       "      <td>1</td>\n",
       "      <td>0</td>\n",
       "      <td>average</td>\n",
       "      <td>1</td>\n",
       "      <td>['Breakfast &amp; Brunch', 'Cafes', 'French', 'Res...</td>\n",
       "      <td>7</td>\n",
       "      <td>12.0</td>\n",
       "      <td>12.0</td>\n",
       "      <td>12.0</td>\n",
       "      <td>12.0</td>\n",
       "      <td>12.0</td>\n",
       "      <td>12.0</td>\n",
       "      <td>12.0</td>\n",
       "    </tr>\n",
       "    <tr>\n",
       "      <th>3</th>\n",
       "      <td>bFzdJJ3wp3PZssNEsyU23g</td>\n",
       "      <td>AZ</td>\n",
       "      <td>1.5</td>\n",
       "      <td>33.449999</td>\n",
       "      <td>-112.076979</td>\n",
       "      <td>8</td>\n",
       "      <td>0</td>\n",
       "      <td>-1</td>\n",
       "      <td>-1</td>\n",
       "      <td>-1</td>\n",
       "      <td>['Financial Services', 'Insurance']</td>\n",
       "      <td>-1</td>\n",
       "      <td>-1.0</td>\n",
       "      <td>-1.0</td>\n",
       "      <td>-1.0</td>\n",
       "      <td>-1.0</td>\n",
       "      <td>-1.0</td>\n",
       "      <td>-1.0</td>\n",
       "      <td>-1.0</td>\n",
       "    </tr>\n",
       "    <tr>\n",
       "      <th>4</th>\n",
       "      <td>8USyCYqpScwiNEb58Bt6CA</td>\n",
       "      <td>AB</td>\n",
       "      <td>2.0</td>\n",
       "      <td>51.035591</td>\n",
       "      <td>-114.027366</td>\n",
       "      <td>4</td>\n",
       "      <td>0</td>\n",
       "      <td>-1</td>\n",
       "      <td>-1</td>\n",
       "      <td>-1</td>\n",
       "      <td>['Automotive', 'Electronics Repair', 'Home &amp; G...</td>\n",
       "      <td>5</td>\n",
       "      <td>9.0</td>\n",
       "      <td>9.0</td>\n",
       "      <td>9.0</td>\n",
       "      <td>9.0</td>\n",
       "      <td>9.0</td>\n",
       "      <td>0.0</td>\n",
       "      <td>0.0</td>\n",
       "    </tr>\n",
       "  </tbody>\n",
       "</table>\n",
       "</div>"
      ],
      "text/plain": [
       "              business_id state  star   latitude   longitude  review_cnt  \\\n",
       "0  Apn5Q_b6Nz61Tq4XzPdf9A    AB   4.0  51.091813 -114.031675          24   \n",
       "1  AjEbIBw6ZFfln7ePHha9PA    NV   4.5  35.960734 -114.939821           3   \n",
       "2  O8S5hYJ1SMc8fA4QBtVujA    QC   4.0  45.540503  -73.599300           5   \n",
       "3  bFzdJJ3wp3PZssNEsyU23g    AZ   1.5  33.449999 -112.076979           8   \n",
       "4  8USyCYqpScwiNEb58Bt6CA    AB   2.0  51.035591 -114.027366           4   \n",
       "\n",
       "   BikeParking  BusinessParking NoiseLevel  GoodForKids  \\\n",
       "0            0                1    average            1   \n",
       "1            0                1         -1            1   \n",
       "2            1                0    average            1   \n",
       "3            0               -1         -1           -1   \n",
       "4            0               -1         -1           -1   \n",
       "\n",
       "                                          categories  duration   mon   tue  \\\n",
       "0  ['Breweries', 'Food', 'Hotels & Travel', 'Pizz...         6   9.0  10.0   \n",
       "1  ['Barbeque', 'Burgers', 'Caterers', 'Chicken W...         3   0.0   0.0   \n",
       "2  ['Breakfast & Brunch', 'Cafes', 'French', 'Res...         7  12.0  12.0   \n",
       "3                ['Financial Services', 'Insurance']        -1  -1.0  -1.0   \n",
       "4  ['Automotive', 'Electronics Repair', 'Home & G...         5   9.0   9.0   \n",
       "\n",
       "    wed   thu   fri   sat   sun  \n",
       "0  10.0  10.0  10.0  10.0   0.0  \n",
       "1   0.0   0.0   6.0   6.0   6.0  \n",
       "2  12.0  12.0  12.0  12.0  12.0  \n",
       "3  -1.0  -1.0  -1.0  -1.0  -1.0  \n",
       "4   9.0   9.0   9.0   0.0   0.0  "
      ]
     },
     "execution_count": 12,
     "metadata": {},
     "output_type": "execute_result"
    }
   ],
   "source": [
    "business_features.head()"
   ]
  },
  {
   "cell_type": "code",
   "execution_count": 13,
   "metadata": {},
   "outputs": [
    {
     "data": {
      "text/html": [
       "<div>\n",
       "<style scoped>\n",
       "    .dataframe tbody tr th:only-of-type {\n",
       "        vertical-align: middle;\n",
       "    }\n",
       "\n",
       "    .dataframe tbody tr th {\n",
       "        vertical-align: top;\n",
       "    }\n",
       "\n",
       "    .dataframe thead th {\n",
       "        text-align: right;\n",
       "    }\n",
       "</style>\n",
       "<table border=\"1\" class=\"dataframe\">\n",
       "  <thead>\n",
       "    <tr style=\"text-align: right;\">\n",
       "      <th></th>\n",
       "      <th>star</th>\n",
       "      <th>latitude</th>\n",
       "      <th>longitude</th>\n",
       "      <th>review_cnt</th>\n",
       "      <th>BikeParking</th>\n",
       "      <th>BusinessParking</th>\n",
       "      <th>GoodForKids</th>\n",
       "      <th>duration</th>\n",
       "      <th>mon</th>\n",
       "      <th>tue</th>\n",
       "      <th>wed</th>\n",
       "      <th>thu</th>\n",
       "      <th>fri</th>\n",
       "      <th>sat</th>\n",
       "      <th>sun</th>\n",
       "    </tr>\n",
       "  </thead>\n",
       "  <tbody>\n",
       "    <tr>\n",
       "      <th>count</th>\n",
       "      <td>188593.000000</td>\n",
       "      <td>188587.000000</td>\n",
       "      <td>188587.000000</td>\n",
       "      <td>188593.000000</td>\n",
       "      <td>188593.000000</td>\n",
       "      <td>188593.000000</td>\n",
       "      <td>188593.000000</td>\n",
       "      <td>188593.000000</td>\n",
       "      <td>188593.000000</td>\n",
       "      <td>188593.000000</td>\n",
       "      <td>188593.00000</td>\n",
       "      <td>188593.000000</td>\n",
       "      <td>188593.000000</td>\n",
       "      <td>188593.000000</td>\n",
       "      <td>188593.000000</td>\n",
       "    </tr>\n",
       "    <tr>\n",
       "      <th>mean</th>\n",
       "      <td>3.631550</td>\n",
       "      <td>38.506793</td>\n",
       "      <td>-97.490873</td>\n",
       "      <td>31.797310</td>\n",
       "      <td>0.350692</td>\n",
       "      <td>-0.131521</td>\n",
       "      <td>-0.376679</td>\n",
       "      <td>4.630750</td>\n",
       "      <td>6.625967</td>\n",
       "      <td>6.991723</td>\n",
       "      <td>7.04454</td>\n",
       "      <td>7.121542</td>\n",
       "      <td>7.132306</td>\n",
       "      <td>5.874661</td>\n",
       "      <td>4.011077</td>\n",
       "    </tr>\n",
       "    <tr>\n",
       "      <th>std</th>\n",
       "      <td>1.016783</td>\n",
       "      <td>5.122684</td>\n",
       "      <td>17.693360</td>\n",
       "      <td>104.124212</td>\n",
       "      <td>0.477188</td>\n",
       "      <td>0.868556</td>\n",
       "      <td>0.890424</td>\n",
       "      <td>3.238593</td>\n",
       "      <td>5.769912</td>\n",
       "      <td>5.636014</td>\n",
       "      <td>5.61221</td>\n",
       "      <td>5.636879</td>\n",
       "      <td>5.730767</td>\n",
       "      <td>5.827760</td>\n",
       "      <td>5.538431</td>\n",
       "    </tr>\n",
       "    <tr>\n",
       "      <th>min</th>\n",
       "      <td>1.000000</td>\n",
       "      <td>-71.753941</td>\n",
       "      <td>-180.000000</td>\n",
       "      <td>3.000000</td>\n",
       "      <td>0.000000</td>\n",
       "      <td>-1.000000</td>\n",
       "      <td>-1.000000</td>\n",
       "      <td>-1.000000</td>\n",
       "      <td>-1.000000</td>\n",
       "      <td>-1.000000</td>\n",
       "      <td>-1.00000</td>\n",
       "      <td>-1.000000</td>\n",
       "      <td>-1.000000</td>\n",
       "      <td>-1.000000</td>\n",
       "      <td>-1.000000</td>\n",
       "    </tr>\n",
       "    <tr>\n",
       "      <th>25%</th>\n",
       "      <td>3.000000</td>\n",
       "      <td>33.630878</td>\n",
       "      <td>-112.279276</td>\n",
       "      <td>4.000000</td>\n",
       "      <td>0.000000</td>\n",
       "      <td>-1.000000</td>\n",
       "      <td>-1.000000</td>\n",
       "      <td>4.000000</td>\n",
       "      <td>0.000000</td>\n",
       "      <td>0.000000</td>\n",
       "      <td>0.00000</td>\n",
       "      <td>0.000000</td>\n",
       "      <td>0.000000</td>\n",
       "      <td>0.000000</td>\n",
       "      <td>0.000000</td>\n",
       "    </tr>\n",
       "    <tr>\n",
       "      <th>50%</th>\n",
       "      <td>3.500000</td>\n",
       "      <td>36.143595</td>\n",
       "      <td>-111.777460</td>\n",
       "      <td>9.000000</td>\n",
       "      <td>0.000000</td>\n",
       "      <td>0.000000</td>\n",
       "      <td>-1.000000</td>\n",
       "      <td>6.000000</td>\n",
       "      <td>9.000000</td>\n",
       "      <td>9.000000</td>\n",
       "      <td>9.00000</td>\n",
       "      <td>9.000000</td>\n",
       "      <td>9.000000</td>\n",
       "      <td>7.000000</td>\n",
       "      <td>0.000000</td>\n",
       "    </tr>\n",
       "    <tr>\n",
       "      <th>75%</th>\n",
       "      <td>4.500000</td>\n",
       "      <td>43.593106</td>\n",
       "      <td>-79.982958</td>\n",
       "      <td>24.000000</td>\n",
       "      <td>1.000000</td>\n",
       "      <td>1.000000</td>\n",
       "      <td>1.000000</td>\n",
       "      <td>7.000000</td>\n",
       "      <td>11.000000</td>\n",
       "      <td>11.000000</td>\n",
       "      <td>11.00000</td>\n",
       "      <td>11.000000</td>\n",
       "      <td>11.000000</td>\n",
       "      <td>11.000000</td>\n",
       "      <td>9.000000</td>\n",
       "    </tr>\n",
       "    <tr>\n",
       "      <th>max</th>\n",
       "      <td>5.000000</td>\n",
       "      <td>85.051129</td>\n",
       "      <td>115.086769</td>\n",
       "      <td>7968.000000</td>\n",
       "      <td>1.000000</td>\n",
       "      <td>1.000000</td>\n",
       "      <td>1.000000</td>\n",
       "      <td>7.000000</td>\n",
       "      <td>23.000000</td>\n",
       "      <td>23.000000</td>\n",
       "      <td>23.00000</td>\n",
       "      <td>23.000000</td>\n",
       "      <td>23.000000</td>\n",
       "      <td>23.000000</td>\n",
       "      <td>23.000000</td>\n",
       "    </tr>\n",
       "  </tbody>\n",
       "</table>\n",
       "</div>"
      ],
      "text/plain": [
       "                star       latitude      longitude     review_cnt  \\\n",
       "count  188593.000000  188587.000000  188587.000000  188593.000000   \n",
       "mean        3.631550      38.506793     -97.490873      31.797310   \n",
       "std         1.016783       5.122684      17.693360     104.124212   \n",
       "min         1.000000     -71.753941    -180.000000       3.000000   \n",
       "25%         3.000000      33.630878    -112.279276       4.000000   \n",
       "50%         3.500000      36.143595    -111.777460       9.000000   \n",
       "75%         4.500000      43.593106     -79.982958      24.000000   \n",
       "max         5.000000      85.051129     115.086769    7968.000000   \n",
       "\n",
       "         BikeParking  BusinessParking    GoodForKids       duration  \\\n",
       "count  188593.000000    188593.000000  188593.000000  188593.000000   \n",
       "mean        0.350692        -0.131521      -0.376679       4.630750   \n",
       "std         0.477188         0.868556       0.890424       3.238593   \n",
       "min         0.000000        -1.000000      -1.000000      -1.000000   \n",
       "25%         0.000000        -1.000000      -1.000000       4.000000   \n",
       "50%         0.000000         0.000000      -1.000000       6.000000   \n",
       "75%         1.000000         1.000000       1.000000       7.000000   \n",
       "max         1.000000         1.000000       1.000000       7.000000   \n",
       "\n",
       "                 mon            tue           wed            thu  \\\n",
       "count  188593.000000  188593.000000  188593.00000  188593.000000   \n",
       "mean        6.625967       6.991723       7.04454       7.121542   \n",
       "std         5.769912       5.636014       5.61221       5.636879   \n",
       "min        -1.000000      -1.000000      -1.00000      -1.000000   \n",
       "25%         0.000000       0.000000       0.00000       0.000000   \n",
       "50%         9.000000       9.000000       9.00000       9.000000   \n",
       "75%        11.000000      11.000000      11.00000      11.000000   \n",
       "max        23.000000      23.000000      23.00000      23.000000   \n",
       "\n",
       "                 fri            sat            sun  \n",
       "count  188593.000000  188593.000000  188593.000000  \n",
       "mean        7.132306       5.874661       4.011077  \n",
       "std         5.730767       5.827760       5.538431  \n",
       "min        -1.000000      -1.000000      -1.000000  \n",
       "25%         0.000000       0.000000       0.000000  \n",
       "50%         9.000000       7.000000       0.000000  \n",
       "75%        11.000000      11.000000       9.000000  \n",
       "max        23.000000      23.000000      23.000000  "
      ]
     },
     "execution_count": 13,
     "metadata": {},
     "output_type": "execute_result"
    }
   ],
   "source": [
    "business_features.describe()"
   ]
  },
  {
   "cell_type": "code",
   "execution_count": 18,
   "metadata": {},
   "outputs": [
    {
     "data": {
      "text/plain": [
       "<seaborn.axisgrid.JointGrid at 0x1a28f1e5f8>"
      ]
     },
     "execution_count": 18,
     "metadata": {},
     "output_type": "execute_result"
    },
    {
     "data": {
      "image/png": "[encoded data removed]",
      "text/plain": [
       "<Figure size 432x432 with 3 Axes>"
      ]
     },
     "metadata": {
      "needs_background": "light"
     },
     "output_type": "display_data"
    }
   ],
   "source": [
    "sns.jointplot(x=\"review_cnt\", y=\"star\", data=business_features, s=10)"
   ]
  },
  {
   "cell_type": "code",
   "execution_count": 19,
   "metadata": {},
   "outputs": [
    {
     "data": {
      "text/plain": [
       "<seaborn.axisgrid.JointGrid at 0x1a28458710>"
      ]
     },
     "execution_count": 19,
     "metadata": {},
     "output_type": "execute_result"
    },
    {
     "data": {
      "image/png": "[encoded data removed]",
      "text/plain": [
       "<Figure size 432x432 with 3 Axes>"
      ]
     },
     "metadata": {
      "needs_background": "light"
     },
     "output_type": "display_data"
    }
   ],
   "source": [
    "sns.jointplot(x=\"BikeParking\", y=\"star\", data=business_features, s=10)"
   ]
  },
  {
   "cell_type": "code",
   "execution_count": 20,
   "metadata": {},
   "outputs": [
    {
     "data": {
      "text/plain": [
       "<seaborn.axisgrid.JointGrid at 0x1a2858a630>"
      ]
     },
     "execution_count": 20,
     "metadata": {},
     "output_type": "execute_result"
    },
    {
     "data": {
      "image/png": "[encoded data removed]",
      "text/plain": [
       "<Figure size 432x432 with 3 Axes>"
      ]
     },
     "metadata": {
      "needs_background": "light"
     },
     "output_type": "display_data"
    }
   ],
   "source": [
    "sns.jointplot(x=\"BusinessParking\", y=\"star\", data=business_features, s=10)"
   ]
  },
  {
   "cell_type": "code",
   "execution_count": 22,
   "metadata": {},
   "outputs": [
    {
     "data": {
      "text/plain": [
       "<seaborn.axisgrid.JointGrid at 0x1a2bca0eb8>"
      ]
     },
     "execution_count": 22,
     "metadata": {},
     "output_type": "execute_result"
    },
    {
     "data": {
      "image/png": "[encoded data removed]",
      "text/plain": [
       "<Figure size 432x432 with 3 Axes>"
      ]
     },
     "metadata": {
      "needs_background": "light"
     },
     "output_type": "display_data"
    }
   ],
   "source": [
    "sns.jointplot(x=\"GoodForKids\", y=\"star\", data=business_features[business_features[\"GoodForKids\"]==-1], s=10)"
   ]
  },
  {
   "cell_type": "code",
   "execution_count": 23,
   "metadata": {},
   "outputs": [
    {
     "data": {
      "text/plain": [
       "<seaborn.axisgrid.JointGrid at 0x1a21b4c860>"
      ]
     },
     "execution_count": 23,
     "metadata": {},
     "output_type": "execute_result"
    },
    {
     "data": {
      "image/png": "[encoded data removed]",
      "text/plain": [
       "<Figure size 432x432 with 3 Axes>"
      ]
     },
     "metadata": {
      "needs_background": "light"
     },
     "output_type": "display_data"
    }
   ],
   "source": [
    "sns.jointplot(x=\"GoodForKids\", y=\"star\", data=business_features[business_features[\"GoodForKids\"]==0], s=10)"
   ]
  },
  {
   "cell_type": "code",
   "execution_count": 24,
   "metadata": {},
   "outputs": [
    {
     "data": {
      "text/plain": [
       "<seaborn.axisgrid.JointGrid at 0x1a2d8919b0>"
      ]
     },
     "execution_count": 24,
     "metadata": {},
     "output_type": "execute_result"
    },
    {
     "data": {
      "image/png": "[encoded data removed]",
      "text/plain": [
       "<Figure size 432x432 with 3 Axes>"
      ]
     },
     "metadata": {
      "needs_background": "light"
     },
     "output_type": "display_data"
    }
   ],
   "source": [
    "sns.jointplot(x=\"GoodForKids\", y=\"star\", data=business_features[business_features[\"GoodForKids\"]==1], s=10)"
   ]
  },
  {
   "cell_type": "markdown",
   "metadata": {},
   "source": [
    "## Business Duration & Stars"
   ]
  },
  {
   "cell_type": "code",
   "execution_count": 25,
   "metadata": {},
   "outputs": [
    {
     "data": {
      "text/plain": [
       "<seaborn.axisgrid.JointGrid at 0x1a2bbebda0>"
      ]
     },
     "execution_count": 25,
     "metadata": {},
     "output_type": "execute_result"
    },
    {
     "data": {
      "image/png": "[encoded data removed]",
      "text/plain": [
       "<Figure size 432x432 with 3 Axes>"
      ]
     },
     "metadata": {
      "needs_background": "light"
     },
     "output_type": "display_data"
    }
   ],
   "source": [
    "sns.jointplot(x=\"duration\", y=\"star\", data=business_features, s=10)"
   ]
  },
  {
   "cell_type": "code",
   "execution_count": 29,
   "metadata": {},
   "outputs": [
    {
     "data": {
      "text/plain": [
       " 7    86378\n",
       "-1    44802\n",
       " 6    32201\n",
       " 5    21758\n",
       " 4     2152\n",
       " 3      614\n",
       " 2      349\n",
       " 1      339\n",
       "Name: duration, dtype: int64"
      ]
     },
     "execution_count": 29,
     "metadata": {},
     "output_type": "execute_result"
    }
   ],
   "source": [
    "business_features['duration'].value_counts()"
   ]
  },
  {
   "cell_type": "code",
   "execution_count": 37,
   "metadata": {},
   "outputs": [
    {
     "data": {
      "text/plain": [
       "<matplotlib.axes._subplots.AxesSubplot at 0x1a2ec82be0>"
      ]
     },
     "execution_count": 37,
     "metadata": {},
     "output_type": "execute_result"
    },
    {
     "data": {
      "image/png": "[encoded data removed]",
      "text/plain": [
       "<Figure size 432x288 with 1 Axes>"
      ]
     },
     "metadata": {
      "needs_background": "light"
     },
     "output_type": "display_data"
    }
   ],
   "source": [
    "# duration = -1\n",
    "sns.distplot(business_features[business_features['duration']==-1]['star'],kde=False)"
   ]
  },
  {
   "cell_type": "code",
   "execution_count": 38,
   "metadata": {},
   "outputs": [
    {
     "data": {
      "text/plain": [
       "<matplotlib.axes._subplots.AxesSubplot at 0x1a2ecf5b70>"
      ]
     },
     "execution_count": 38,
     "metadata": {},
     "output_type": "execute_result"
    },
    {
     "data": {
      "image/png": "[encoded data removed]",
      "text/plain": [
       "<Figure size 432x288 with 1 Axes>"
      ]
     },
     "metadata": {
      "needs_background": "light"
     },
     "output_type": "display_data"
    }
   ],
   "source": [
    "# duration = 1\n",
    "sns.distplot(business_features[business_features['duration']==1]['star'],kde=False)"
   ]
  },
  {
   "cell_type": "code",
   "execution_count": 39,
   "metadata": {},
   "outputs": [
    {
     "data": {
      "text/plain": [
       "<matplotlib.axes._subplots.AxesSubplot at 0x1a2c2634a8>"
      ]
     },
     "execution_count": 39,
     "metadata": {},
     "output_type": "execute_result"
    },
    {
     "data": {
      "image/png": "[encoded data removed]",
      "text/plain": [
       "<Figure size 432x288 with 1 Axes>"
      ]
     },
     "metadata": {
      "needs_background": "light"
     },
     "output_type": "display_data"
    }
   ],
   "source": [
    "# duration = 2\n",
    "sns.distplot(business_features[business_features['duration']==2]['star'],kde=False)"
   ]
  },
  {
   "cell_type": "code",
   "execution_count": 40,
   "metadata": {},
   "outputs": [
    {
     "data": {
      "text/plain": [
       "<matplotlib.axes._subplots.AxesSubplot at 0x1a2eeb60b8>"
      ]
     },
     "execution_count": 40,
     "metadata": {},
     "output_type": "execute_result"
    },
    {
     "data": {
      "image/png": "[encoded data removed]",
      "text/plain": [
       "<Figure size 432x288 with 1 Axes>"
      ]
     },
     "metadata": {
      "needs_background": "light"
     },
     "output_type": "display_data"
    }
   ],
   "source": [
    "# duration = 3\n",
    "sns.distplot(business_features[business_features['duration']==3]['star'],kde=False)"
   ]
  },
  {
   "cell_type": "code",
   "execution_count": 41,
   "metadata": {},
   "outputs": [
    {
     "data": {
      "text/plain": [
       "<matplotlib.axes._subplots.AxesSubplot at 0x1a2efa0978>"
      ]
     },
     "execution_count": 41,
     "metadata": {},
     "output_type": "execute_result"
    },
    {
     "data": {
      "image/png": "[encoded data removed]",
      "text/plain": [
       "<Figure size 432x288 with 1 Axes>"
      ]
     },
     "metadata": {
      "needs_background": "light"
     },
     "output_type": "display_data"
    }
   ],
   "source": [
    "# duration = 4\n",
    "sns.distplot(business_features[business_features['duration']==4]['star'],kde=False)"
   ]
  },
  {
   "cell_type": "code",
   "execution_count": 42,
   "metadata": {},
   "outputs": [
    {
     "data": {
      "text/plain": [
       "<matplotlib.axes._subplots.AxesSubplot at 0x1a2f098780>"
      ]
     },
     "execution_count": 42,
     "metadata": {},
     "output_type": "execute_result"
    },
    {
     "data": {
      "image/png": "[encoded data removed]",
      "text/plain": [
       "<Figure size 432x288 with 1 Axes>"
      ]
     },
     "metadata": {
      "needs_background": "light"
     },
     "output_type": "display_data"
    }
   ],
   "source": [
    "# duration = 5\n",
    "sns.distplot(business_features[business_features['duration']==5]['star'],kde=False)"
   ]
  },
  {
   "cell_type": "code",
   "execution_count": 43,
   "metadata": {},
   "outputs": [
    {
     "data": {
      "text/plain": [
       "<matplotlib.axes._subplots.AxesSubplot at 0x1a2f2fecf8>"
      ]
     },
     "execution_count": 43,
     "metadata": {},
     "output_type": "execute_result"
    },
    {
     "data": {
      "image/png": "[encoded data removed]",
      "text/plain": [
       "<Figure size 432x288 with 1 Axes>"
      ]
     },
     "metadata": {
      "needs_background": "light"
     },
     "output_type": "display_data"
    }
   ],
   "source": [
    "# duration = 6\n",
    "sns.distplot(business_features[business_features['duration']==6]['star'],kde=False)"
   ]
  },
  {
   "cell_type": "code",
   "execution_count": 44,
   "metadata": {
    "scrolled": true
   },
   "outputs": [
    {
     "data": {
      "text/plain": [
       "<matplotlib.axes._subplots.AxesSubplot at 0x1a2c4114e0>"
      ]
     },
     "execution_count": 44,
     "metadata": {},
     "output_type": "execute_result"
    },
    {
     "data": {
      "image/png": "[encoded data removed]",
      "text/plain": [
       "<Figure size 432x288 with 1 Axes>"
      ]
     },
     "metadata": {
      "needs_background": "light"
     },
     "output_type": "display_data"
    }
   ],
   "source": [
    "# duration = 7\n",
    "sns.distplot(business_features[business_features['duration']==7]['star'],kde=False)"
   ]
  },
  {
   "cell_type": "markdown",
   "metadata": {},
   "source": [
    "## Weekend Hours"
   ]
  },
  {
   "cell_type": "code",
   "execution_count": 46,
   "metadata": {},
   "outputs": [
    {
     "data": {
      "text/plain": [
       "-1.0     44802\n",
       " 0.0     27288\n",
       " 8.0     13688\n",
       " 9.0     13158\n",
       " 11.0    12871\n",
       " 12.0    12614\n",
       " 10.0    12214\n",
       " 7.0      8903\n",
       " 6.0      6747\n",
       " 13.0     5951\n",
       " 5.0      5553\n",
       " 14.0     5075\n",
       " 15.0     4977\n",
       " 4.0      4706\n",
       " 16.0     3019\n",
       " 3.0      1827\n",
       " 17.0     1654\n",
       " 18.0     1310\n",
       " 19.0      656\n",
       " 2.0       522\n",
       " 20.0      331\n",
       " 23.0      295\n",
       " 1.0       215\n",
       " 21.0      138\n",
       " 22.0       79\n",
       "Name: sat, dtype: int64"
      ]
     },
     "execution_count": 46,
     "metadata": {},
     "output_type": "execute_result"
    }
   ],
   "source": [
    "business_features['sat'].value_counts()"
   ]
  },
  {
   "cell_type": "code",
   "execution_count": 45,
   "metadata": {},
   "outputs": [
    {
     "data": {
      "text/plain": [
       "<matplotlib.axes._subplots.AxesSubplot at 0x1a2e3e37f0>"
      ]
     },
     "execution_count": 45,
     "metadata": {},
     "output_type": "execute_result"
    },
    {
     "data": {
      "image/png": "[encoded data removed]",
      "text/plain": [
       "<Figure size 432x288 with 1 Axes>"
      ]
     },
     "metadata": {
      "needs_background": "light"
     },
     "output_type": "display_data"
    }
   ],
   "source": [
    "sns.distplot(business_features[business_features['sat']==-1]['star'],kde=False)"
   ]
  },
  {
   "cell_type": "code",
   "execution_count": 47,
   "metadata": {},
   "outputs": [
    {
     "data": {
      "text/plain": [
       "<matplotlib.axes._subplots.AxesSubplot at 0x1a2f39f588>"
      ]
     },
     "execution_count": 47,
     "metadata": {},
     "output_type": "execute_result"
    },
    {
     "data": {
      "image/png": "[encoded data removed]",
      "text/plain": [
       "<Figure size 432x288 with 1 Axes>"
      ]
     },
     "metadata": {
      "needs_background": "light"
     },
     "output_type": "display_data"
    }
   ],
   "source": [
    "sns.distplot(business_features[business_features['sat']==0]['star'],kde=False)"
   ]
  },
  {
   "cell_type": "code",
   "execution_count": 50,
   "metadata": {},
   "outputs": [
    {
     "data": {
      "text/plain": [
       "<matplotlib.axes._subplots.AxesSubplot at 0x1a2eac5a20>"
      ]
     },
     "execution_count": 50,
     "metadata": {},
     "output_type": "execute_result"
    },
    {
     "data": {
      "image/png": "[encoded data removed]",
      "text/plain": [
       "<Figure size 432x288 with 1 Axes>"
      ]
     },
     "metadata": {
      "needs_background": "light"
     },
     "output_type": "display_data"
    }
   ],
   "source": [
    "sns.distplot(business_features[business_features['sun']==-1]['star'],kde=False)"
   ]
  },
  {
   "cell_type": "code",
   "execution_count": 56,
   "metadata": {},
   "outputs": [
    {
     "data": {
      "text/plain": [
       "<seaborn.axisgrid.JointGrid at 0x1a3062ffd0>"
      ]
     },
     "execution_count": 56,
     "metadata": {},
     "output_type": "execute_result"
    },
    {
     "data": {
      "image/png": "[encoded data removed]",
      "text/plain": [
       "<Figure size 432x432 with 3 Axes>"
      ]
     },
     "metadata": {
      "needs_background": "light"
     },
     "output_type": "display_data"
    }
   ],
   "source": [
    "sns.jointplot(x=\"sat\", y=\"sun\", data=business_features, s=5)"
   ]
  },
  {
   "cell_type": "code",
   "execution_count": 58,
   "metadata": {},
   "outputs": [
    {
     "data": {
      "text/plain": [
       "<matplotlib.axes._subplots.AxesSubplot at 0x1a35c917b8>"
      ]
     },
     "execution_count": 58,
     "metadata": {},
     "output_type": "execute_result"
    },
    {
     "data": {
      "image/png": "[encoded data removed]",
      "text/plain": [
       "<Figure size 432x288 with 1 Axes>"
      ]
     },
     "metadata": {
      "needs_background": "light"
     },
     "output_type": "display_data"
    }
   ],
   "source": [
    "sns.distplot(business_features[business_features['sat']==-1]['star'],kde=False)"
   ]
  },
  {
   "cell_type": "code",
   "execution_count": 59,
   "metadata": {},
   "outputs": [
    {
     "data": {
      "text/plain": [
       "<matplotlib.axes._subplots.AxesSubplot at 0x1a35ff97f0>"
      ]
     },
     "execution_count": 59,
     "metadata": {},
     "output_type": "execute_result"
    },
    {
     "data": {
      "image/png": "[encoded data removed]",
      "text/plain": [
       "<Figure size 432x288 with 1 Axes>"
      ]
     },
     "metadata": {
      "needs_background": "light"
     },
     "output_type": "display_data"
    }
   ],
   "source": [
    "sns.distplot(business_features[business_features['sun']==-1]['star'],kde=False)"
   ]
  },
  {
   "cell_type": "code",
   "execution_count": 60,
   "metadata": {},
   "outputs": [
    {
     "data": {
      "text/plain": [
       "<matplotlib.axes._subplots.AxesSubplot at 0x1a32a14ef0>"
      ]
     },
     "execution_count": 60,
     "metadata": {},
     "output_type": "execute_result"
    },
    {
     "data": {
      "image/png": "[encoded data removed]",
      "text/plain": [
       "<Figure size 432x288 with 1 Axes>"
      ]
     },
     "metadata": {
      "needs_background": "light"
     },
     "output_type": "display_data"
    }
   ],
   "source": [
    "sns.distplot(business_features[business_features['sun']==0]['star'],kde=False)"
   ]
  },
  {
   "cell_type": "code",
   "execution_count": 61,
   "metadata": {},
   "outputs": [
    {
     "data": {
      "text/plain": [
       "<matplotlib.axes._subplots.AxesSubplot at 0x1a32a32fd0>"
      ]
     },
     "execution_count": 61,
     "metadata": {},
     "output_type": "execute_result"
    },
    {
     "data": {
      "image/png": "[encoded data removed]",
      "text/plain": [
       "<Figure size 432x288 with 1 Axes>"
      ]
     },
     "metadata": {
      "needs_background": "light"
     },
     "output_type": "display_data"
    }
   ],
   "source": [
    "sns.distplot(business_features[business_features['sat']==0]['star'],kde=False)"
   ]
  },
  {
   "cell_type": "markdown",
   "metadata": {},
   "source": [
    "## NoiseLevel"
   ]
  },
  {
   "cell_type": "code",
   "execution_count": 76,
   "metadata": {},
   "outputs": [
    {
     "data": {
      "text/plain": [
       "-1           144883\n",
       "average       28219\n",
       "quiet          9651\n",
       "loud           4082\n",
       "very_loud      1758\n",
       "Name: NoiseLevel, dtype: int64"
      ]
     },
     "execution_count": 76,
     "metadata": {},
     "output_type": "execute_result"
    }
   ],
   "source": [
    "business_features[\"NoiseLevel\"].value_counts()"
   ]
  },
  {
   "cell_type": "code",
   "execution_count": 84,
   "metadata": {},
   "outputs": [
    {
     "data": {
      "text/plain": [
       "<matplotlib.axes._subplots.AxesSubplot at 0x1a36fe3048>"
      ]
     },
     "execution_count": 84,
     "metadata": {},
     "output_type": "execute_result"
    },
    {
     "data": {
      "image/png": "[encoded data removed]",
      "text/plain": [
       "<Figure size 432x288 with 1 Axes>"
      ]
     },
     "metadata": {
      "needs_background": "light"
     },
     "output_type": "display_data"
    }
   ],
   "source": [
    "sns.distplot(business_features[business_features['NoiseLevel']=='-1']['star'],kde=False)"
   ]
  },
  {
   "cell_type": "code",
   "execution_count": 80,
   "metadata": {},
   "outputs": [
    {
     "data": {
      "text/plain": [
       "<matplotlib.axes._subplots.AxesSubplot at 0x1a36e02f60>"
      ]
     },
     "execution_count": 80,
     "metadata": {},
     "output_type": "execute_result"
    },
    {
     "data": {
      "image/png": "[encoded data removed]",
      "text/plain": [
       "<Figure size 432x288 with 1 Axes>"
      ]
     },
     "metadata": {
      "needs_background": "light"
     },
     "output_type": "display_data"
    }
   ],
   "source": [
    "sns.distplot(business_features[business_features['NoiseLevel']=='average']['star'],kde=False)"
   ]
  },
  {
   "cell_type": "code",
   "execution_count": 86,
   "metadata": {},
   "outputs": [
    {
     "data": {
      "text/plain": [
       "<matplotlib.axes._subplots.AxesSubplot at 0x1a32bf56a0>"
      ]
     },
     "execution_count": 86,
     "metadata": {},
     "output_type": "execute_result"
    },
    {
     "data": {
      "image/png": "[encoded data removed]",
      "text/plain": [
       "<Figure size 432x288 with 1 Axes>"
      ]
     },
     "metadata": {
      "needs_background": "light"
     },
     "output_type": "display_data"
    }
   ],
   "source": [
    "sns.distplot(business_features[business_features['NoiseLevel']=='quiet']['star'],kde=False)"
   ]
  },
  {
   "cell_type": "code",
   "execution_count": 87,
   "metadata": {},
   "outputs": [
    {
     "data": {
      "text/plain": [
       "<matplotlib.axes._subplots.AxesSubplot at 0x1a3495fcc0>"
      ]
     },
     "execution_count": 87,
     "metadata": {},
     "output_type": "execute_result"
    },
    {
     "data": {
      "image/png": "[encoded data removed]",
      "text/plain": [
       "<Figure size 432x288 with 1 Axes>"
      ]
     },
     "metadata": {
      "needs_background": "light"
     },
     "output_type": "display_data"
    }
   ],
   "source": [
    "sns.distplot(business_features[business_features['NoiseLevel']=='loud']['star'],kde=False)"
   ]
  },
  {
   "cell_type": "code",
   "execution_count": 88,
   "metadata": {},
   "outputs": [
    {
     "data": {
      "text/plain": [
       "<matplotlib.axes._subplots.AxesSubplot at 0x1a34955908>"
      ]
     },
     "execution_count": 88,
     "metadata": {},
     "output_type": "execute_result"
    },
    {
     "data": {
      "image/png": "[encoded data removed]",
      "text/plain": [
       "<Figure size 432x288 with 1 Axes>"
      ]
     },
     "metadata": {
      "needs_background": "light"
     },
     "output_type": "display_data"
    }
   ],
   "source": [
    "sns.distplot(business_features[business_features['NoiseLevel']=='very_loud']['star'],kde=False)"
   ]
  },
  {
   "cell_type": "code",
   "execution_count": null,
   "metadata": {},
   "outputs": [],
   "source": []
  }
 ],
 "metadata": {
  "kernelspec": {
   "display_name": "Python [conda env:inf553]",
   "language": "python",
   "name": "conda-env-inf553-py"
  },
  "language_info": {
   "codemirror_mode": {
    "name": "ipython",
    "version": 3
   },
   "file_extension": ".py",
   "mimetype": "text/x-python",
   "name": "python",
   "nbconvert_exporter": "python",
   "pygments_lexer": "ipython3",
   "version": "3.6.9"
  },
  "latex_envs": {
   "LaTeX_envs_menu_present": true,
   "autoclose": false,
   "autocomplete": true,
   "bibliofile": "biblio.bib",
   "cite_by": "apalike",
   "current_citInitial": 1,
   "eqLabelWithNumbers": true,
   "eqNumInitial": 1,
   "hotkeys": {
    "equation": "Ctrl-E",
    "itemize": "Ctrl-I"
   },
   "labels_anchors": false,
   "latex_user_defs": false,
   "report_style_numbering": false,
   "user_envs_cfg": false
  },
  "toc": {
   "base_numbering": 1,
   "nav_menu": {},
   "number_sections": true,
   "sideBar": true,
   "skip_h1_title": false,
   "title_cell": "Table of Contents",
   "title_sidebar": "Contents",
   "toc_cell": false,
   "toc_position": {
    "height": "calc(100% - 180px)",
    "left": "10px",
    "top": "150px",
    "width": "288px"
   },
   "toc_section_display": true,
   "toc_window_display": true
  }
 },
 "nbformat": 4,
 "nbformat_minor": 2
}
