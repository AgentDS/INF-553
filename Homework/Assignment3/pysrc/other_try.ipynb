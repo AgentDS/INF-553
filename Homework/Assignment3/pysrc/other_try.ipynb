{
 "cells": [
  {
   "cell_type": "code",
   "execution_count": 1,
   "metadata": {},
   "outputs": [],
   "source": [
    "import pyspark\n",
    "import random\n",
    "import time\n",
    "import itertools\n",
    "from collections import OrderedDict\n",
    "import sys\n",
    "sc= pyspark.SparkContext()\n",
    "input_path = \"../data/yelp_train.csv\"\n",
    "\n",
    "def min_hash(iterator):\n",
    "    iterator=list(iterator)\n",
    "    uid = iterator[1]\n",
    "    bid = iterator[0]\n",
    "    hash_val = []\n",
    "    for i in range(number_of_hash):\n",
    "        hash_values = []\n",
    "        for  j in uid:\n",
    "            hash_values.append((a[i] * j + b[i]) % len(users))\n",
    "        hash_val.append(min(hash_values))\n",
    "    return (bid, hash_val)\n",
    "\n",
    "def check_similarity(p):\n",
    "\n",
    "    u1=set(u_mat[p[0]])\n",
    "    u2=set(u_mat[p[1]])\n",
    "    int= len(u1.intersection(u2))\n",
    "    union=len(u1.union(u2))\n",
    "    sim=int/union\n",
    "    return p,float(sim)"
   ]
  },
  {
   "cell_type": "code",
   "execution_count": 2,
   "metadata": {},
   "outputs": [],
   "source": [
    "candidate_pairs=set()\n",
    "\n",
    "rdd=sc.textFile(input_path)\n",
    "header = rdd.first()\n",
    "rdd_1=rdd.filter(lambda x:x!= header).map(lambda x:x.split(','))\n",
    "\n",
    "#no of users and businesss\n",
    "users= rdd_1.map(lambda x:x[0]).distinct().collect()\n",
    "business_id=rdd_1.map(lambda x:x[1]).distinct().collect()\n",
    "\n",
    "dict_busi =OrderedDict()\n",
    "dict_users=OrderedDict()\n",
    "for i, v in enumerate(business_id, 0):\n",
    "    dict_busi[v] = i\n",
    "\n",
    "for i, v in enumerate(users, 0):\n",
    "    dict_users[v] = i\n",
    "\n",
    "pair_busi=list(dict_busi.values())\n",
    "\n",
    "# columns: [bidx, [uidx1, uidx2, ....]]\n",
    "rdd_2=rdd_1.map(lambda x:(dict_busi[x[1]],dict_users[x[0]])).groupByKey() \n",
    "u_mat=rdd_2.collectAsMap()\n",
    "\n",
    "\n",
    "a=[]\n",
    "b=[]\n",
    "# hash functions\n",
    "for x in range(150):\n",
    "    rand=random.randint(0,len(business_id))\n",
    "    while rand in a:\n",
    "        rand=random.randint(0,len(business_id))\n",
    "    a.append(rand)\n",
    "    while rand in a:\n",
    "        rand=random.randint(0,len(business_id))\n",
    "    b.append(rand)\n",
    "number_of_hash=len(a)"
   ]
  },
  {
   "cell_type": "code",
   "execution_count": 3,
   "metadata": {},
   "outputs": [],
   "source": [
    "# calculating signature matrix\n",
    "matrix = rdd_2.map(min_hash)"
   ]
  },
  {
   "cell_type": "code",
   "execution_count": 4,
   "metadata": {},
   "outputs": [
    {
     "data": {
      "text/plain": [
       "[(12262, <pyspark.resultiterable.ResultIterable at 0x11141e8d0>),\n",
       " (12264, <pyspark.resultiterable.ResultIterable at 0x11141e2e8>),\n",
       " (0, <pyspark.resultiterable.ResultIterable at 0x11141e198>)]"
      ]
     },
     "execution_count": 4,
     "metadata": {},
     "output_type": "execute_result"
    }
   ],
   "source": [
    "rdd_2.take(3)"
   ]
  },
  {
   "cell_type": "code",
   "execution_count": null,
   "metadata": {},
   "outputs": [],
   "source": []
  }
 ],
 "metadata": {
  "kernelspec": {
   "display_name": "Python [conda env:inf553]",
   "language": "python",
   "name": "conda-env-inf553-py"
  },
  "language_info": {
   "codemirror_mode": {
    "name": "ipython",
    "version": 3
   },
   "file_extension": ".py",
   "mimetype": "text/x-python",
   "name": "python",
   "nbconvert_exporter": "python",
   "pygments_lexer": "ipython3",
   "version": "3.6.9"
  },
  "latex_envs": {
   "LaTeX_envs_menu_present": true,
   "autoclose": false,
   "autocomplete": true,
   "bibliofile": "biblio.bib",
   "cite_by": "apalike",
   "current_citInitial": 1,
   "eqLabelWithNumbers": true,
   "eqNumInitial": 1,
   "hotkeys": {
    "equation": "Ctrl-E",
    "itemize": "Ctrl-I"
   },
   "labels_anchors": false,
   "latex_user_defs": false,
   "report_style_numbering": false,
   "user_envs_cfg": false
  },
  "toc": {
   "base_numbering": 1,
   "nav_menu": {},
   "number_sections": true,
   "sideBar": true,
   "skip_h1_title": false,
   "title_cell": "Table of Contents",
   "title_sidebar": "Contents",
   "toc_cell": false,
   "toc_position": {},
   "toc_section_display": true,
   "toc_window_display": false
  }
 },
 "nbformat": 4,
 "nbformat_minor": 2
}
