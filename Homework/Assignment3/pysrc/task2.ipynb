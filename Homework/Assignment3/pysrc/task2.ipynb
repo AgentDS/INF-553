{
 "cells": [
  {
   "cell_type": "code",
   "execution_count": 1,
   "metadata": {},
   "outputs": [],
   "source": [
    "from pyspark.mllib.recommendation import ALS, MatrixFactorizationModel, Rating\n",
    "from pyspark import SparkContext\n",
    "import csv\n",
    "from itertools import combinations\n",
    "from collections import OrderedDict,Counter\n",
    "import random\n",
    "from numpy.random import rand\n",
    "from matplotlib import pyplot as plt\n",
    "import pandas as pd\n",
    "%matplotlib inline"
   ]
  },
  {
   "cell_type": "code",
   "execution_count": 2,
   "metadata": {},
   "outputs": [],
   "source": [
    "def emit_idx_rating(lines,uid2idx_bc, bid2idx_bc):\n",
    "    for line in lines:\n",
    "        yield Rating(uid2idx_bc.value[line[0]],bid2idx_bc.value[line[1]],line[2])\n",
    "\n",
    "def emit_idx_rating_test(lines,uid2idx_bc, bid2idx_bc):\n",
    "    for line in lines:\n",
    "        if line[0] in uid2idx_bc.value.keys():\n",
    "            if line[1] in bid2idx_bc.value.keys():\n",
    "                yield Rating(uid2idx_bc.value[line[0]],bid2idx_bc.value[line[1]],line[2])\n",
    "            else:\n",
    "                yield Rating(uid2idx_bc.value[line[0]],-1,line[2])\n",
    "        else:\n",
    "            if line[1] in bid2idx_bc.value.keys():\n",
    "                yield Rating(-1,bid2idx_bc.value[line[1]],line[2])\n",
    "            else:\n",
    "                yield Rating(-1,-1,line[2])"
   ]
  },
  {
   "cell_type": "code",
   "execution_count": 20,
   "metadata": {},
   "outputs": [
    {
     "name": "stdout",
     "output_type": "stream",
     "text": [
      "train data size:  455854\n",
      "validation data size:  142044\n"
     ]
    }
   ],
   "source": [
    "\n",
    "train_file = \"/Users/liangsiqi/Documents/Dataset/yelp_rec_data/yelp_train.csv\"\n",
    "val_file = \"/Users/liangsiqi/Documents/Dataset/yelp_rec_data/yelp_val.csv\"\n",
    "\n",
    "\n",
    "raw_train = []\n",
    "with open(train_file, 'r') as f:\n",
    "    csv_reader = csv.reader(f, delimiter=',')\n",
    "    line_count = 0\n",
    "    for row in csv_reader:\n",
    "        if line_count == 0:\n",
    "            line_count += 1\n",
    "        else:\n",
    "            raw_train.append([row[0],row[1],float(row[2])])\n",
    "\n",
    "raw_val = []\n",
    "with open(val_file, 'r') as f:\n",
    "    csv_reader = csv.reader(f, delimiter=',')\n",
    "    line_count = 0\n",
    "    for row in csv_reader:\n",
    "        if line_count == 0:\n",
    "            line_count += 1\n",
    "        else:\n",
    "            raw_val.append([row[0],row[1],float(row[2])])\n",
    "\n",
    "print(\"train data size: \", len(raw_train))\n",
    "print(\"validation data size: \", len(raw_val))\n",
    "\n",
    "# numPartitions = 4\n",
    "# [user_id, business_id, stars]\n",
    "sc = SparkContext.getOrCreate()\n",
    "train_data = sc.parallelize(raw_train,5)\n",
    "val_data = sc.parallelize(raw_val,5)\n",
    "\n",
    "user_ids = train_data.map(lambda x: x[0]).distinct().collect()\n",
    "user_cnt = len(user_ids)\n",
    "business_ids = train_data.map(lambda x: x[1]).distinct().collect()\n",
    "business_cnt = len(business_ids)\n",
    "\n",
    "uid2idx = dict()\n",
    "bid2idx = dict()\n",
    "idx2bid = dict()\n",
    "for idx, uid in enumerate(user_ids, 0):\n",
    "    uid2idx[uid] = idx\n",
    "\n",
    "for idx, bid in enumerate(business_ids, 0):\n",
    "    bid2idx[bid] = idx\n",
    "    idx2bid[idx] = bid\n",
    "\n",
    "idx2bid_bc = sc.broadcast(idx2bid)\n",
    "uid2idx_bc = sc.broadcast(uid2idx)\n",
    "bid2idx_bc = sc.broadcast(bid2idx)"
   ]
  },
  {
   "cell_type": "code",
   "execution_count": 21,
   "metadata": {},
   "outputs": [
    {
     "name": "stdout",
     "output_type": "stream",
     "text": [
      "Number of missing uid, while bid exists:  0\n",
      "Number of missing bid, while uid exists:  307\n",
      "Number of missing both bid and uid:  0\n"
     ]
    }
   ],
   "source": [
    "train_ratings = train_data.mapPartitions(lambda lines: emit_idx_rating(lines,uid2idx_bc, bid2idx_bc))\n",
    "val_ratings = val_data.mapPartitions(lambda lines: emit_idx_rating_test(lines,uid2idx_bc, bid2idx_bc))\n",
    "\n",
    "uid_miss_num = val_ratings.filter(lambda x: x[0]==-1 and x[1]!=-1).count()\n",
    "bid_miss_num = val_ratings.filter(lambda x: x[0]!=-1 and x[1]==-1).count()\n",
    "both_id_miss_num = val_ratings.filter(lambda x: x[0]==-1 and x[1]==-1).count()\n",
    "print(\"Number of missing uid, while bid exists: \", uid_miss_num)\n",
    "print(\"Number of missing bid, while uid exists: \", bid_miss_num)\n",
    "print(\"Number of missing both bid and uid: \", both_id_miss_num)"
   ]
  },
  {
   "cell_type": "code",
   "execution_count": 22,
   "metadata": {},
   "outputs": [],
   "source": [
    "# Build the recommendation model using Alternating Least Squares\n",
    "ranks = [2,3,4,5,6,7,8,10]\n",
    "lambdas = [0.001, 0.1, 1]\n",
    "numIters = [10,15,20]\n",
    "\n",
    "model = ALS.train(train_ratings, 5, 15,0.1)"
   ]
  },
  {
   "cell_type": "code",
   "execution_count": 7,
   "metadata": {},
   "outputs": [
    {
     "name": "stdout",
     "output_type": "stream",
     "text": [
      "train RMSE = 0.7240783223993239\n"
     ]
    }
   ],
   "source": [
    "# Evaluate the model on training data\n",
    "testdata = train_ratings.map(lambda p: (p[0], p[1]))\n",
    "predictions = model.predictAll(testdata).map(lambda r: ((r[0], r[1]), r[2]))\n",
    "ratesAndPreds = train_ratings.map(lambda r: ((r[0], r[1]), r[2])).join(predictions)\n",
    "RMSE = ratesAndPreds.map(lambda r: (r[1][0] - r[1][1])**2).mean()**0.5\n",
    "print(\"train RMSE = \" + str(RMSE))"
   ]
  },
  {
   "cell_type": "code",
   "execution_count": 8,
   "metadata": {},
   "outputs": [
    {
     "name": "stdout",
     "output_type": "stream",
     "text": [
      "validation RMSE = 1.1380954567893296\n"
     ]
    }
   ],
   "source": [
    "# Evaluate the model on validation data\n",
    "valdata = val_ratings.map(lambda p: (p[0], p[1]))\n",
    "val_predictions = model.predictAll(valdata).map(lambda r: ((r[0], r[1]), r[2]))\n",
    "val_ratesAndPreds = val_ratings.map(lambda r: ((r[0], r[1]), r[2])).join(val_predictions)\n",
    "RMSE = val_ratesAndPreds.map(lambda r: (r[1][0] - r[1][1])**2).mean()**0.5\n",
    "print(\"validation RMSE = \" + str(RMSE))"
   ]
  },
  {
   "cell_type": "code",
   "execution_count": 24,
   "metadata": {},
   "outputs": [
    {
     "name": "stdout",
     "output_type": "stream",
     "text": [
      "1008\n"
     ]
    }
   ],
   "source": [
    "ranks = [2, 3, 4, 5, 6, 7]\n",
    "lambdas = [0.01, 0.02, 0.04, 0.08, 0.1, 0.2, 0.4, 0.7]\n",
    "numIters = [10, 15, 20]\n",
    "partition_num = [2, 3, 4, 5, 6, 7, 8]\n",
    "print(len(ranks)*len(lambdas)*len(numIters)*len(partition_num))"
   ]
  },
  {
   "cell_type": "code",
   "execution_count": null,
   "metadata": {},
   "outputs": [],
   "source": []
  }
 ],
 "metadata": {
  "kernelspec": {
   "display_name": "Python [conda env:inf553]",
   "language": "python",
   "name": "conda-env-inf553-py"
  },
  "language_info": {
   "codemirror_mode": {
    "name": "ipython",
    "version": 3
   },
   "file_extension": ".py",
   "mimetype": "text/x-python",
   "name": "python",
   "nbconvert_exporter": "python",
   "pygments_lexer": "ipython3",
   "version": "3.6.9"
  },
  "latex_envs": {
   "LaTeX_envs_menu_present": true,
   "autoclose": false,
   "autocomplete": true,
   "bibliofile": "biblio.bib",
   "cite_by": "apalike",
   "current_citInitial": 1,
   "eqLabelWithNumbers": true,
   "eqNumInitial": 1,
   "hotkeys": {
    "equation": "Ctrl-E",
    "itemize": "Ctrl-I"
   },
   "labels_anchors": false,
   "latex_user_defs": false,
   "report_style_numbering": false,
   "user_envs_cfg": false
  },
  "toc": {
   "base_numbering": 1,
   "nav_menu": {},
   "number_sections": true,
   "sideBar": true,
   "skip_h1_title": false,
   "title_cell": "Table of Contents",
   "title_sidebar": "Contents",
   "toc_cell": false,
   "toc_position": {},
   "toc_section_display": true,
   "toc_window_display": false
  }
 },
 "nbformat": 4,
 "nbformat_minor": 2
}
