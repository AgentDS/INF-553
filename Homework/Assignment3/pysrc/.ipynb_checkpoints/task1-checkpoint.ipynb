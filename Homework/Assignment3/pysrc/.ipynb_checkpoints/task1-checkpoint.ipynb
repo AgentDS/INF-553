{
 "cells": [
  {
   "cell_type": "code",
   "execution_count": 1,
   "metadata": {},
   "outputs": [],
   "source": [
    "from pyspark import SparkContext\n",
    "import csv\n",
    "from itertools import combinations\n",
    "from collections import OrderedDict,Counter\n",
    "import random\n",
    "from numpy.random import rand"
   ]
  },
  {
   "cell_type": "code",
   "execution_count": 2,
   "metadata": {},
   "outputs": [],
   "source": [
    "def id_to_index(iteration,order=\"u,b\"):\n",
    "    for review in iteration:\n",
    "        uidx = uid2idx[review[0]]\n",
    "        bidx = bid2idx[review[1]]\n",
    "        if order == \"u,b\":\n",
    "            yield (uidx,[bidx])\n",
    "        elif order == \"b,u\":\n",
    "            yield (bidx,[uidx])\n",
    "\n",
    "def sort_idxs(iteration):\n",
    "    for line in iteration:\n",
    "        yield (line[0],sorted(line[1]))\n",
    "        \n",
    "\n",
    "# [uidx, [h1(uidx), h2(uidx), ...]]\n",
    "def cal_hash(iters,a_list,b_list,user_cnt):\n",
    "    for x in iters:\n",
    "        yield (x,[(x*a + b) % user_cnt for a,b in zip(a_list,b_list)])\n",
    "\n",
    "        \n",
    "def emit_sig_band(signature_cols,r,b):\n",
    "    for sig_col in signature_cols:\n",
    "        for i in range(b):\n",
    "            band_cnt = str(i)\n",
    "            partial_sig = sig_col[1][i*r:(i+1)*r]\n",
    "            sig_bucket = '_'.join([str(sig) for sig in partial_sig])\n",
    "            sig_bucket = band_cnt + '_' + sig_bucket\n",
    "            yield (sig_bucket, [sig_col[0]])  # emit (sig_bucket, bidx)\n",
    "    \n",
    "\n",
    "            \n",
    "\n",
    "def emit_candidate_pairs(buckets):\n",
    "    pairs = []\n",
    "    for bucket in buckets:\n",
    "        if len(bucket[1])==2:\n",
    "            pair = ','.join([str(i) for i in sorted(bucket[1])])\n",
    "            if pair not in pairs: \n",
    "                pairs.append(pair)\n",
    "                yield pair\n",
    "        elif len(bucket[1])>2:\n",
    "            for pair in combinations(bucket[1],2):\n",
    "                pair = ','.join([str(i) for i in sorted(pair)])\n",
    "                if pair not in pairs:\n",
    "                    pairs.append(pair)\n",
    "                    yield pair\n",
    "\n",
    "                    \n",
    "def min_hash(iters,hash_bc):\n",
    "    hash_num = len(hash_bc.value[0])\n",
    "    for business_col in iters:\n",
    "        bidx = business_col[0]\n",
    "        uidxs = business_col[1]\n",
    "        tmp_signature_col = [[] for i in range(hash_num)]\n",
    "        for uidx in uidxs:\n",
    "            hash_col_u = hash_bc.value[uidx]\n",
    "            for i in range(hash_num):\n",
    "                tmp_signature_col[i].append(hash_col_u[i])\n",
    "        signature_col = [min(i) for i in tmp_signature_col]  # a little bit faster than using list(map(min,tmp_signature_col))\n",
    "        yield (bidx, signature_col)\n",
    "\n",
    "\n",
    "def cal_jaccard_sim(pairs,char_mat_bc):\n",
    "    for pair in pairs:\n",
    "        pair = [int(i) for i in pair.split(',')]\n",
    "        s1 = set(char_mat_bc.value[pair[0]])\n",
    "        s2 = set(char_mat_bc.value[pair[1]])\n",
    "        similarity = len(s1.intersection(s2)) / float(len(s1.union(s2)))\n",
    "        if similarity>=0.5:\n",
    "            yield [pair[0],pair[1],similarity]\n",
    "\n",
    "def transform_to_bid_pair(similar_pairs,idx_to_bid_bc):\n",
    "    for pair in similar_pairs:\n",
    "        bid_pair = sorted([idx_to_bid_bc.value[pair[0]],idx_to_bid_bc.value[pair[1]]])\n",
    "        yield [bid_pair[0],bid_pair[1],pair[2]]\n",
    "\n",
    "        \n",
    "def transform_to_bid_pair2(similar_pairs,idx_to_bid_bc):\n",
    "    for pair in similar_pairs:\n",
    "        pair = [int(i) for i in pair.split(',')]\n",
    "        bid_pair = sorted([idx_to_bid_bc.value[pair[0]],idx_to_bid_bc.value[pair[1]]])\n",
    "        yield [bid_pair[0],bid_pair[1]]        \n",
    "        "
   ]
  },
  {
   "cell_type": "code",
   "execution_count": 3,
   "metadata": {},
   "outputs": [
    {
     "name": "stdout",
     "output_type": "stream",
     "text": [
      "455855 455854\n"
     ]
    }
   ],
   "source": [
    "sc = SparkContext.getOrCreate()\n",
    "\n",
    "input_file = \"/Users/liangsiqi/Documents/Dataset/yelp_rec_data/yelp_train.csv\"\n",
    "minPartition = 5\n",
    "raw_data = sc.textFile(input_file,minPartition) #(input_file, minPartition)\n",
    "header = raw_data.first()\n",
    "clean_data = raw_data.filter(lambda x: x != header).mapPartitions(lambda x: csv.reader(x))\n",
    "\n",
    "print(raw_data.count(),clean_data.count())"
   ]
  },
  {
   "cell_type": "code",
   "execution_count": 4,
   "metadata": {},
   "outputs": [
    {
     "name": "stdout",
     "output_type": "stream",
     "text": [
      "Raw data example:\n",
      "user_id, business_id, stars\n",
      "['vxR_YV0atFxIxfOnF9uHjQ', 'gTw6PENNGl68ZPUpYWP50A', '5.0']\n",
      "['o0p-iTC5yTBV5Yab_7es4g', 'iAuOpYDfOTuzQ6OPpEiGwA', '4.0']\n",
      "['-qj9ouN0bzMXz1vfEslG-A', '5j7BnXXvlS69uLVHrY9Upw', '2.0']\n",
      "\n",
      "Total number in '/Users/liangsiqi/Documents/Dataset/yelp_rec_data/yelp_train.csv': 455854\n",
      "User id numbers: 11270\n",
      "Business id numbers: 24732\n"
     ]
    }
   ],
   "source": [
    "print(\"Raw data example:\")\n",
    "print(header)\n",
    "for line in clean_data.take(3):\n",
    "    print(line)\n",
    "print(\"\\nTotal number in '%s': %d\" % (input_file, clean_data.count()))\n",
    "\n",
    "user_ids = clean_data.map(lambda x: x[0]).distinct().collect()\n",
    "business_ids = clean_data.map(lambda x: x[1]).distinct().collect()\n",
    "print(\"User id numbers: %d\" % len(user_ids))\n",
    "print(\"Business id numbers: %d\" % len(business_ids))\n",
    "\n",
    "uid2idx = dict()\n",
    "bid2idx = dict()\n",
    "idx2bid = dict()\n",
    "for idx,uid in enumerate(user_ids,0):\n",
    "    uid2idx[uid] = idx\n",
    "\n",
    "for idx,bid in enumerate(business_ids,0):\n",
    "    bid2idx[bid] = idx\n",
    "    idx2bid[idx] = bid\n",
    "\n",
    "idx2bid_bc = sc.broadcast(idx2bid)\n",
    "\n",
    "\n",
    "        \n",
    "# convert to [uidx,[bidx1, bidx2, ...]], [bidx1, bidx2, ...] is sorted\n",
    "rows = clean_data.mapPartitions(lambda iters: id_to_index(iters,\"u,b\")).reduceByKey(lambda a,b: a+b).mapPartitions(lambda iters: sort_idxs(iters))\n",
    "rows.persist() # TODO???\n",
    "# convert to [bidx,[uidx1, uidx2, ...]] , [uidx1, uidx2, ...] is sorted\n",
    "columns = clean_data.mapPartitions(lambda iters: id_to_index(iters,\"b,u\")).reduceByKey(lambda a,b: a+b).mapPartitions(lambda iters: sort_idxs(iters))\n",
    "columns.persist() # TODO???\n",
    "columns_bc = sc.broadcast(columns.collectAsMap())"
   ]
  },
  {
   "cell_type": "code",
   "execution_count": 5,
   "metadata": {},
   "outputs": [
    {
     "name": "stdout",
     "output_type": "stream",
     "text": [
      "0.3218297948685433\n"
     ]
    }
   ],
   "source": [
    "random.seed(42)\n",
    "user_cnt = len(user_ids)\n",
    "business_cnt = len(business_ids)\n",
    "r = 3\n",
    "b = 30\n",
    "print((1/b)**(1/r))\n",
    "hash_num = r*b\n",
    "a_values = []\n",
    "b_values = []\n",
    "for i in range(hash_num):\n",
    "    a_r = random.randint(1,business_cnt)\n",
    "    while a_r in a_values:\n",
    "        a_r = random.randint(1,business_cnt)\n",
    "    a_values.append(a_r)\n",
    "    b_values.append(random.randint(1,business_cnt))\n",
    "\n",
    "    \n",
    "\n",
    "# {uidx1: [h1(uidx1), h2(uidx1), ...], \n",
    "#  uidx2: [h1(uidx2), h2(uidx2), ...],\n",
    "#  ...}\n",
    "hash_values = rows.keys().mapPartitions(lambda iters: cal_hash(iters, a_values,b_values,user_cnt)).collectAsMap()\n",
    "\n",
    "hash_values_bc = sc.broadcast(hash_values)\n",
    "\n",
    "\n",
    "# (bidx, [sig1,sig2, ...])\n",
    "signature_mat = columns.mapPartitions(lambda iteration: min_hash(iteration, hash_values_bc))\n"
   ]
  },
  {
   "cell_type": "code",
   "execution_count": 6,
   "metadata": {},
   "outputs": [
    {
     "name": "stdout",
     "output_type": "stream",
     "text": [
      "===Total number of possible candidate groups:  21813\n"
     ]
    }
   ],
   "source": [
    "candidates = signature_mat.mapPartitions(lambda signature_cols: emit_sig_band(signature_cols,r,b)).reduceByKey(lambda a,b: a+b).filter(lambda x: len(x[1])>1)\n",
    "print(\"===Total number of possible candidate groups: \",candidates.count())"
   ]
  },
  {
   "cell_type": "code",
   "execution_count": 7,
   "metadata": {},
   "outputs": [
    {
     "data": {
      "text/plain": [
       "Counter({3: 3018,\n",
       "         2: 16690,\n",
       "         11: 31,\n",
       "         4: 1001,\n",
       "         5: 447,\n",
       "         7: 125,\n",
       "         13: 15,\n",
       "         6: 212,\n",
       "         14: 12,\n",
       "         37: 1,\n",
       "         20: 3,\n",
       "         10: 42,\n",
       "         8: 84,\n",
       "         12: 21,\n",
       "         26: 3,\n",
       "         18: 9,\n",
       "         9: 48,\n",
       "         16: 7,\n",
       "         58: 1,\n",
       "         25: 1,\n",
       "         27: 3,\n",
       "         15: 9,\n",
       "         23: 2,\n",
       "         94: 1,\n",
       "         24: 2,\n",
       "         17: 9,\n",
       "         21: 3,\n",
       "         30: 2,\n",
       "         38: 2,\n",
       "         40: 1,\n",
       "         19: 3,\n",
       "         36: 1,\n",
       "         47: 1,\n",
       "         70: 1,\n",
       "         35: 1,\n",
       "         22: 1})"
      ]
     },
     "execution_count": 7,
     "metadata": {},
     "output_type": "execute_result"
    }
   ],
   "source": [
    "Counter(candidates.map(lambda x: len(x[1])).collect())"
   ]
  },
  {
   "cell_type": "code",
   "execution_count": 8,
   "metadata": {},
   "outputs": [
    {
     "name": "stdout",
     "output_type": "stream",
     "text": [
      "candidate pairs after distinct: 69812\n"
     ]
    },
    {
     "data": {
      "text/plain": [
       "([['-8O4kt8AIRhM3OUxt-pWLg', '_p64KqqRmPwGKhZ-xZwhtg', 0.5],\n",
       "  ['-A5jntJgFglQ6zwAmOiOMw', 'cTqIuG-fvlQQL0OWzsFdig', 0.5],\n",
       "  ['-Jhlh8Scjy669NdtCfKSSg', 'o5Mofj5KJkYAMs_fhxftpg', 0.5]],\n",
       " 639)"
      ]
     },
     "execution_count": 8,
     "metadata": {},
     "output_type": "execute_result"
    }
   ],
   "source": [
    "distinct_candidate_pair = candidates.mapPartitions(emit_candidate_pairs).distinct()\n",
    "print(\"candidate pairs after distinct:\", distinct_candidate_pair.count())\n",
    "\n",
    "similar_pair_idx = distinct_candidate_pair.mapPartitions(lambda pairs: cal_jaccard_sim(pairs,columns_bc))\n",
    "similar_pair_bid = similar_pair_idx.mapPartitions(lambda similar_pairs: transform_to_bid_pair(similar_pairs,idx2bid_bc)).sortBy(lambda pair: [pair[0],pair[1]])\n",
    "\n",
    "similar_pair_bid.take(3), similar_pair_bid.count()"
   ]
  },
  {
   "cell_type": "code",
   "execution_count": 9,
   "metadata": {},
   "outputs": [],
   "source": [
    "res = similar_pair_bid.map(lambda x: x[0] + ',' + x[1]).collect()\n",
    "res_lines = similar_pair_bid.map(lambda x: x[0] + ',' + x[1] + ',%.2f' % x[2]).collect()"
   ]
  },
  {
   "cell_type": "code",
   "execution_count": 10,
   "metadata": {},
   "outputs": [],
   "source": [
    "truth_file = \"/Users/liangsiqi/Documents/Dataset/yelp_rec_data/pure_jaccard_similarity.csv\"\n",
    "raw_ground_truth = sc.textFile(truth_file)\n",
    "header = raw_ground_truth.first()\n",
    "ground_truth_lines = raw_ground_truth.filter(lambda x: x != header).mapPartitions(lambda x: csv.reader(x))\n",
    "ground_truth = ground_truth_lines.map(lambda x: x[0]+','+x[1]).collect()"
   ]
  },
  {
   "cell_type": "code",
   "execution_count": 11,
   "metadata": {},
   "outputs": [
    {
     "data": {
      "text/plain": [
       "(639, 639)"
      ]
     },
     "execution_count": 11,
     "metadata": {},
     "output_type": "execute_result"
    }
   ],
   "source": [
    "len(res),len(set(res))"
   ]
  },
  {
   "cell_type": "code",
   "execution_count": 12,
   "metadata": {},
   "outputs": [
    {
     "name": "stdout",
     "output_type": "stream",
     "text": [
      "639\n",
      "Precision: 1.000\n",
      "Recall: 0.992\n"
     ]
    }
   ],
   "source": [
    "in_ground_truth = 0\n",
    "for pair in res:\n",
    "    if pair in ground_truth:\n",
    "        in_ground_truth+=1\n",
    "print(in_ground_truth)\n",
    "print(\"Precision: %.3f\" % (in_ground_truth/len(res_lines)))\n",
    "print(\"Recall: %.3f\" % ())in_ground_truth/len(ground_truth)"
   ]
  },
  {
   "cell_type": "code",
   "execution_count": 13,
   "metadata": {},
   "outputs": [
    {
     "data": {
      "text/plain": [
       "644"
      ]
     },
     "execution_count": 13,
     "metadata": {},
     "output_type": "execute_result"
    }
   ],
   "source": [
    "len(ground_truth)"
   ]
  },
  {
   "cell_type": "code",
   "execution_count": 28,
   "metadata": {},
   "outputs": [
    {
     "name": "stdout",
     "output_type": "stream",
     "text": [
      "./tmp_sig_band_cnt5_32.txt\n"
     ]
    }
   ],
   "source": [
    "sig_band_cnt = candidates.map(lambda x: len(x[1])).collect()\n",
    "print(\"./tmp_sig_band_cnt%d_%d.txt\" % (r,b))\n",
    "with open(\"./tmp_sig_band_cnt%d_%d.txt\" % (r,b),'w') as f:\n",
    "    for cnt in sig_band_cnt:\n",
    "        print(cnt,file=f)"
   ]
  },
  {
   "cell_type": "code",
   "execution_count": null,
   "metadata": {},
   "outputs": [],
   "source": []
  },
  {
   "cell_type": "code",
   "execution_count": null,
   "metadata": {},
   "outputs": [],
   "source": []
  },
  {
   "cell_type": "code",
   "execution_count": 44,
   "metadata": {},
   "outputs": [
    {
     "name": "stdout",
     "output_type": "stream",
     "text": [
      "24.4 ms ± 651 µs per loop (mean ± std. dev. of 7 runs, 10 loops each)\n",
      "23.8 ms ± 428 µs per loop (mean ± std. dev. of 7 runs, 10 loops each)\n"
     ]
    }
   ],
   "source": [
    "mat = rand(hash_num,business_cnt).tolist()\n",
    "\n",
    "%timeit list(map(min,mat))\n",
    "%timeit [min(i) for i in mat]"
   ]
  },
  {
   "cell_type": "code",
   "execution_count": 17,
   "metadata": {},
   "outputs": [
    {
     "name": "stdout",
     "output_type": "stream",
     "text": [
      "[20, 21, 22, 23, 24, 25, 26, 27, 28, 29, 30]\n",
      "0.4728708045015879\n",
      "0.4671379777282001\n",
      "0.4617366309441026\n",
      "0.4566337854967312\n",
      "0.4518010018049224\n",
      "0.4472135954999579\n",
      "0.4428500142691474\n",
      "0.4386913376508308\n",
      "0.43472087194499137\n",
      "0.43092381945890607\n",
      "0.42728700639623407\n"
     ]
    }
   ],
   "source": [
    "r = 4\n",
    "b = list(range(20,31))\n",
    "print(b)\n",
    "for bb in b:\n",
    "    print((1/bb)**(1/r))"
   ]
  },
  {
   "cell_type": "code",
   "execution_count": null,
   "metadata": {},
   "outputs": [],
   "source": []
  }
 ],
 "metadata": {
  "kernelspec": {
   "display_name": "Python [conda env:inf553]",
   "language": "python",
   "name": "conda-env-inf553-py"
  },
  "language_info": {
   "codemirror_mode": {
    "name": "ipython",
    "version": 3
   },
   "file_extension": ".py",
   "mimetype": "text/x-python",
   "name": "python",
   "nbconvert_exporter": "python",
   "pygments_lexer": "ipython3",
   "version": "3.6.9"
  },
  "latex_envs": {
   "LaTeX_envs_menu_present": true,
   "autoclose": false,
   "autocomplete": true,
   "bibliofile": "biblio.bib",
   "cite_by": "apalike",
   "current_citInitial": 1,
   "eqLabelWithNumbers": true,
   "eqNumInitial": 1,
   "hotkeys": {
    "equation": "Ctrl-E",
    "itemize": "Ctrl-I"
   },
   "labels_anchors": false,
   "latex_user_defs": false,
   "report_style_numbering": false,
   "user_envs_cfg": false
  },
  "toc": {
   "base_numbering": 1,
   "nav_menu": {},
   "number_sections": true,
   "sideBar": true,
   "skip_h1_title": false,
   "title_cell": "Table of Contents",
   "title_sidebar": "Contents",
   "toc_cell": false,
   "toc_position": {},
   "toc_section_display": true,
   "toc_window_display": false
  }
 },
 "nbformat": 4,
 "nbformat_minor": 2
}
