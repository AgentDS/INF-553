{
 "cells": [
  {
   "cell_type": "code",
   "execution_count": 26,
   "metadata": {},
   "outputs": [],
   "source": [
    "from pyspark import SparkConf, SparkContext\n",
    "import csv\n",
    "import statistics\n",
    "import seaborn as sns\n",
    "import random\n",
    "from matplotlib import pyplot as plt\n",
    "import pandas as pd"
   ]
  },
  {
   "cell_type": "code",
   "execution_count": 33,
   "metadata": {},
   "outputs": [],
   "source": [
    "def emit_rating_pairs(lines, uid2idx_bc, bid2idx_bc, key='user'):\n",
    "    if key=='user':\n",
    "        for line in lines:\n",
    "            yield (uid2idx_bc.value[line[0]], \n",
    "                   [(bid2idx_bc.value[line[1]], float(line[2]))])\n",
    "    elif key=='business':\n",
    "        for line in lines:\n",
    "            yield (bid2idx_bc.value[line[1]], \n",
    "                   [(uid2idx_bc.value[line[0]], float(line[2]))])\n",
    "\n",
    "def rating_dict(rating_lines):\n",
    "    for line in rating_lines:\n",
    "        yield (line[0],dict(line[1]))\n",
    "        \n",
    "def emit_pairs(lines,uid2idx_bc, bid2idx_bc):\n",
    "    for line in lines:\n",
    "        pair = []\n",
    "        if line[0] in uid2idx_bc.value.keys():\n",
    "            pair.append(uid2idx_bc.value[line[0]])\n",
    "        else:\n",
    "            pair.append(line[0])\n",
    "        if line[1] in bid2idx_bc.value.keys():\n",
    "            pair.append(bid2idx_bc.value[line[1]])\n",
    "        else:\n",
    "            pair.append(line[1])\n",
    "        yield pair\n",
    "\n",
    "def emit_id_pairs(lines,uidx2id_bc, bidx2id_bc):\n",
    "    for line in lines:\n",
    "        if isinstance(line[0],int): \n",
    "            uid = uidx2id_bc.value[line[0]]\n",
    "        else:\n",
    "            uid = line[0]\n",
    "        if isinstance(line[1],int):\n",
    "            bid = bidx2id_bc.value[line[1]]\n",
    "        else:\n",
    "            bid = line[1]\n",
    "        string = '{},{},{:.10f}'.format(uid,bid,line[2])\n",
    "        yield string\n",
    "        \n",
    "\n",
    "def cal_weight(user1_ratings,user2_ratings):\n",
    "    # normalize first\n",
    "    n = len(user1_ratings)\n",
    "    mean1 = sum(user1_ratings) / float(n)\n",
    "    mean2 = sum(user2_ratings) / float(n)\n",
    "    user1_ratings = [i - mean1 for i in user1_ratings]\n",
    "    user2_ratings = [i - mean2 for i in user2_ratings]\n",
    "    numerator = sum([r1*r2 for r1,r2 in zip(user1_ratings,user2_ratings)])\n",
    "    denominator = (sum([r1**2 for r1 in user1_ratings])*sum([r2**2 for r2 in user2_ratings]))**0.5\n",
    "    if denominator>0:\n",
    "        pearson_sim = numerator / denominator\n",
    "    else:\n",
    "        pearson_sim = 0\n",
    "    return pearson_sim, mean2\n",
    "    "
   ]
  },
  {
   "cell_type": "code",
   "execution_count": 32,
   "metadata": {},
   "outputs": [
    {
     "name": "stdout",
     "output_type": "stream",
     "text": [
      "548 ms ± 15.3 ms per loop (mean ± std. dev. of 7 runs, 1 loop each)\n",
      "105 ms ± 2.03 ms per loop (mean ± std. dev. of 7 runs, 10 loops each)\n"
     ]
    }
   ],
   "source": [
    "x = [[random.randrange(1, 101, 1) for _ in range(30)] for j in range(10000)]\n",
    "y = [[random.randrange(1, 101, 1) for _ in range(30)] for j in range(10000)]\n",
    "%timeit [cal_weight(xi,yi) for xi,yi in zip(x,y)] \n",
    "%timeit [pearson_sim(xi,yi) for xi,yi in zip(x,y)] "
   ]
  },
  {
   "cell_type": "code",
   "execution_count": null,
   "metadata": {},
   "outputs": [],
   "source": [
    "def user_based_FC_predict(pairs, user_ratings_bc, business_ratings_bc,global_avg_bc):\n",
    "    for pair in pairs:\n",
    "        target_user = pair[0]\n",
    "        target_business = pair[1]\n",
    "        if isinstance(target_user,int) and isinstance(target_business,int):\n",
    "            weighted_ratings = []\n",
    "            abs_weight = []\n",
    "            "
   ]
  },
  {
   "cell_type": "code",
   "execution_count": 15,
   "metadata": {},
   "outputs": [],
   "source": [
    "user_rating_cnt = dict()\n",
    "for k in user_ratings:\n",
    "    user_rating_cnt[k] = len(user_ratings[k])"
   ]
  },
  {
   "cell_type": "code",
   "execution_count": 19,
   "metadata": {},
   "outputs": [
    {
     "data": {
      "text/plain": [
       "(<matplotlib.axes._subplots.AxesSubplot at 0x1a1f99ecc0>, 1062, 18)"
      ]
     },
     "execution_count": 19,
     "metadata": {},
     "output_type": "execute_result"
    },
    {
     "data": {
      "image/png": "[encoded data removed]",
      "text/plain": [
       "<Figure size 432x288 with 1 Axes>"
      ]
     },
     "metadata": {
      "needs_background": "light"
     },
     "output_type": "display_data"
    }
   ],
   "source": [
    "sns.distplot(list(user_rating_cnt.values())), max(list(user_rating_cnt.values())), min(list(user_rating_cnt.values()))"
   ]
  },
  {
   "cell_type": "code",
   "execution_count": 23,
   "metadata": {},
   "outputs": [
    {
     "data": {
      "text/plain": [
       "<matplotlib.axes._subplots.AxesSubplot at 0x1a22ac3748>"
      ]
     },
     "execution_count": 23,
     "metadata": {},
     "output_type": "execute_result"
    },
    {
     "data": {
      "image/png": "[encoded data removed]",
      "text/plain": [
       "<Figure size 1080x576 with 1 Axes>"
      ]
     },
     "metadata": {
      "needs_background": "light"
     },
     "output_type": "display_data"
    }
   ],
   "source": [
    "plt.figure(figsize=(15,8))\n",
    "pd.Series(list(user_rating_cnt.values())).value_counts().plot()\n"
   ]
  },
  {
   "cell_type": "code",
   "execution_count": 8,
   "metadata": {},
   "outputs": [],
   "source": [
    "def user_based_predict(pairs, user_ratings_bc, business_ratings_bc,global_avg_bc):\n",
    "    for pair in pairs:\n",
    "        user1 = pair[0]\n",
    "        business = pair[1]\n",
    "        \n",
    "        if isinstance(user1,int) and isinstance(business,int):\n",
    "            corated_sum = 0  # += weight*(r_business - r_)\n",
    "            weight_sum = 0  # += abs(weight)\n",
    "            corated_users = business_ratings_bc.value[business].keys()\n",
    "            rated_bidx_set1 = set(user_ratings_bc.value[user1].keys()) # {bidx1, bidx2,...} for user1\n",
    "            for user2 in corated_users:\n",
    "                # corated business idx for user1 and user2: [bidx1, bidx2, ...]\n",
    "                cobusiness = list(set(user_ratings_bc.value[user2].keys()).intersection(rated_bidx_set1)) \n",
    "                if len(cobusiness)>1:\n",
    "                    user1_rating = [user_ratings_bc.value[user1][i] for i in cobusiness]\n",
    "                    user2_rating = [user_ratings_bc.value[user2][i] for i in cobusiness]\n",
    "                    weight, mean2 = cal_weight(user1_rating,user2_rating)\n",
    "                    corated_sum += weight * (user_ratings_bc.value[user2][business] - mean2)\n",
    "                    weight_sum += abs(weight)\n",
    "            avg_rating1 = statistics.mean(user_ratings_bc.value[user1].values())\n",
    "            if weight_sum >0:\n",
    "                pred = avg_rating1 + corated_sum / weight_sum\n",
    "            else:\n",
    "                pred = avg_rating1\n",
    "        elif isinstance(user1,int) and not isinstance(business,int):\n",
    "            pred = statistics.mean(user_ratings_bc.value[user1].values())\n",
    "        elif not isinstance(user1,int) and isinstance(business,int):\n",
    "            pred = statistics.mean(business_ratings_bc.value[business].values())\n",
    "        else:\n",
    "            pred = global_avg_bc.value\n",
    "        yield [user1,business, pred]\n",
    "                "
   ]
  },
  {
   "cell_type": "code",
   "execution_count": 4,
   "metadata": {},
   "outputs": [],
   "source": [
    "conf = SparkConf().set('spark.driver.host','127.0.0.1')\n",
    "sc = SparkContext(master='local', appName='myAppName',conf=conf)"
   ]
  },
  {
   "cell_type": "code",
   "execution_count": 5,
   "metadata": {},
   "outputs": [
    {
     "name": "stdout",
     "output_type": "stream",
     "text": [
      "[['vxR_YV0atFxIxfOnF9uHjQ', 'gTw6PENNGl68ZPUpYWP50A', '5.0']]\n",
      "Global avg:3.7512\n"
     ]
    }
   ],
   "source": [
    "train_file = \"/Users/liangsiqi/Documents/Dataset/yelp_rec_data/yelp_train.csv\"\n",
    "test_file = \"/Users/liangsiqi/Documents/Dataset/yelp_rec_data/yelp_val.csv\"\n",
    "\n",
    "raw_train = sc.textFile(train_file)\n",
    "header = raw_train.first()\n",
    "train_data = raw_train.filter(lambda x: x != header).mapPartitions(lambda x: csv.reader(x))\n",
    "print(train_data.take(1))\n",
    "\n",
    "train_data.persist()\n",
    "\n",
    "global_avg = train_data.map(lambda x: float(x[2])).mean()\n",
    "global_avg_bc = sc.broadcast(global_avg)\n",
    "print(\"Global avg:%.4f\" % global_avg)\n",
    "\n",
    "user_ids = train_data.map(lambda x: x[0]).distinct().collect()\n",
    "user_cnt = len(user_ids)\n",
    "business_ids = train_data.map(lambda x: x[1]).distinct().collect()\n",
    "business_cnt = len(business_ids)\n",
    "\n",
    "uid2idx = dict()\n",
    "bid2idx = dict()\n",
    "uidx2id = dict()\n",
    "bidx2id = dict()\n",
    "for idx, uid in enumerate(user_ids, 0):\n",
    "    uid2idx[uid] = idx\n",
    "    uidx2id[idx] = uid\n",
    "\n",
    "for idx, bid in enumerate(business_ids, 0):\n",
    "    bid2idx[bid] = idx\n",
    "    bidx2id[idx] = bid\n",
    "\n",
    "uidx2id_bc = sc.broadcast(uidx2id)\n",
    "bidx2id_bc = sc.broadcast(bidx2id)\n",
    "uid2idx_bc = sc.broadcast(uid2idx)\n",
    "bid2idx_bc = sc.broadcast(bid2idx)"
   ]
  },
  {
   "cell_type": "code",
   "execution_count": 6,
   "metadata": {},
   "outputs": [],
   "source": [
    "# (uidx, [(bidx1, rating1),\n",
    "#         (bidx2, rating2),\n",
    "#          ...])\n",
    "users_column = train_data.mapPartitions(lambda lines: emit_rating_pairs(lines,uid2idx_bc, bid2idx_bc,key='user')).reduceByKey(lambda a,b: a+b)\n",
    "\n",
    "# {uidx: {bidx1: rating1, bidx2: rating2, ...},\n",
    "#  ...}\n",
    "user_ratings = users_column.mapPartitions(lambda cols: rating_dict(cols)).collectAsMap()\n",
    "user_ratings_bc = sc.broadcast(user_ratings)\n",
    "\n",
    "\n",
    "# (bidx, [(uidx1, rating1),\n",
    "#         (uidx2, rating2),\n",
    "#          ...])\n",
    "businesses_rows = train_data.mapPartitions(lambda lines: emit_rating_pairs(lines,uid2idx_bc, bid2idx_bc,key='business')).reduceByKey(lambda a,b: a+b)\n",
    "# {bidx: {uidx1: rating1, uidx2: rating2, ...},\n",
    "#  ...}\n",
    "business_ratings = businesses_rows.mapPartitions(lambda rows: rating_dict(rows)).collectAsMap()\n",
    "business_ratings_bc = sc.broadcast(business_ratings)"
   ]
  },
  {
   "cell_type": "code",
   "execution_count": 7,
   "metadata": {},
   "outputs": [],
   "source": [
    "raw_test = sc.textFile(test_file)\n",
    "test_header = raw_test.first()\n",
    "# [uid,bid,str(score)]\n",
    "test_data = raw_test.filter(lambda x: x != test_header).mapPartitions(lambda x: csv.reader(x))\n",
    "# [uidx,bidx]\n",
    "test_pairs = test_data.mapPartitions(lambda lines: emit_pairs(lines,uid2idx_bc, bid2idx_bc))"
   ]
  },
  {
   "cell_type": "code",
   "execution_count": 11,
   "metadata": {},
   "outputs": [],
   "source": [
    "test_pred_idx_pair = test_pairs.mapPartitions(lambda pairs: user_based_predict(pairs, user_ratings_bc, business_ratings_bc,global_avg_bc))\n",
    "test_pred_id_pair = test_pred_idx_pair.mapPartitions(lambda lines: emit_id_pairs(lines,uidx2id_bc, bidx2id_bc)).collect()\n",
    "\n",
    "with open(\"./xxx.csv\", 'w') as out_f:\n",
    "    print(\"user_id, business_id, prediction\", file=out_f)\n",
    "    for line in test_pred_id_pair:\n",
    "        print(line, file=out_f)"
   ]
  },
  {
   "cell_type": "code",
   "execution_count": 12,
   "metadata": {},
   "outputs": [
    {
     "name": "stdout",
     "output_type": "stream",
     "text": [
      "RMSE=1.1737780684\n"
     ]
    }
   ],
   "source": [
    "raws = []\n",
    "with open(\"./xxx.csv\", 'r') as f:\n",
    "    csv_reader = csv.reader(f, delimiter=',')\n",
    "    line_count = 0\n",
    "    for row in csv_reader:\n",
    "        if line_count == 0:\n",
    "            line_count += 1\n",
    "        else:\n",
    "            raws.append([row[0] + ',' + row[1], float(row[2])])\n",
    "predict_val_pair = sc.parallelize(raws)\n",
    "\n",
    "raws = []\n",
    "with open(test_file, 'r') as f:\n",
    "    csv_reader = csv.reader(f, delimiter=',')\n",
    "    line_count = 0\n",
    "    for row in csv_reader:\n",
    "        if line_count == 0:\n",
    "            line_count += 1\n",
    "        else:\n",
    "            raws.append([row[0] + ',' + row[1], float(row[2])])\n",
    "ground_val_pair = sc.parallelize(raws)\n",
    "\n",
    "val_RMSE = (ground_val_pair.join(predict_val_pair).map(lambda x: (x[1][0] - x[1][1]) ** 2).mean()) ** 0.5\n",
    "print(\"RMSE=%.10f\" % val_RMSE)"
   ]
  },
  {
   "cell_type": "code",
   "execution_count": null,
   "metadata": {},
   "outputs": [],
   "source": []
  }
 ],
 "metadata": {
  "kernelspec": {
   "display_name": "Python [conda env:inf553]",
   "language": "python",
   "name": "conda-env-inf553-py"
  },
  "language_info": {
   "codemirror_mode": {
    "name": "ipython",
    "version": 3
   },
   "file_extension": ".py",
   "mimetype": "text/x-python",
   "name": "python",
   "nbconvert_exporter": "python",
   "pygments_lexer": "ipython3",
   "version": "3.6.9"
  },
  "latex_envs": {
   "LaTeX_envs_menu_present": true,
   "autoclose": false,
   "autocomplete": true,
   "bibliofile": "biblio.bib",
   "cite_by": "apalike",
   "current_citInitial": 1,
   "eqLabelWithNumbers": true,
   "eqNumInitial": 1,
   "hotkeys": {
    "equation": "Ctrl-E",
    "itemize": "Ctrl-I"
   },
   "labels_anchors": false,
   "latex_user_defs": false,
   "report_style_numbering": false,
   "user_envs_cfg": false
  },
  "toc": {
   "base_numbering": 1,
   "nav_menu": {},
   "number_sections": true,
   "sideBar": true,
   "skip_h1_title": false,
   "title_cell": "Table of Contents",
   "title_sidebar": "Contents",
   "toc_cell": false,
   "toc_position": {},
   "toc_section_display": true,
   "toc_window_display": false
  }
 },
 "nbformat": 4,
 "nbformat_minor": 2
}
