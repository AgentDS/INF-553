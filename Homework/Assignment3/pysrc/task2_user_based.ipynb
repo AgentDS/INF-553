{
 "cells": [
  {
   "cell_type": "code",
   "execution_count": 1,
   "metadata": {},
   "outputs": [],
   "source": [
    "from pyspark import SparkConf, SparkContext\n",
    "import csv\n",
    "import statistics\n",
    "import seaborn as sns\n",
    "import random\n",
    "from matplotlib import pyplot as plt\n",
    "import pandas as pd"
   ]
  },
  {
   "cell_type": "code",
   "execution_count": 2,
   "metadata": {},
   "outputs": [],
   "source": [
    "def cal_RMSE(output_file_path, test_file_path):\n",
    "    conf = SparkConf().set('spark.driver.host', '127.0.0.1')\n",
    "    sc = SparkContext(master='local', appName='myAppName', conf=conf)\n",
    "    raws = []\n",
    "    with open(output_file_path, 'r') as f:\n",
    "        csv_reader = csv.reader(f, delimiter=',')\n",
    "        line_count = 0\n",
    "        for row in csv_reader:\n",
    "            if line_count == 0:\n",
    "                line_count += 1\n",
    "            else:\n",
    "                raws.append([row[0] + ',' + row[1], float(row[2])])\n",
    "    predict_val_pair = sc.parallelize(raws)\n",
    "\n",
    "    raws = []\n",
    "    with open(test_file_path, 'r') as f:\n",
    "        csv_reader = csv.reader(f, delimiter=',')\n",
    "        line_count = 0\n",
    "        for row in csv_reader:\n",
    "            if line_count == 0:\n",
    "                line_count += 1\n",
    "            else:\n",
    "                raws.append([row[0] + ',' + row[1], float(row[2])])\n",
    "    ground_val_pair = sc.parallelize(raws)\n",
    "\n",
    "    val_RMSE = (ground_val_pair.join(predict_val_pair).map(lambda x: (x[1][0] - x[1][1]) ** 2).mean()) ** 0.5\n",
    "    sc.stop()\n",
    "    return val_RMSE"
   ]
  },
  {
   "cell_type": "code",
   "execution_count": 3,
   "metadata": {},
   "outputs": [
    {
     "name": "stdout",
     "output_type": "stream",
     "text": [
      "1.169810245949183\n"
     ]
    }
   ],
   "source": [
    "print(cal_RMSE(\"./task2_case2_local_user_based.txt\", \"/Users/liangsiqi/Documents/Dataset/yelp_rec_data/yelp_val.csv\"))"
   ]
  },
  {
   "cell_type": "code",
   "execution_count": 5,
   "metadata": {},
   "outputs": [],
   "source": [
    "def emit_rating_pairs_user_base(lines, uid2idx_bc, bid2idx_bc, key='user', method=1):\n",
    "    if key == 'user':\n",
    "        if method == 1:\n",
    "            for line in lines:\n",
    "                yield (uid2idx_bc.value[line[0]],\n",
    "                       [(bid2idx_bc.value[line[1]], float(line[2]))])\n",
    "        elif method == 2:\n",
    "            for line in lines:\n",
    "                yield (uid2idx_bc.value[line[0]], [bid2idx_bc.value[line[1]]])\n",
    "    elif key == 'business':\n",
    "        for line in lines:\n",
    "            yield (bid2idx_bc.value[line[1]], [uid2idx_bc.value[line[0]]])\n",
    "\n",
    "\n",
    "def rating_dict(rating_lines):\n",
    "    for line in rating_lines:\n",
    "        yield (line[0], dict(line[1]))\n",
    "\n",
    "\n",
    "def emit_pairs_user_base(lines, uid2idx_bc, bid2idx_bc):\n",
    "    for line in lines:\n",
    "        pair = []\n",
    "        if line[0] in uid2idx_bc.value.keys():\n",
    "            pair.append(uid2idx_bc.value[line[0]])\n",
    "        else:\n",
    "            pair.append(line[0])\n",
    "        if line[1] in bid2idx_bc.value.keys():\n",
    "            pair.append(bid2idx_bc.value[line[1]])\n",
    "        else:\n",
    "            pair.append(line[1])\n",
    "        yield pair\n",
    "\n",
    "\n",
    "def emit_id_pairs_user_base(lines, uidx2id_bc, bidx2id_bc):\n",
    "    for line in lines:\n",
    "        if isinstance(line[0], int):\n",
    "            uid = uidx2id_bc.value[line[0]]\n",
    "        else:\n",
    "            uid = line[0]\n",
    "        if isinstance(line[1], int):\n",
    "            bid = bidx2id_bc.value[line[1]]\n",
    "        else:\n",
    "            bid = line[1]\n",
    "        string = '{},{},{:.10f}'.format(uid, bid, line[2])\n",
    "        yield string\n",
    "\n",
    "\n",
    "def cal_weight(user1_ratings, user2_ratings):\n",
    "    # normalize first\n",
    "    n = len(user1_ratings)\n",
    "    mean1 = sum(user1_ratings) / float(n)\n",
    "    mean2 = sum(user2_ratings) / float(n)\n",
    "    user1_ratings = [i - mean1 for i in user1_ratings]\n",
    "    user2_ratings = [i - mean2 for i in user2_ratings]\n",
    "    numerator = sum([r1 * r2 for r1, r2 in zip(user1_ratings, user2_ratings)])\n",
    "    denominator = (sum([r1 ** 2 for r1 in user1_ratings]) * sum([r2 ** 2 for r2 in user2_ratings])) ** 0.5\n",
    "    if denominator > 0:\n",
    "        pearson_sim = numerator / denominator\n",
    "    else:\n",
    "        pearson_sim = 0\n",
    "    return pearson_sim, mean2\n",
    "\n",
    "\n",
    "def emit_id_rating_pairs(lines, uidx2id_bc, bidx2id_bc):\n",
    "    for line in lines:\n",
    "        yield [uidx2id_bc.value[line[0]], bidx2id_bc.value[line[1]], line[2]]\n",
    "\n",
    "\n",
    "def emit_avg_pairs(lines, avg_bc):\n",
    "    for line in lines:\n",
    "        yield [line[0], line[1], avg_bc.value]\n",
    "\n",
    "\n",
    "def user_based_predict(pairs, user_ratings_bc, user_bidxs_bc, business_uidx_bc, global_avg_bc):\n",
    "    for pair in pairs:\n",
    "        user1 = pair[0]\n",
    "        business = pair[1]\n",
    "\n",
    "        if isinstance(user1, int) and isinstance(business, int):\n",
    "            weighted_ratings = []\n",
    "            weights = []\n",
    "            corated_users = business_uidx_bc.value[business]\n",
    "            yield len(corated_users)"
   ]
  },
  {
   "cell_type": "code",
   "execution_count": 4,
   "metadata": {},
   "outputs": [],
   "source": [
    "train_file = \"/Users/liangsiqi/Documents/Dataset/yelp_rec_data/yelp_train.csv\"\n",
    "test_file = \"/Users/liangsiqi/Documents/Dataset/yelp_rec_data/yelp_val.csv\"\n",
    "conf = SparkConf().set('spark.driver.host', '127.0.0.1')\n",
    "sc = SparkContext(master='local', appName='myAppName', conf=conf)"
   ]
  },
  {
   "cell_type": "code",
   "execution_count": 6,
   "metadata": {},
   "outputs": [],
   "source": [
    "raw_train = sc.textFile(train_file)\n",
    "header = raw_train.first()\n",
    "train_data = raw_train.filter(lambda x: x != header).mapPartitions(lambda x: csv.reader(x))\n",
    "\n",
    "global_avg = train_data.map(lambda x: float(x[2])).mean()\n",
    "global_avg_bc = sc.broadcast(global_avg)\n",
    "\n",
    "user_ids = train_data.map(lambda x: x[0]).distinct().collect()\n",
    "# user_cnt = len(user_ids)\n",
    "business_ids = train_data.map(lambda x: x[1]).distinct().collect()\n",
    "# business_cnt = len(business_ids)\n",
    "\n",
    "uid2idx = dict()\n",
    "bid2idx = dict()\n",
    "uidx2id = dict()\n",
    "bidx2id = dict()\n",
    "for idx, uid in enumerate(user_ids, 0):\n",
    "    uid2idx[uid] = idx\n",
    "    uidx2id[idx] = uid\n",
    "\n",
    "for idx, bid in enumerate(business_ids, 0):\n",
    "    bid2idx[bid] = idx\n",
    "    bidx2id[idx] = bid\n",
    "\n",
    "uidx2id_bc = sc.broadcast(uidx2id)\n",
    "bidx2id_bc = sc.broadcast(bidx2id)\n",
    "uid2idx_bc = sc.broadcast(uid2idx)\n",
    "bid2idx_bc = sc.broadcast(bid2idx)\n",
    "\n",
    "# (uidx, [(bidx1, rating1),\n",
    "#         (bidx2, rating2),\n",
    "#          ...])\n",
    "users_column = train_data.mapPartitions(\n",
    "    lambda lines: emit_rating_pairs_user_base(lines, uid2idx_bc, bid2idx_bc, key='user')).reduceByKey(\n",
    "    lambda a, b: a + b)\n",
    "users_column.persist()\n",
    "\n",
    "# {uidx: {bidx1: rating1, bidx2: rating2, ...},\n",
    "#  ...}\n",
    "user_ratings = users_column.mapPartitions(lambda cols: rating_dict(cols)).collectAsMap()\n",
    "user_ratings_bc = sc.broadcast(user_ratings)\n",
    "users_column.unpersist()\n",
    "\n",
    "user_bidxs = train_data.mapPartitions(\n",
    "    lambda lines: emit_rating_pairs_user_base(lines, uid2idx_bc, bid2idx_bc, key='user', method=2)).reduceByKey(\n",
    "    lambda a, b: a + b).collectAsMap()\n",
    "user_bidxs_bc = sc.broadcast(user_bidxs)\n",
    "\n",
    "# {bidx:[uidx1, uidx2, ...],\n",
    "#  ...}\n",
    "business_uidx = train_data.mapPartitions(\n",
    "    lambda lines: emit_rating_pairs_user_base(lines, uid2idx_bc, bid2idx_bc, key='business')).reduceByKey(\n",
    "    lambda a, b: a + b).collectAsMap()\n",
    "business_uidx_bc = sc.broadcast(business_uidx)\n",
    "\n",
    "raw_test = sc.textFile(test_file)\n",
    "test_header = raw_test.first()\n",
    "# [uid,bid,str(score)]\n",
    "test_data = raw_test.filter(lambda x: x != test_header).mapPartitions(lambda x: csv.reader(x))\n",
    "# [uidx,bidx]\n",
    "test_pairs = test_data.mapPartitions(lambda lines: emit_pairs_user_base(lines, uid2idx_bc, bid2idx_bc))\n",
    "test_pairs.persist()\n",
    "# ['uid,bid,pred']\n",
    "corated_cnt = test_pairs.mapPartitions(\n",
    "    lambda pairs: user_based_predict(pairs, user_ratings_bc, user_bidxs_bc, business_uidx_bc, global_avg_bc)).collect()\n",
    "# sc.stop()"
   ]
  },
  {
   "cell_type": "code",
   "execution_count": 7,
   "metadata": {},
   "outputs": [],
   "source": [
    "corated_cnt = sorted(corated_cnt)"
   ]
  },
  {
   "cell_type": "code",
   "execution_count": 30,
   "metadata": {},
   "outputs": [
    {
     "data": {
      "text/plain": [
       "(556, 490)"
      ]
     },
     "execution_count": 30,
     "metadata": {},
     "output_type": "execute_result"
    }
   ],
   "source": [
    "max(corated_cnt),corated_cnt[-500]"
   ]
  },
  {
   "cell_type": "code",
   "execution_count": 8,
   "metadata": {},
   "outputs": [
    {
     "data": {
      "text/plain": [
       "11     3492\n",
       "9      3318\n",
       "7      3222\n",
       "10     3218\n",
       "12     3044\n",
       "       ... \n",
       "221      44\n",
       "154      44\n",
       "218      43\n",
       "140      42\n",
       "142      33\n",
       "Length: 253, dtype: int64"
      ]
     },
     "execution_count": 8,
     "metadata": {},
     "output_type": "execute_result"
    }
   ],
   "source": [
    "pd.Series(corated_cnt).value_counts()"
   ]
  },
  {
   "cell_type": "code",
   "execution_count": 16,
   "metadata": {},
   "outputs": [
    {
     "data": {
      "image/png": "[encoded data removed]",
      "text/plain": [
       "<Figure size 936x432 with 1 Axes>"
      ]
     },
     "metadata": {
      "needs_background": "light"
     },
     "output_type": "display_data"
    }
   ],
   "source": [
    "plt.figure(figsize=(13,6))\n",
    "xxx = pd.Series(corated_cnt).value_counts()\n",
    "pd.Series(corated_cnt).value_counts().plot()\n",
    "plt.xlabel(\"Corated-user Count\",fontsize=15)\n",
    "plt.ylabel(\"Frequency\",fontsize=15)\n",
    "plt.savefig(\"./corated_cnt.png\",bbox_inches='tight',dpi=300)"
   ]
  },
  {
   "cell_type": "code",
   "execution_count": 32,
   "metadata": {},
   "outputs": [
    {
     "name": "stdout",
     "output_type": "stream",
     "text": [
      "548 ms ± 15.3 ms per loop (mean ± std. dev. of 7 runs, 1 loop each)\n",
      "105 ms ± 2.03 ms per loop (mean ± std. dev. of 7 runs, 10 loops each)\n"
     ]
    }
   ],
   "source": [
    "x = [[random.randrange(1, 101, 1) for _ in range(30)] for j in range(10000)]\n",
    "y = [[random.randrange(1, 101, 1) for _ in range(30)] for j in range(10000)]\n",
    "%timeit [cal_weight(xi,yi) for xi,yi in zip(x,y)] \n",
    "%timeit [pearson_sim(xi,yi) for xi,yi in zip(x,y)] "
   ]
  },
  {
   "cell_type": "code",
   "execution_count": 42,
   "metadata": {},
   "outputs": [
    {
     "data": {
      "text/plain": [
       "[3.5, 0.45, 0]"
      ]
     },
     "execution_count": 42,
     "metadata": {},
     "output_type": "execute_result"
    }
   ],
   "source": [
    "weights = [-0.3,0.45,3.5,0]\n",
    "sorted_arg = sorted(range(len(weights)), key=weights.__getitem__)\n",
    "sorted_arg.reverse()\n",
    "[abs(weights[i]) for i in sorted_arg[:3]]"
   ]
  },
  {
   "cell_type": "code",
   "execution_count": 15,
   "metadata": {},
   "outputs": [],
   "source": [
    "user_rating_cnt = dict()\n",
    "for k in user_ratings:\n",
    "    user_rating_cnt[k] = len(user_ratings[k])"
   ]
  },
  {
   "cell_type": "code",
   "execution_count": 19,
   "metadata": {},
   "outputs": [
    {
     "data": {
      "text/plain": [
       "(<matplotlib.axes._subplots.AxesSubplot at 0x1a1f99ecc0>, 1062, 18)"
      ]
     },
     "execution_count": 19,
     "metadata": {},
     "output_type": "execute_result"
    },
    {
     "data": {
      "image/png": "[encoded data removed]",
      "text/plain": [
       "<Figure size 432x288 with 1 Axes>"
      ]
     },
     "metadata": {
      "needs_background": "light"
     },
     "output_type": "display_data"
    }
   ],
   "source": [
    "sns.distplot(list(user_rating_cnt.values())), max(list(user_rating_cnt.values())), min(list(user_rating_cnt.values()))"
   ]
  },
  {
   "cell_type": "code",
   "execution_count": 23,
   "metadata": {},
   "outputs": [
    {
     "data": {
      "text/plain": [
       "<matplotlib.axes._subplots.AxesSubplot at 0x1a22ac3748>"
      ]
     },
     "execution_count": 23,
     "metadata": {},
     "output_type": "execute_result"
    },
    {
     "data": {
      "image/png": "[encoded data removed]",
      "text/plain": [
       "<Figure size 1080x576 with 1 Axes>"
      ]
     },
     "metadata": {
      "needs_background": "light"
     },
     "output_type": "display_data"
    }
   ],
   "source": [
    "plt.figure(figsize=(15,8))\n",
    "pd.Series(list(user_rating_cnt.values())).value_counts().plot()\n"
   ]
  },
  {
   "cell_type": "code",
   "execution_count": 4,
   "metadata": {},
   "outputs": [],
   "source": [
    "conf = SparkConf().set('spark.driver.host','127.0.0.1')\n",
    "sc = SparkContext(master='local', appName='myAppName',conf=conf)"
   ]
  },
  {
   "cell_type": "code",
   "execution_count": 5,
   "metadata": {},
   "outputs": [
    {
     "name": "stdout",
     "output_type": "stream",
     "text": [
      "[['vxR_YV0atFxIxfOnF9uHjQ', 'gTw6PENNGl68ZPUpYWP50A', '5.0']]\n",
      "Global avg:3.7512\n"
     ]
    }
   ],
   "source": [
    "train_file = \"/Users/liangsiqi/Documents/Dataset/yelp_rec_data/yelp_train.csv\"\n",
    "test_file = \"/Users/liangsiqi/Documents/Dataset/yelp_rec_data/yelp_val.csv\"\n",
    "\n",
    "raw_train = sc.textFile(train_file)\n",
    "header = raw_train.first()\n",
    "train_data = raw_train.filter(lambda x: x != header).mapPartitions(lambda x: csv.reader(x))\n",
    "print(train_data.take(1))\n",
    "\n",
    "train_data.persist()\n",
    "\n",
    "global_avg = train_data.map(lambda x: float(x[2])).mean()\n",
    "global_avg_bc = sc.broadcast(global_avg)\n",
    "print(\"Global avg:%.4f\" % global_avg)\n",
    "\n",
    "user_ids = train_data.map(lambda x: x[0]).distinct().collect()\n",
    "user_cnt = len(user_ids)\n",
    "business_ids = train_data.map(lambda x: x[1]).distinct().collect()\n",
    "business_cnt = len(business_ids)\n",
    "\n",
    "uid2idx = dict()\n",
    "bid2idx = dict()\n",
    "uidx2id = dict()\n",
    "bidx2id = dict()\n",
    "for idx, uid in enumerate(user_ids, 0):\n",
    "    uid2idx[uid] = idx\n",
    "    uidx2id[idx] = uid\n",
    "\n",
    "for idx, bid in enumerate(business_ids, 0):\n",
    "    bid2idx[bid] = idx\n",
    "    bidx2id[idx] = bid\n",
    "\n",
    "uidx2id_bc = sc.broadcast(uidx2id)\n",
    "bidx2id_bc = sc.broadcast(bidx2id)\n",
    "uid2idx_bc = sc.broadcast(uid2idx)\n",
    "bid2idx_bc = sc.broadcast(bid2idx)"
   ]
  },
  {
   "cell_type": "code",
   "execution_count": 6,
   "metadata": {},
   "outputs": [],
   "source": [
    "# (uidx, [(bidx1, rating1),\n",
    "#         (bidx2, rating2),\n",
    "#          ...])\n",
    "users_column = train_data.mapPartitions(lambda lines: emit_rating_pairs(lines,uid2idx_bc, bid2idx_bc,key='user')).reduceByKey(lambda a,b: a+b)\n",
    "\n",
    "# {uidx: {bidx1: rating1, bidx2: rating2, ...},\n",
    "#  ...}\n",
    "user_ratings = users_column.mapPartitions(lambda cols: rating_dict(cols)).collectAsMap()\n",
    "user_ratings_bc = sc.broadcast(user_ratings)\n",
    "\n",
    "\n",
    "# (bidx, [(uidx1, rating1),\n",
    "#         (uidx2, rating2),\n",
    "#          ...])\n",
    "businesses_rows = train_data.mapPartitions(lambda lines: emit_rating_pairs(lines,uid2idx_bc, bid2idx_bc,key='business')).reduceByKey(lambda a,b: a+b)\n",
    "# {bidx: {uidx1: rating1, uidx2: rating2, ...},\n",
    "#  ...}\n",
    "business_ratings = businesses_rows.mapPartitions(lambda rows: rating_dict(rows)).collectAsMap()\n",
    "business_ratings_bc = sc.broadcast(business_ratings)"
   ]
  },
  {
   "cell_type": "code",
   "execution_count": 7,
   "metadata": {},
   "outputs": [],
   "source": [
    "raw_test = sc.textFile(test_file)\n",
    "test_header = raw_test.first()\n",
    "# [uid,bid,str(score)]\n",
    "test_data = raw_test.filter(lambda x: x != test_header).mapPartitions(lambda x: csv.reader(x))\n",
    "# [uidx,bidx]\n",
    "test_pairs = test_data.mapPartitions(lambda lines: emit_pairs(lines,uid2idx_bc, bid2idx_bc))"
   ]
  },
  {
   "cell_type": "code",
   "execution_count": 11,
   "metadata": {},
   "outputs": [],
   "source": [
    "test_pred_idx_pair = test_pairs.mapPartitions(lambda pairs: user_based_predict(pairs, user_ratings_bc, business_ratings_bc,global_avg_bc))\n",
    "test_pred_id_pair = test_pred_idx_pair.mapPartitions(lambda lines: emit_id_pairs(lines,uidx2id_bc, bidx2id_bc)).collect()\n",
    "\n",
    "with open(\"./xxx.csv\", 'w') as out_f:\n",
    "    print(\"user_id, business_id, prediction\", file=out_f)\n",
    "    for line in test_pred_id_pair:\n",
    "        print(line, file=out_f)"
   ]
  },
  {
   "cell_type": "code",
   "execution_count": 12,
   "metadata": {},
   "outputs": [
    {
     "name": "stdout",
     "output_type": "stream",
     "text": [
      "RMSE=1.1737780684\n"
     ]
    }
   ],
   "source": [
    "raws = []\n",
    "with open(\"./xxx.csv\", 'r') as f:\n",
    "    csv_reader = csv.reader(f, delimiter=',')\n",
    "    line_count = 0\n",
    "    for row in csv_reader:\n",
    "        if line_count == 0:\n",
    "            line_count += 1\n",
    "        else:\n",
    "            raws.append([row[0] + ',' + row[1], float(row[2])])\n",
    "predict_val_pair = sc.parallelize(raws)\n",
    "\n",
    "raws = []\n",
    "with open(test_file, 'r') as f:\n",
    "    csv_reader = csv.reader(f, delimiter=',')\n",
    "    line_count = 0\n",
    "    for row in csv_reader:\n",
    "        if line_count == 0:\n",
    "            line_count += 1\n",
    "        else:\n",
    "            raws.append([row[0] + ',' + row[1], float(row[2])])\n",
    "ground_val_pair = sc.parallelize(raws)\n",
    "\n",
    "val_RMSE = (ground_val_pair.join(predict_val_pair).map(lambda x: (x[1][0] - x[1][1]) ** 2).mean()) ** 0.5\n",
    "print(\"RMSE=%.10f\" % val_RMSE)"
   ]
  },
  {
   "cell_type": "code",
   "execution_count": null,
   "metadata": {},
   "outputs": [],
   "source": []
  }
 ],
 "metadata": {
  "kernelspec": {
   "display_name": "Python [conda env:inf553]",
   "language": "python",
   "name": "conda-env-inf553-py"
  },
  "language_info": {
   "codemirror_mode": {
    "name": "ipython",
    "version": 3
   },
   "file_extension": ".py",
   "mimetype": "text/x-python",
   "name": "python",
   "nbconvert_exporter": "python",
   "pygments_lexer": "ipython3",
   "version": "3.6.9"
  },
  "latex_envs": {
   "LaTeX_envs_menu_present": true,
   "autoclose": false,
   "autocomplete": true,
   "bibliofile": "biblio.bib",
   "cite_by": "apalike",
   "current_citInitial": 1,
   "eqLabelWithNumbers": true,
   "eqNumInitial": 1,
   "hotkeys": {
    "equation": "Ctrl-E",
    "itemize": "Ctrl-I"
   },
   "labels_anchors": false,
   "latex_user_defs": false,
   "report_style_numbering": false,
   "user_envs_cfg": false
  },
  "toc": {
   "base_numbering": 1,
   "nav_menu": {},
   "number_sections": true,
   "sideBar": true,
   "skip_h1_title": false,
   "title_cell": "Table of Contents",
   "title_sidebar": "Contents",
   "toc_cell": false,
   "toc_position": {},
   "toc_section_display": true,
   "toc_window_display": false
  }
 },
 "nbformat": 4,
 "nbformat_minor": 2
}
