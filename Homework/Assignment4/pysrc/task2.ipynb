{
 "cells": [
  {
   "cell_type": "code",
   "execution_count": 9,
   "metadata": {},
   "outputs": [],
   "source": [
    "import csv\n",
    "import copy"
   ]
  },
  {
   "cell_type": "code",
   "execution_count": 85,
   "metadata": {},
   "outputs": [],
   "source": [
    "vertex_neighbors = {'A':['B','C'], \n",
    "                    'B':['A','C','D'],\n",
    "                    'C':['A','B'],\n",
    "                    'D':['B','E','F','G'],\n",
    "                    'E':['D','F'],\n",
    "                    'F':['D','E','G'],\n",
    "                    'G':['D','F']}\n",
    "all_vertexes = ['A','B','C','D','E','F','G']"
   ]
  },
  {
   "cell_type": "code",
   "execution_count": 110,
   "metadata": {},
   "outputs": [],
   "source": [
    "\n",
    "class BFS_Tree(object):\n",
    "    def __init__(self):\n",
    "        self.tree = None\n",
    "        \n",
    "    def _build_tree(self,current_node,vert_neighbors, vert_list, from_node):\n",
    "        tree = {}\n",
    "        from_node = copy.deepcopy(from_node)\n",
    "\n",
    "        if len(vert_list) == 0:\n",
    "                return 1, from_node\n",
    "\n",
    "        vert_neighbors = copy.deepcopy(vert_neighbors)\n",
    "        vert_list = copy.deepcopy(vert_list)\n",
    "\n",
    "        for node in vert_neighbors:\n",
    "            if current_node in vert_neighbors[node]:\n",
    "                vert_neighbors[node].remove(current_node)\n",
    "\n",
    "\n",
    "        next_level = vert_neighbors.pop(current_node)\n",
    "        if len(next_level)==0:\n",
    "            return 1, from_node\n",
    "        for node in next_level:\n",
    "            vert_list.remove(node)\n",
    "            from_node[node].append(current_node)\n",
    "            \n",
    "        for node in vert_neighbors:\n",
    "            for next_node in next_level:\n",
    "                if next_node in vert_neighbors[node]:\n",
    "                    vert_neighbors[node].remove(next_node)\n",
    "\n",
    "        for node in next_level:\n",
    "            old_from_node = copy.deepcopy(from_node)\n",
    "            tree[node], from_node = self._build_tree(node,vert_neighbors,vert_list,old_from_node)\n",
    "\n",
    "        return tree, from_node\n",
    "    \n",
    "    def build_bfs_tree(self,root,vertex_neighbors,all_vertexes):\n",
    "        from_node = {i:[] for i in all_vertexes}\n",
    "        self.tree, self.from_node = self._build_tree(root,vertex_neighbors,all_vertexes,from_node)\n",
    "    \n",
    "    "
   ]
  },
  {
   "cell_type": "code",
   "execution_count": 114,
   "metadata": {},
   "outputs": [],
   "source": [
    "bfs_tree = BFS_Tree()\n",
    "bfs_tree.build_bfs_tree('A',vertex_neighbors,all_vertexes)"
   ]
  },
  {
   "cell_type": "code",
   "execution_count": 115,
   "metadata": {},
   "outputs": [
    {
     "data": {
      "text/plain": [
       "{'B': {'D': {'E': 1, 'F': 1, 'G': 1}}, 'C': 1}"
      ]
     },
     "execution_count": 115,
     "metadata": {},
     "output_type": "execute_result"
    }
   ],
   "source": [
    "bfs_tree.tree"
   ]
  },
  {
   "cell_type": "code",
   "execution_count": 116,
   "metadata": {},
   "outputs": [
    {
     "data": {
      "text/plain": [
       "{'A': [],\n",
       " 'B': ['A'],\n",
       " 'C': ['A'],\n",
       " 'D': ['B'],\n",
       " 'E': ['D'],\n",
       " 'F': ['D'],\n",
       " 'G': ['D']}"
      ]
     },
     "execution_count": 116,
     "metadata": {},
     "output_type": "execute_result"
    }
   ],
   "source": [
    "bfs_tree.from_node"
   ]
  },
  {
   "cell_type": "code",
   "execution_count": null,
   "metadata": {},
   "outputs": [],
   "source": []
  }
 ],
 "metadata": {
  "kernelspec": {
   "display_name": "Python [conda env:inf553]",
   "language": "python",
   "name": "conda-env-inf553-py"
  },
  "language_info": {
   "codemirror_mode": {
    "name": "ipython",
    "version": 3
   },
   "file_extension": ".py",
   "mimetype": "text/x-python",
   "name": "python",
   "nbconvert_exporter": "python",
   "pygments_lexer": "ipython3",
   "version": "3.6.9"
  },
  "latex_envs": {
   "LaTeX_envs_menu_present": true,
   "autoclose": false,
   "autocomplete": true,
   "bibliofile": "biblio.bib",
   "cite_by": "apalike",
   "current_citInitial": 1,
   "eqLabelWithNumbers": true,
   "eqNumInitial": 1,
   "hotkeys": {
    "equation": "Ctrl-E",
    "itemize": "Ctrl-I"
   },
   "labels_anchors": false,
   "latex_user_defs": false,
   "report_style_numbering": false,
   "user_envs_cfg": false
  },
  "toc": {
   "base_numbering": 1,
   "nav_menu": {},
   "number_sections": true,
   "sideBar": true,
   "skip_h1_title": false,
   "title_cell": "Table of Contents",
   "title_sidebar": "Contents",
   "toc_cell": false,
   "toc_position": {},
   "toc_section_display": true,
   "toc_window_display": false
  }
 },
 "nbformat": 4,
 "nbformat_minor": 2
}
