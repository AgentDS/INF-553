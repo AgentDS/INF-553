{
 "cells": [
  {
   "cell_type": "code",
   "execution_count": 19,
   "metadata": {},
   "outputs": [
    {
     "name": "stderr",
     "output_type": "stream",
     "text": [
      "//anaconda3/envs/inf553/lib/python3.6/importlib/_bootstrap.py:219: RuntimeWarning: numpy.ufunc size changed, may indicate binary incompatibility. Expected 192 from C header, got 216 from PyObject\n",
      "  return f(*args, **kwds)\n",
      "//anaconda3/envs/inf553/lib/python3.6/importlib/_bootstrap.py:219: RuntimeWarning: numpy.ufunc size changed, may indicate binary incompatibility. Expected 192 from C header, got 216 from PyObject\n",
      "  return f(*args, **kwds)\n",
      "//anaconda3/envs/inf553/lib/python3.6/importlib/_bootstrap.py:219: RuntimeWarning: numpy.ufunc size changed, may indicate binary incompatibility. Expected 192 from C header, got 216 from PyObject\n",
      "  return f(*args, **kwds)\n"
     ]
    }
   ],
   "source": [
    "import csv\n",
    "import copy\n",
    "from itertools import combinations\n",
    "import pandas as pd\n",
    "from matplotlib import pyplot as plt\n",
    "import seaborn as sns"
   ]
  },
  {
   "cell_type": "code",
   "execution_count": 12,
   "metadata": {},
   "outputs": [],
   "source": [
    "def BFS_travel(root_node, vert_neighbors, vert_list):\n",
    "    vert_neighbors = copy.deepcopy(vert_neighbors)\n",
    "    vert_list = copy.deepcopy(vert_list)\n",
    "    in_degree = {i: [] for i in vert_list}  # {n1:[from_node1, from_node2, ...], n2:[from_node1, ...], ...}\n",
    "    out_degree = {i: [] for i in vert_list}  # {n1:[to_node1, to_node2, ...], n2:[to_node1, to_node2, ...], ...}\n",
    "\n",
    "    current_level = [root_node]\n",
    "\n",
    "    while True:\n",
    "        next_level = []\n",
    "        for current_node in current_level:\n",
    "            vert_list.remove(current_node)\n",
    "            for node in vert_neighbors:\n",
    "                if current_node in vert_neighbors[node]:\n",
    "                    vert_neighbors[node].remove(current_node)\n",
    "\n",
    "        for current_node in current_level:\n",
    "            current_child = vert_neighbors[current_node]\n",
    "            next_level.extend(current_child)\n",
    "\n",
    "            for node in current_child:\n",
    "                in_degree[node].append(current_node)\n",
    "                out_degree[current_node].append(node)\n",
    "        current_level = list(set(next_level))\n",
    "        if len(current_level)==0:\n",
    "            break\n",
    "    return in_degree, out_degree\n",
    "\n",
    "\n",
    "def tree_edge_value(vert_list, in_degree, out_degree):\n",
    "    in_degree = copy.deepcopy(in_degree)\n",
    "    in_degree_num = {i: len(in_degree[i]) for i in in_degree}\n",
    "    out_degree = copy.deepcopy(out_degree)\n",
    "    vert_list = copy.deepcopy(vert_list)\n",
    "\n",
    "    edges = {}\n",
    "    node_values = {i: 0 for i in vert_list}\n",
    "    empty_out = []\n",
    "\n",
    "    # initialize\n",
    "    for node in out_degree:\n",
    "        if len(out_degree[node]) == 0:\n",
    "            empty_out.append(node)\n",
    "\n",
    "    while len(empty_out) > 0:\n",
    "        for node in empty_out:\n",
    "            if in_degree_num[node] > 0:\n",
    "                node_values[node] = (node_values[node] + 1) / in_degree_num[node]\n",
    "            else:\n",
    "                node_values[node] += 1\n",
    "            for src_node in in_degree[node]:\n",
    "                out_degree[src_node].remove(node)\n",
    "                node_values[src_node] += node_values[node]\n",
    "            out_degree.pop(node)\n",
    "        empty_out = []\n",
    "        for node in out_degree:\n",
    "            if len(out_degree[node]) == 0:\n",
    "                empty_out.append(node)\n",
    "\n",
    "    for node in node_values:\n",
    "        for src_node in in_degree[node]:\n",
    "            edge_name = '-'.join(sorted([src_node, node]))\n",
    "            edges[edge_name] = node_values[node]\n",
    "    return edges\n",
    "\n",
    "\n",
    "def emit_edges_for_each_node(node_subset, vert_neighbors, vert_list):\n",
    "    for root_node in node_subset:\n",
    "        in_degree, out_degree = BFS_travel(root_node, vert_neighbors, vert_list)\n",
    "        edge_values = tree_edge_value(vert_list, in_degree, out_degree)\n",
    "        for edge in edge_values:\n",
    "            yield (edge, edge_values[edge])\n",
    "\n",
    "\n",
    "def calculate_graph_betweenness(vert_neighbors, vert_list):\n",
    "    edge_betweenness = {}\n",
    "    for root_node in vert_list:\n",
    "        in_degree, out_degree = BFS_travel(root_node, vert_neighbors, vert_list)\n",
    "        print(\"In degree: \", in_degree)\n",
    "        print(\"Out degree: \", out_degree)\n",
    "        edge_values = tree_edge_value(vert_list, in_degree, out_degree)\n",
    "        for edge in edge_values:\n",
    "            if edge not in edge_betweenness:\n",
    "                edge_betweenness[edge] = 0\n",
    "            edge_betweenness[edge] += edge_values[edge]\n",
    "    for edge in edge_betweenness:\n",
    "        edge_betweenness[edge] /= 2\n",
    "    return edge_betweenness\n",
    "\n",
    "\n",
    "def assign_community_to_nodes(vert_neighbors, vert_list):\n",
    "    vertex_list = copy.deepcopy(vert_list)\n",
    "    vert_neighbors = copy.deepcopy(vert_neighbors)\n",
    "    node_community = {}\n",
    "    community_idx = 0\n",
    "\n",
    "    while len(vertex_list) > 0:\n",
    "        current_community = []\n",
    "        root_node = vertex_list[0]\n",
    "        current_level = [root_node]\n",
    "        while True:\n",
    "            next_level = []\n",
    "            for current_node in current_level:\n",
    "                if current_node in vertex_list:\n",
    "                    vertex_list.remove(current_node)\n",
    "                    current_community.append(current_node)\n",
    "                current_child = vert_neighbors[current_node]\n",
    "                for node in current_child:\n",
    "                    if node in vertex_list:\n",
    "                        next_level.append(node)\n",
    "\n",
    "            current_level = list(set(next_level))\n",
    "            if len(current_level) == 0:\n",
    "                node_community[community_idx] = list(set(current_community))\n",
    "                community_idx += 1\n",
    "                break\n",
    "    return node_community\n",
    "\n",
    "\n",
    "def graph_modularity(node_community, m, original_vert_neighbors_num, current_vert_neighbors):\n",
    "    # acc_sum actually is not the exact value of modularoty,\n",
    "    # but same as it when only used for comparision\n",
    "    acc_sum = 0\n",
    "    for label in node_community:\n",
    "        community = node_community[label]\n",
    "        for pair in combinations(community, 2):\n",
    "            i, j = pair\n",
    "            if j in current_vert_neighbors[i]:\n",
    "                Aij = 1\n",
    "            else:\n",
    "                Aij = 0\n",
    "            ki = original_vert_neighbors_num[i]\n",
    "            kj = original_vert_neighbors_num[j]\n",
    "            acc_sum += Aij - ki * kj / (2 * m)\n",
    "    return acc_sum"
   ]
  },
  {
   "cell_type": "code",
   "execution_count": 13,
   "metadata": {},
   "outputs": [
    {
     "name": "stdout",
     "output_type": "stream",
     "text": [
      "In degree:  {'A': [], 'B': ['A'], 'C': ['A'], 'D': ['B'], 'E': ['D'], 'F': ['D'], 'G': ['D']}\n",
      "Out degree:  {'A': ['B', 'C'], 'B': ['D'], 'C': [], 'D': ['E', 'F', 'G'], 'E': [], 'F': [], 'G': []}\n",
      "In degree:  {'A': ['B'], 'B': [], 'C': ['B'], 'D': ['B'], 'E': ['D'], 'F': ['D'], 'G': ['D']}\n",
      "Out degree:  {'A': [], 'B': ['A', 'C', 'D'], 'C': [], 'D': ['E', 'F', 'G'], 'E': [], 'F': [], 'G': []}\n",
      "In degree:  {'A': ['C'], 'B': ['C'], 'C': [], 'D': ['B'], 'E': ['D'], 'F': ['D'], 'G': ['D']}\n",
      "Out degree:  {'A': [], 'B': ['D'], 'C': ['A', 'B'], 'D': ['E', 'F', 'G'], 'E': [], 'F': [], 'G': []}\n",
      "In degree:  {'A': ['B'], 'B': ['D'], 'C': ['B'], 'D': [], 'E': ['D'], 'F': ['D'], 'G': ['D']}\n",
      "Out degree:  {'A': [], 'B': ['A', 'C'], 'C': [], 'D': ['B', 'E', 'F', 'G'], 'E': [], 'F': [], 'G': []}\n",
      "In degree:  {'A': ['B'], 'B': ['D'], 'C': ['B'], 'D': ['E'], 'E': [], 'F': ['E'], 'G': ['F', 'D']}\n",
      "Out degree:  {'A': [], 'B': ['A', 'C'], 'C': [], 'D': ['B', 'G'], 'E': ['D', 'F'], 'F': ['G'], 'G': []}\n",
      "In degree:  {'A': ['B'], 'B': ['D'], 'C': ['B'], 'D': ['F'], 'E': ['F'], 'F': [], 'G': ['F']}\n",
      "Out degree:  {'A': [], 'B': ['A', 'C'], 'C': [], 'D': ['B'], 'E': [], 'F': ['D', 'E', 'G'], 'G': []}\n",
      "In degree:  {'A': ['B'], 'B': ['D'], 'C': ['B'], 'D': ['G'], 'E': ['F', 'D'], 'F': ['G'], 'G': []}\n",
      "Out degree:  {'A': [], 'B': ['A', 'C'], 'C': [], 'D': ['B', 'E'], 'E': [], 'F': ['E'], 'G': ['D', 'F']}\n",
      "{'A-B': 5.0, 'A-C': 1.0, 'B-D': 12.0, 'D-E': 4.5, 'D-F': 4.0, 'D-G': 4.5, 'B-C': 5.0, 'E-F': 1.5, 'F-G': 1.5}\n"
     ]
    }
   ],
   "source": [
    "vertex_neighbors = {'A':['B','C'], \n",
    "                    'B':['A','C','D'],\n",
    "                    'C':['A','B'],\n",
    "                    'D':['B','E','F','G'],\n",
    "                    'E':['D','F'],\n",
    "                    'F':['D','E','G'],\n",
    "                    'G':['D','F']}\n",
    "all_vertexes = ['A','B','C','D','E','F','G']\n",
    "\n",
    "edge_betweenness = calculate_graph_betweenness(vertex_neighbors, all_vertexes)\n",
    "print(edge_betweenness)"
   ]
  },
  {
   "cell_type": "code",
   "execution_count": 14,
   "metadata": {},
   "outputs": [
    {
     "name": "stdout",
     "output_type": "stream",
     "text": [
      "In degree:  {'A': [], 'B': []}\n",
      "Out degree:  {'A': [], 'B': []}\n",
      "In degree:  {'A': [], 'B': []}\n",
      "Out degree:  {'A': [], 'B': []}\n",
      "{}\n"
     ]
    }
   ],
   "source": [
    "vertex_neighbors = {'A':[], \n",
    "                    'B':[]}\n",
    "all_vertexes = ['A','B']\n",
    "edge_betweenness = calculate_graph_betweenness(vertex_neighbors, all_vertexes)\n",
    "print(edge_betweenness)"
   ]
  },
  {
   "cell_type": "code",
   "execution_count": 106,
   "metadata": {},
   "outputs": [
    {
     "name": "stdout",
     "output_type": "stream",
     "text": [
      "{0: ['A', 'D', 'C', 'B', 'F', 'G', 'E']}\n"
     ]
    }
   ],
   "source": [
    "node_community = assign_community_to_nodes(vertex_neighbors, all_vertexes)\n",
    "print(node_community)"
   ]
  },
  {
   "cell_type": "code",
   "execution_count": 113,
   "metadata": {},
   "outputs": [
    {
     "data": {
      "text/plain": [
       "3.8999999999999995"
      ]
     },
     "execution_count": 113,
     "metadata": {},
     "output_type": "execute_result"
    }
   ],
   "source": [
    "graph_modularity(node_community, 5,{i:len(vertex_neighbors[i]) for i in vertex_neighbors}, vertex_neighbors)"
   ]
  },
  {
   "cell_type": "code",
   "execution_count": 15,
   "metadata": {},
   "outputs": [
    {
     "name": "stdout",
     "output_type": "stream",
     "text": [
      "In degree:  {'A': [], 'B': ['A'], 'C': ['B'], 'D': [], 'E': [], 'F': [], 'G': [], 'H': []}\n",
      "Out degree:  {'A': ['B'], 'B': ['C'], 'C': [], 'D': [], 'E': [], 'F': [], 'G': [], 'H': []}\n",
      "In degree:  {'A': ['B'], 'B': [], 'C': ['B'], 'D': [], 'E': [], 'F': [], 'G': [], 'H': []}\n",
      "Out degree:  {'A': [], 'B': ['A', 'C'], 'C': [], 'D': [], 'E': [], 'F': [], 'G': [], 'H': []}\n",
      "In degree:  {'A': ['B'], 'B': ['C'], 'C': [], 'D': [], 'E': [], 'F': [], 'G': [], 'H': []}\n",
      "Out degree:  {'A': [], 'B': ['A'], 'C': ['B'], 'D': [], 'E': [], 'F': [], 'G': [], 'H': []}\n",
      "In degree:  {'A': [], 'B': [], 'C': [], 'D': [], 'E': ['D'], 'F': [], 'G': [], 'H': []}\n",
      "Out degree:  {'A': [], 'B': [], 'C': [], 'D': ['E'], 'E': [], 'F': [], 'G': [], 'H': []}\n",
      "In degree:  {'A': [], 'B': [], 'C': [], 'D': ['E'], 'E': [], 'F': [], 'G': [], 'H': []}\n",
      "Out degree:  {'A': [], 'B': [], 'C': [], 'D': [], 'E': ['D'], 'F': [], 'G': [], 'H': []}\n",
      "In degree:  {'A': [], 'B': [], 'C': [], 'D': [], 'E': [], 'F': [], 'G': ['F'], 'H': ['F']}\n",
      "Out degree:  {'A': [], 'B': [], 'C': [], 'D': [], 'E': [], 'F': ['G', 'H'], 'G': [], 'H': []}\n",
      "In degree:  {'A': [], 'B': [], 'C': [], 'D': [], 'E': [], 'F': ['G'], 'G': [], 'H': ['F']}\n",
      "Out degree:  {'A': [], 'B': [], 'C': [], 'D': [], 'E': [], 'F': ['H'], 'G': ['F'], 'H': []}\n",
      "In degree:  {'A': [], 'B': [], 'C': [], 'D': [], 'E': [], 'F': ['H'], 'G': ['F'], 'H': []}\n",
      "Out degree:  {'A': [], 'B': [], 'C': [], 'D': [], 'E': [], 'F': ['G'], 'G': [], 'H': ['F']}\n",
      "{'A-B': 2.0, 'B-C': 2.0, 'D-E': 1.0, 'F-G': 2.0, 'F-H': 2.0}\n"
     ]
    }
   ],
   "source": [
    "all_vertexes = ['A','B','C','D','E','F','G','H']\n",
    "vertex_neighbors = {'A':['B'], \n",
    "                    'B':['A','C'],\n",
    "                    'C':['B'],\n",
    "                    'D':['E'],\n",
    "                    'E':['D'],\n",
    "                    'F':['G','H'],\n",
    "                    'G':['F'],\n",
    "                    'H':['F']}\n",
    "edge_betweenness = calculate_graph_betweenness(vertex_neighbors, all_vertexes)\n",
    "print(edge_betweenness)"
   ]
  },
  {
   "cell_type": "code",
   "execution_count": 89,
   "metadata": {},
   "outputs": [
    {
     "name": "stdout",
     "output_type": "stream",
     "text": [
      "In degree: {'A': ['B'], 'B': [], 'C': ['B'], 'D': ['B'], 'E': ['D'], 'F': ['D'], 'G': ['D']}\n",
      "Out degree {'A': [], 'B': ['A', 'C', 'D'], 'C': [], 'D': ['E', 'F', 'G'], 'E': [], 'F': [], 'G': []}\n",
      "depth table: {'A': 2, 'B': 1, 'C': 2, 'D': 2, 'E': 3, 'F': 3, 'G': 3}\n"
     ]
    }
   ],
   "source": [
    "print(\"In degree:\",in_degree)\n",
    "print(\"Out degree\",out_degree) \n",
    "print(\"depth table:\",depth_table)"
   ]
  },
  {
   "cell_type": "code",
   "execution_count": 17,
   "metadata": {},
   "outputs": [],
   "source": [
    "modularity_df = pd.read_csv(\"./modularity_hist.txt\")"
   ]
  },
  {
   "cell_type": "code",
   "execution_count": 27,
   "metadata": {},
   "outputs": [
    {
     "data": {
      "text/html": [
       "<div>\n",
       "<style scoped>\n",
       "    .dataframe tbody tr th:only-of-type {\n",
       "        vertical-align: middle;\n",
       "    }\n",
       "\n",
       "    .dataframe tbody tr th {\n",
       "        vertical-align: top;\n",
       "    }\n",
       "\n",
       "    .dataframe thead th {\n",
       "        text-align: right;\n",
       "    }\n",
       "</style>\n",
       "<table border=\"1\" class=\"dataframe\">\n",
       "  <thead>\n",
       "    <tr style=\"text-align: right;\">\n",
       "      <th></th>\n",
       "      <th>Modularity</th>\n",
       "      <th>community_num</th>\n",
       "    </tr>\n",
       "  </thead>\n",
       "  <tbody>\n",
       "    <tr>\n",
       "      <th>16</th>\n",
       "      <td>755.927704</td>\n",
       "      <td>18</td>\n",
       "    </tr>\n",
       "  </tbody>\n",
       "</table>\n",
       "</div>"
      ],
      "text/plain": [
       "    Modularity  community_num\n",
       "16  755.927704             18"
      ]
     },
     "execution_count": 27,
     "metadata": {},
     "output_type": "execute_result"
    }
   ],
   "source": [
    "max_modularity = modularity_df[\"Modularity\"].max()\n",
    "modularity_df[modularity_df[\"Modularity\"]==max_modularity]"
   ]
  },
  {
   "cell_type": "code",
   "execution_count": 28,
   "metadata": {},
   "outputs": [
    {
     "data": {
      "text/plain": [
       "<matplotlib.axes._subplots.AxesSubplot at 0x11b3658d0>"
      ]
     },
     "execution_count": 28,
     "metadata": {},
     "output_type": "execute_result"
    },
    {
     "data": {
      "image/png": "[encoded data removed]",
      "text/plain": [
       "<Figure size 1440x720 with 1 Axes>"
      ]
     },
     "metadata": {
      "needs_background": "light"
     },
     "output_type": "display_data"
    }
   ],
   "source": [
    "fig, ax = plt.subplots(figsize=(20,10))\n",
    "sns.lineplot(x=\"community_num\", y=\"Modularity\", data=modularity_df.iloc[0:40],ax=ax)"
   ]
  },
  {
   "cell_type": "code",
   "execution_count": null,
   "metadata": {},
   "outputs": [],
   "source": []
  }
 ],
 "metadata": {
  "kernelspec": {
   "display_name": "Python [conda env:inf553]",
   "language": "python",
   "name": "conda-env-inf553-py"
  },
  "language_info": {
   "codemirror_mode": {
    "name": "ipython",
    "version": 3
   },
   "file_extension": ".py",
   "mimetype": "text/x-python",
   "name": "python",
   "nbconvert_exporter": "python",
   "pygments_lexer": "ipython3",
   "version": "3.6.9"
  },
  "latex_envs": {
   "LaTeX_envs_menu_present": true,
   "autoclose": false,
   "autocomplete": true,
   "bibliofile": "biblio.bib",
   "cite_by": "apalike",
   "current_citInitial": 1,
   "eqLabelWithNumbers": true,
   "eqNumInitial": 1,
   "hotkeys": {
    "equation": "Ctrl-E",
    "itemize": "Ctrl-I"
   },
   "labels_anchors": false,
   "latex_user_defs": false,
   "report_style_numbering": false,
   "user_envs_cfg": false
  },
  "toc": {
   "base_numbering": 1,
   "nav_menu": {},
   "number_sections": true,
   "sideBar": true,
   "skip_h1_title": false,
   "title_cell": "Table of Contents",
   "title_sidebar": "Contents",
   "toc_cell": false,
   "toc_position": {},
   "toc_section_display": true,
   "toc_window_display": false
  }
 },
 "nbformat": 4,
 "nbformat_minor": 2
}
