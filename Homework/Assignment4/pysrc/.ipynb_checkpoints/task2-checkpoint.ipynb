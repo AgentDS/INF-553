{
 "cells": [
  {
   "cell_type": "code",
   "execution_count": 1,
   "metadata": {},
   "outputs": [],
   "source": [
    "import csv\n",
    "import copy"
   ]
  },
  {
   "cell_type": "code",
   "execution_count": 77,
   "metadata": {},
   "outputs": [],
   "source": [
    "def BFS_travel(root_node, vert_neighbors, vert_list):\n",
    "    vert_neighbors = copy.deepcopy(vert_neighbors)\n",
    "    vert_list = copy.deepcopy(vert_list)\n",
    "    in_degree = {i: [] for i in vert_list}  # {n1:[from_node1, from_node2, ...], n2:[from_node1, ...], ...}\n",
    "    out_degree = {i: [] for i in vert_list}  # {n1:[to_node1, to_node2, ...], n2:[to_node1, to_node2, ...], ...}\n",
    "    depth_table = {i: None for i in vert_list}  # {n1: depth1, n2: depth2, ...}\n",
    "    current_depth = 1\n",
    "\n",
    "    current_level = [root_node]\n",
    "\n",
    "    while len(vert_list) > 0:\n",
    "        next_level = []\n",
    "#         print(\"Current level:\", current_level)\n",
    "        for current_node in current_level:\n",
    "            vert_list.remove(current_node)\n",
    "            for node in vert_neighbors:\n",
    "                if current_node in vert_neighbors[node]:\n",
    "                    vert_neighbors[node].remove(current_node)\n",
    "\n",
    "        for current_node in current_level:\n",
    "            depth_table[current_node] = current_depth\n",
    "            current_child = vert_neighbors[current_node]\n",
    "            next_level.extend(current_child)\n",
    "#             print(\"Current node: \", current_node)\n",
    "\n",
    "            for node in current_child:\n",
    "                in_degree[node].append(current_node)\n",
    "                out_degree[current_node].append(node)\n",
    "        current_level = list(set(next_level))\n",
    "        current_depth += 1\n",
    "    return in_degree, out_degree, depth_table\n",
    "        "
   ]
  },
  {
   "cell_type": "code",
   "execution_count": 95,
   "metadata": {},
   "outputs": [],
   "source": [
    "def assign_community_to_nodes(vert_neighbors, vert_list):\n",
    "    vertex_list = copy.deepcopy(vert_list)\n",
    "    node_community = {}\n",
    "    community_idx = 0\n",
    "\n",
    "    while len(vertex_list) > 0:\n",
    "        current_community = []\n",
    "        root_node = vertex_list[0]\n",
    "        current_level = [root_node]\n",
    "        while True:\n",
    "            next_level = []\n",
    "            current_community.extend(current_level)\n",
    "            for current_node in current_level:\n",
    "                if current_node in vertex_list:\n",
    "                    vertex_list.remove(current_node)\n",
    "                current_child = vert_neighbors[current_node]\n",
    "                next_level.extend(current_child)\n",
    "\n",
    "            current_level = list(set(next_level))\n",
    "            if len(current_level) == 0:\n",
    "                node_community[community_idx] = list(set(current_community))\n",
    "                community_idx += 1\n",
    "                break\n",
    "    return node_community"
   ]
  },
  {
   "cell_type": "code",
   "execution_count": 91,
   "metadata": {},
   "outputs": [],
   "source": [
    "def edge_value_calculate(vert_list, in_degree, out_degree, depth_table):\n",
    "    in_degree = copy.deepcopy(in_degree)\n",
    "    in_degree_num = {i:len(in_degree[i]) for i in in_degree}\n",
    "    out_degree = copy.deepcopy(out_degree)\n",
    "    vert_list = copy.deepcopy(vert_list)\n",
    "    \n",
    "    edges = {}\n",
    "    node_values = {i:0 for i in vert_list}\n",
    "    current_depth = max(list(depth_table.values()))\n",
    "    empty_out = []\n",
    "    \n",
    "    # initialize\n",
    "    for node in out_degree:\n",
    "        if len(out_degree[node])==0:\n",
    "            empty_out.append(node)\n",
    "            \n",
    "    while len(empty_out)>0:\n",
    "        for node in empty_out:\n",
    "            node_values[node] = (node_values[node] + 1) / in_degree_num[node]\n",
    "            for src_node in in_degree[node]:\n",
    "                out_degree[src_node].remove(node)\n",
    "                node_values[src_node] += node_values[node]\n",
    "        empty_out = []\n",
    "        for node in out_degree:\n",
    "            if len(out_degree[node]) ==0:\n",
    "                 empty_out.append(node)\n",
    "    \n",
    "    return node_values\n",
    "        \n",
    "        \n",
    "   "
   ]
  },
  {
   "cell_type": "code",
   "execution_count": 93,
   "metadata": {},
   "outputs": [],
   "source": [
    "vertex_neighbors = {'A':['B','C'], \n",
    "                    'B':['A','C','D'],\n",
    "                    'C':['A','B'],\n",
    "                    'D':['B','E','F','G'],\n",
    "                    'E':['D','F'],\n",
    "                    'F':['D','E','G'],\n",
    "                    'G':['D','F']}\n",
    "all_vertexes = ['A','B','C','D','E','F','G']\n",
    "\n",
    "in_degree, out_degree, depth_table = BFS_travel('B', vertex_neighbors , all_vertexes)"
   ]
  },
  {
   "cell_type": "code",
   "execution_count": null,
   "metadata": {},
   "outputs": [],
   "source": [
    "node_community = assign_community_to_nodes(vertex_neighbors, all_vertexes)"
   ]
  },
  {
   "cell_type": "code",
   "execution_count": 89,
   "metadata": {},
   "outputs": [
    {
     "name": "stdout",
     "output_type": "stream",
     "text": [
      "In degree: {'A': ['B'], 'B': [], 'C': ['B'], 'D': ['B'], 'E': ['D'], 'F': ['D'], 'G': ['D']}\n",
      "Out degree {'A': [], 'B': ['A', 'C', 'D'], 'C': [], 'D': ['E', 'F', 'G'], 'E': [], 'F': [], 'G': []}\n",
      "depth table: {'A': 2, 'B': 1, 'C': 2, 'D': 2, 'E': 3, 'F': 3, 'G': 3}\n"
     ]
    }
   ],
   "source": [
    "print(\"In degree:\",in_degree)\n",
    "print(\"Out degree\",out_degree) \n",
    "print(\"depth table:\",depth_table)"
   ]
  },
  {
   "cell_type": "code",
   "execution_count": 90,
   "metadata": {},
   "outputs": [
    {
     "ename": "ValueError",
     "evalue": "list.remove(x): x not in list",
     "output_type": "error",
     "traceback": [
      "\u001b[0;31m---------------------------------------------------------------------------\u001b[0m",
      "\u001b[0;31mValueError\u001b[0m                                Traceback (most recent call last)",
      "\u001b[0;32m<ipython-input-90-8e7b4cb7e824>\u001b[0m in \u001b[0;36m<module>\u001b[0;34m\u001b[0m\n\u001b[0;32m----> 1\u001b[0;31m \u001b[0mnode_values\u001b[0m \u001b[0;34m=\u001b[0m \u001b[0medge_value_calculate\u001b[0m\u001b[0;34m(\u001b[0m\u001b[0mall_vertexes\u001b[0m\u001b[0;34m,\u001b[0m \u001b[0min_degree\u001b[0m\u001b[0;34m,\u001b[0m \u001b[0mout_degree\u001b[0m\u001b[0;34m,\u001b[0m \u001b[0mdepth_table\u001b[0m\u001b[0;34m)\u001b[0m\u001b[0;34m\u001b[0m\u001b[0;34m\u001b[0m\u001b[0m\n\u001b[0m",
      "\u001b[0;32m<ipython-input-87-9d7fe32e6783>\u001b[0m in \u001b[0;36medge_value_calculate\u001b[0;34m(vert_list, in_degree, out_degree, depth_table)\u001b[0m\n\u001b[1;32m     20\u001b[0m             \u001b[0mnode_values\u001b[0m\u001b[0;34m[\u001b[0m\u001b[0mnode\u001b[0m\u001b[0;34m]\u001b[0m \u001b[0;34m=\u001b[0m \u001b[0;34m(\u001b[0m\u001b[0mnode_values\u001b[0m\u001b[0;34m[\u001b[0m\u001b[0mnode\u001b[0m\u001b[0;34m]\u001b[0m \u001b[0;34m+\u001b[0m \u001b[0;36m1\u001b[0m\u001b[0;34m)\u001b[0m \u001b[0;34m/\u001b[0m \u001b[0min_degree_num\u001b[0m\u001b[0;34m[\u001b[0m\u001b[0mnode\u001b[0m\u001b[0;34m]\u001b[0m\u001b[0;34m\u001b[0m\u001b[0;34m\u001b[0m\u001b[0m\n\u001b[1;32m     21\u001b[0m             \u001b[0;32mfor\u001b[0m \u001b[0msrc_node\u001b[0m \u001b[0;32min\u001b[0m \u001b[0min_degree\u001b[0m\u001b[0;34m[\u001b[0m\u001b[0mnode\u001b[0m\u001b[0;34m]\u001b[0m\u001b[0;34m:\u001b[0m\u001b[0;34m\u001b[0m\u001b[0;34m\u001b[0m\u001b[0m\n\u001b[0;32m---> 22\u001b[0;31m                 \u001b[0mout_degree\u001b[0m\u001b[0;34m[\u001b[0m\u001b[0msrc_node\u001b[0m\u001b[0;34m]\u001b[0m\u001b[0;34m.\u001b[0m\u001b[0mremove\u001b[0m\u001b[0;34m(\u001b[0m\u001b[0mnode\u001b[0m\u001b[0;34m)\u001b[0m\u001b[0;34m\u001b[0m\u001b[0;34m\u001b[0m\u001b[0m\n\u001b[0m\u001b[1;32m     23\u001b[0m                 \u001b[0mnode_values\u001b[0m\u001b[0;34m[\u001b[0m\u001b[0msrc_node\u001b[0m\u001b[0;34m]\u001b[0m \u001b[0;34m+=\u001b[0m \u001b[0mnode_values\u001b[0m\u001b[0;34m[\u001b[0m\u001b[0mnode\u001b[0m\u001b[0;34m]\u001b[0m\u001b[0;34m\u001b[0m\u001b[0;34m\u001b[0m\u001b[0m\n\u001b[1;32m     24\u001b[0m         \u001b[0mempty_out\u001b[0m \u001b[0;34m=\u001b[0m \u001b[0;34m[\u001b[0m\u001b[0;34m]\u001b[0m\u001b[0;34m\u001b[0m\u001b[0;34m\u001b[0m\u001b[0m\n",
      "\u001b[0;31mValueError\u001b[0m: list.remove(x): x not in list"
     ]
    }
   ],
   "source": [
    "node_values = edge_value_calculate(all_vertexes, in_degree, out_degree, depth_table)"
   ]
  },
  {
   "cell_type": "code",
   "execution_count": null,
   "metadata": {},
   "outputs": [],
   "source": []
  }
 ],
 "metadata": {
  "kernelspec": {
   "display_name": "Python [conda env:inf553]",
   "language": "python",
   "name": "conda-env-inf553-py"
  },
  "language_info": {
   "codemirror_mode": {
    "name": "ipython",
    "version": 3
   },
   "file_extension": ".py",
   "mimetype": "text/x-python",
   "name": "python",
   "nbconvert_exporter": "python",
   "pygments_lexer": "ipython3",
   "version": "3.6.9"
  },
  "latex_envs": {
   "LaTeX_envs_menu_present": true,
   "autoclose": false,
   "autocomplete": true,
   "bibliofile": "biblio.bib",
   "cite_by": "apalike",
   "current_citInitial": 1,
   "eqLabelWithNumbers": true,
   "eqNumInitial": 1,
   "hotkeys": {
    "equation": "Ctrl-E",
    "itemize": "Ctrl-I"
   },
   "labels_anchors": false,
   "latex_user_defs": false,
   "report_style_numbering": false,
   "user_envs_cfg": false
  },
  "toc": {
   "base_numbering": 1,
   "nav_menu": {},
   "number_sections": true,
   "sideBar": true,
   "skip_h1_title": false,
   "title_cell": "Table of Contents",
   "title_sidebar": "Contents",
   "toc_cell": false,
   "toc_position": {},
   "toc_section_display": true,
   "toc_window_display": false
  }
 },
 "nbformat": 4,
 "nbformat_minor": 2
}
