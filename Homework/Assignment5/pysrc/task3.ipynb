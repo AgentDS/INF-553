{
 "cells": [
  {
   "cell_type": "code",
   "execution_count": 42,
   "metadata": {},
   "outputs": [],
   "source": [
    "import tweepy\n",
    "import re\n",
    "import random"
   ]
  },
  {
   "cell_type": "code",
   "execution_count": 7,
   "metadata": {},
   "outputs": [
    {
     "data": {
      "text/plain": [
       "0.1984782521252687"
      ]
     },
     "execution_count": 7,
     "metadata": {},
     "output_type": "execute_result"
    }
   ],
   "source": [
    "random.random()"
   ]
  },
  {
   "cell_type": "code",
   "execution_count": 2,
   "metadata": {},
   "outputs": [],
   "source": [
    "class MyStreamListener(tweepy.StreamListener):\n",
    "\n",
    "    def on_status(self, status):\n",
    "        print(status.text)"
   ]
  },
  {
   "cell_type": "code",
   "execution_count": 4,
   "metadata": {},
   "outputs": [],
   "source": [
    "consumer_key = 'IAlRSjkeynP1LFzgE5XGDjoZ2'\n",
    "consumer_secret = 'ny6LDWzeWh3nAzg5G0gVYDCSYXr43S9o13fC6YJulrYqJS4w8z'\n",
    "auth = tweepy.OAuthHandler(consumer_key, consumer_secret)\n",
    "api = tweepy.API(auth)\n",
    "myStreamListener = MyStreamListener()\n",
    "myStream = tweepy.Stream(auth = api.auth, listener=myStreamListener)"
   ]
  },
  {
   "cell_type": "code",
   "execution_count": 41,
   "metadata": {},
   "outputs": [
    {
     "data": {
      "text/plain": [
       "['fsd', 'gfda', 'avfd%g']"
      ]
     },
     "execution_count": 41,
     "metadata": {},
     "output_type": "execute_result"
    }
   ],
   "source": [
    "s = \"fsd\\n gfda avfd%g\"\n",
    "s.split()"
   ]
  },
  {
   "cell_type": "code",
   "execution_count": 8,
   "metadata": {},
   "outputs": [
    {
     "name": "stdout",
     "output_type": "stream",
     "text": [
      "s\n",
      "d\n",
      "\n",
      "\n",
      " \n",
      "g\n",
      "f\n",
      "d\n",
      "a\n",
      " \n",
      "a\n",
      "v\n",
      "f\n",
      "d\n",
      "g\n"
     ]
    }
   ],
   "source": [
    "n = len(s)\n",
    "for i in range(1,n):\n",
    "    print(s[i])"
   ]
  },
  {
   "cell_type": "code",
   "execution_count": 119,
   "metadata": {},
   "outputs": [],
   "source": [
    "def all_tags(text):\n",
    "    word_pool = re.split(\"\\s+|[,;.-/:’'—?Ⓝ]\\s*\", text)\n",
    "    word_pool = [i.rstrip('…').rstrip('!') for i in word_pool]\n",
    "    tag_list = []\n",
    "    for word in word_pool:\n",
    "        if len(word) >= 2:\n",
    "            if word[0] == '#':\n",
    "                n = len(word)\n",
    "                flag = True\n",
    "                for i in range(1, n):\n",
    "                    if word[i] == '#':\n",
    "                        flag = False\n",
    "                        break\n",
    "                if flag is True:\n",
    "                    if word[1].isdigit():\n",
    "                        if len(word[1:])>2:\n",
    "                            for i in word[1:]:\n",
    "                                if not i.isdigit() and i !='_':\n",
    "                                    tag_list.append(word.strip('#'))\n",
    "                                    break\n",
    "                    else:\n",
    "                        tag_list.append(word.strip('#'))\n",
    "    return tag_list"
   ]
  },
  {
   "cell_type": "code",
   "execution_count": 122,
   "metadata": {},
   "outputs": [
    {
     "data": {
      "text/plain": [
       "['124_rf', 'ed2', 'China', 'FOLLOW', 'adv_32', 'dfs']"
      ]
     },
     "execution_count": 122,
     "metadata": {},
     "output_type": "execute_result"
    }
   ],
   "source": [
    "text = \"#124_rf #1 #ed2 #Ⓝ-ㄴ' #China? #FOLLOW—A \\n#adv_32 #2’ #dfs!!!:... \"\n",
    "all_tags(text)\n"
   ]
  },
  {
   "cell_type": "code",
   "execution_count": 109,
   "metadata": {},
   "outputs": [
    {
     "data": {
      "text/plain": [
       "['#124_rf', '#adv_32', '#2’', '#dfs!!!:', '', '', '']"
      ]
     },
     "execution_count": 109,
     "metadata": {},
     "output_type": "execute_result"
    }
   ],
   "source": [
    "re.split('\\s+|[,;.-]\\s*', text)"
   ]
  },
  {
   "cell_type": "code",
   "execution_count": 17,
   "metadata": {},
   "outputs": [],
   "source": [
    "def all_tags(text):\n",
    "    word_pool = text.split()\n",
    "    word_pool = [i.rstrip('.') for i in word_pool]\n",
    "    tag_list = []\n",
    "    for word in word_pool:\n",
    "        if word[0] == '#' and len(word) > 1:\n",
    "            n = len(word)\n",
    "            flag = True\n",
    "            for i in range(1, n):\n",
    "                if word[i] == '#':\n",
    "                    flag = False\n",
    "                    break\n",
    "            if flag is True:\n",
    "                tag_list.append(word.strip('#'))\n",
    "    return tag_list"
   ]
  },
  {
   "cell_type": "code",
   "execution_count": 13,
   "metadata": {},
   "outputs": [],
   "source": [
    "text = \"正解！施設名は # SEEKBASE AKI-OKA MANUFACTUREです！ 欲しい景品をツイートで当選のチャンス！※当選の連絡はDMにて当選者のみにご連絡いたします。https://t.co/iHeY7XQD6q #seekbaseakiokamanufacture\""
   ]
  },
  {
   "cell_type": "code",
   "execution_count": 18,
   "metadata": {},
   "outputs": [
    {
     "data": {
      "text/plain": [
       "['seekbaseakiokamanufacture']"
      ]
     },
     "execution_count": 18,
     "metadata": {},
     "output_type": "execute_result"
    }
   ],
   "source": [
    "all_tags(text)"
   ]
  },
  {
   "cell_type": "code",
   "execution_count": 36,
   "metadata": {},
   "outputs": [],
   "source": [
    "s = {'a':0,'b':1,'c':-1,'d':5,'q':8,'x':0,'p':4}"
   ]
  },
  {
   "cell_type": "code",
   "execution_count": 37,
   "metadata": {},
   "outputs": [],
   "source": [
    "x = list(s.items())"
   ]
  },
  {
   "cell_type": "code",
   "execution_count": 40,
   "metadata": {},
   "outputs": [
    {
     "data": {
      "text/plain": [
       "[('q', 8), ('d', 5), ('p', 4), ('b', 1), ('a', 0)]"
      ]
     },
     "execution_count": 40,
     "metadata": {},
     "output_type": "execute_result"
    }
   ],
   "source": [
    "sorted(list(s.items()),key=lambda x: [-x[1],x[0]])[:5]"
   ]
  },
  {
   "cell_type": "code",
   "execution_count": 39,
   "metadata": {},
   "outputs": [
    {
     "data": {
      "text/plain": [
       "7"
      ]
     },
     "execution_count": 39,
     "metadata": {},
     "output_type": "execute_result"
    }
   ],
   "source": [
    "len(x)"
   ]
  },
  {
   "cell_type": "code",
   "execution_count": null,
   "metadata": {},
   "outputs": [],
   "source": []
  }
 ],
 "metadata": {
  "kernelspec": {
   "display_name": "Python [conda env:inf553]",
   "language": "python",
   "name": "conda-env-inf553-py"
  },
  "language_info": {
   "codemirror_mode": {
    "name": "ipython",
    "version": 3
   },
   "file_extension": ".py",
   "mimetype": "text/x-python",
   "name": "python",
   "nbconvert_exporter": "python",
   "pygments_lexer": "ipython3",
   "version": "3.6.9"
  },
  "latex_envs": {
   "LaTeX_envs_menu_present": true,
   "autoclose": false,
   "autocomplete": true,
   "bibliofile": "biblio.bib",
   "cite_by": "apalike",
   "current_citInitial": 1,
   "eqLabelWithNumbers": true,
   "eqNumInitial": 1,
   "hotkeys": {
    "equation": "Ctrl-E",
    "itemize": "Ctrl-I"
   },
   "labels_anchors": false,
   "latex_user_defs": false,
   "report_style_numbering": false,
   "user_envs_cfg": false
  },
  "toc": {
   "base_numbering": 1,
   "nav_menu": {},
   "number_sections": true,
   "sideBar": true,
   "skip_h1_title": false,
   "title_cell": "Table of Contents",
   "title_sidebar": "Contents",
   "toc_cell": false,
   "toc_position": {},
   "toc_section_display": true,
   "toc_window_display": false
  }
 },
 "nbformat": 4,
 "nbformat_minor": 2
}
