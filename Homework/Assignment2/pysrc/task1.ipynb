{
 "cells": [
  {
   "cell_type": "code",
   "execution_count": 1,
   "metadata": {},
   "outputs": [],
   "source": [
    "from pyspark import SparkContext\n",
    "# import json\n",
    "# import sys\n",
    "input_file = \"../data/small1.csv\""
   ]
  },
  {
   "cell_type": "code",
   "execution_count": 2,
   "metadata": {},
   "outputs": [],
   "source": [
    "sc = SparkContext.getOrCreate()\n",
    "raw_data = sc.textFile(input_file)\n",
    "header = raw_data.first()\n",
    "raw_data_without_header = raw_data.filter(lambda x: x != header)\n",
    "clean_data = raw_data_without_header.map(lambda line: [int(i) for i in line.strip().split(',')]) # user_id, business_id"
   ]
  },
  {
   "cell_type": "code",
   "execution_count": 5,
   "metadata": {},
   "outputs": [],
   "source": [
    "baskets1 = clean_data.map(lambda x: [x[0], [x[1]]]).reduceByKey(lambda a, b: a + b).map(lambda x: [x[0], list(set(list(x[1])))])\n",
    "baskets2 = clean_data.map(lambda x: [x[1], [x[0]]]).reduceByKey(lambda a, b: a + b).map(lambda x: [x[0], list(set(list(x[1])))])"
   ]
  },
  {
   "cell_type": "code",
   "execution_count": 6,
   "metadata": {},
   "outputs": [
    {
     "name": "stdout",
     "output_type": "stream",
     "text": [
      "[(2, [101, 99, 97, 100]), (4, [102, 103, 101, 99, 97]), (6, [101, 102]), (8, [102, 104, 103, 98, 97, 99]), (10, [98, 97]), (12, [100, 101, 108, 98, 106, 105, 107, 102]), (14, [97]), (16, [98, 101, 100, 99]), (18, [98, 99, 97]), (1, [100, 98, 101, 102]), (3, [98, 103, 105, 102, 97, 99]), (5, [98, 97]), (7, [99, 97, 101]), (9, [97, 98, 99]), (11, [97, 98, 99]), (13, [108, 100, 105, 102, 107, 98, 99, 103, 106, 101]), (15, [97, 99, 101]), (17, [97, 99]), (19, [102, 97, 98])]\n"
     ]
    }
   ],
   "source": [
    "print(basket1.collect())"
   ]
  },
  {
   "cell_type": "code",
   "execution_count": null,
   "metadata": {},
   "outputs": [],
   "source": []
  }
 ],
 "metadata": {
  "kernelspec": {
   "display_name": "Python [conda env:inf553]",
   "language": "python",
   "name": "conda-env-inf553-py"
  },
  "language_info": {
   "codemirror_mode": {
    "name": "ipython",
    "version": 3
   },
   "file_extension": ".py",
   "mimetype": "text/x-python",
   "name": "python",
   "nbconvert_exporter": "python",
   "pygments_lexer": "ipython3",
   "version": "3.6.9"
  },
  "latex_envs": {
   "LaTeX_envs_menu_present": true,
   "autoclose": false,
   "autocomplete": true,
   "bibliofile": "biblio.bib",
   "cite_by": "apalike",
   "current_citInitial": 1,
   "eqLabelWithNumbers": true,
   "eqNumInitial": 1,
   "hotkeys": {
    "equation": "Ctrl-E",
    "itemize": "Ctrl-I"
   },
   "labels_anchors": false,
   "latex_user_defs": false,
   "report_style_numbering": false,
   "user_envs_cfg": false
  },
  "toc": {
   "base_numbering": 1,
   "nav_menu": {},
   "number_sections": true,
   "sideBar": true,
   "skip_h1_title": false,
   "title_cell": "Table of Contents",
   "title_sidebar": "Contents",
   "toc_cell": false,
   "toc_position": {},
   "toc_section_display": true,
   "toc_window_display": false
  }
 },
 "nbformat": 4,
 "nbformat_minor": 2
}
