{
 "cells": [
  {
   "cell_type": "code",
   "execution_count": 1,
   "metadata": {},
   "outputs": [],
   "source": [
    "from pyspark import SparkContext\n",
    "import sys\n",
    "import csv\n",
    "from collections import Counter\n",
    "from itertools import combinations\n",
    "\n",
    "input_file = \"../data/small1.csv\"\n",
    "support = 4"
   ]
  },
  {
   "cell_type": "code",
   "execution_count": 2,
   "metadata": {},
   "outputs": [],
   "source": [
    "def iterm_num(iterator):\n",
    "    cnt = 0\n",
    "    for x in iterator:\n",
    "        cnt += 1\n",
    "    yield cnt"
   ]
  },
  {
   "cell_type": "code",
   "execution_count": 19,
   "metadata": {},
   "outputs": [],
   "source": [
    "def A_priori(baskets, support, total_baskets_cnt):\n",
    "    clean_baskets = list(baskets)\n",
    "    local_support = support * len(clean_baskets) / float(total_baskets_cnt)\n",
    "\n",
    "    max_itemset_size = max([len(basket) for basket in clean_baskets])\n",
    "    # candidate_itemsets = {str(i): [] for i in range(1, max_itemset_size + 1)}\n",
    "    candidate_itemsets = []\n",
    "\n",
    "    # frequent items\n",
    "    single_cnt = Counter()\n",
    "    for basket in clean_baskets:\n",
    "        single_cnt.update(basket)\n",
    "\n",
    "    candidate_single = sorted([i for i in single_cnt if single_cnt[i] >= local_support])\n",
    "    former_candidate = candidate_single\n",
    "    # candidate_itemsets['1'].extend(former_candidate)\n",
    "    candidate_itemsets.extend(former_candidate)\n",
    "\n",
    "    # frequent itemsets with size >= 2\n",
    "    for itemset_size in range(2, max_itemset_size + 1):\n",
    "        tmp_itemsets = []\n",
    "        for basket in clean_baskets:\n",
    "            if len(basket) < itemset_size:\n",
    "                continue\n",
    "            for itemset in combinations(basket, itemset_size):\n",
    "                itemset = sorted(itemset)\n",
    "                if itemset_size == 2:\n",
    "                    immediate_subset = [i[0] for i in combinations(itemset, itemset_size - 1)]\n",
    "                else:\n",
    "                    immediate_subset = [sorted(i) for i in combinations(itemset, itemset_size - 1)]\n",
    "                immediate_subset_is_candidate = [i in former_candidate for i in immediate_subset]\n",
    "                if all(immediate_subset_is_candidate):\n",
    "                    tmp_itemsets.append('_'.join(itemset))\n",
    "        itemset_cnt = Counter(tmp_itemsets)\n",
    "#         former_candidate = [i.split('_') for i in itemset_cnt if itemset_cnt[i] >= local_support]\n",
    "        former_candidate = [i for i in itemset_cnt if itemset_cnt[i] >= local_support]\n",
    "        # candidate_itemsets[str(itemset_size)].extend(former_candidate)\n",
    "        candidate_itemsets.extend(former_candidate)\n",
    "\n",
    "    return candidate_itemsets\n"
   ]
  },
  {
   "cell_type": "code",
   "execution_count": 37,
   "metadata": {},
   "outputs": [],
   "source": [
    "def candidate_count(baskets,candidate_itemsets):\n",
    "    itemsets_count = []\n",
    "    baskets = list(baskets)\n",
    "    for basket in baskets:\n",
    "        for itemset in candidate_itemsets:\n",
    "            if all([item in basket for item in itemset.split('_')]):\n",
    "                itemsets_count.append(itemset)\n",
    "    return Counter(itemsets_count).items()"
   ]
  },
  {
   "cell_type": "code",
   "execution_count": 35,
   "metadata": {},
   "outputs": [
    {
     "name": "stdout",
     "output_type": "stream",
     "text": [
      "True\n",
      "False\n"
     ]
    }
   ],
   "source": [
    "basket = ['101','100','99','98']\n",
    "itemset1 = '101_99_98'\n",
    "itemset2 = '101_102'\n",
    "print(all([item in basket for item in itemset1.split('_')]))\n",
    "print(all([item in basket for item in itemset2.split('_')]))"
   ]
  },
  {
   "cell_type": "code",
   "execution_count": 4,
   "metadata": {},
   "outputs": [
    {
     "name": "stdout",
     "output_type": "stream",
     "text": [
      "[['100', '101', '102', '98'], ['101', '102', '103', '97', '99'], ['102', '103', '104', '97', '98', '99'], ['97', '98', '99'], ['97', '98'], ['100', '101', '102', '105', '106', '107', '108', '98'], ['97'], ['100', '101', '98', '99'], ['97', '99'], ['102', '97', '98'], ['100', '101', '97', '99'], ['102', '103', '105', '97', '98', '99'], ['97', '98'], ['101', '102'], ['101', '97', '99'], ['97', '98', '99'], ['100', '101', '102', '103', '105', '106', '107', '108', '98', '99'], ['101', '97', '99'], ['97', '98', '99']]\n"
     ]
    }
   ],
   "source": [
    "input_file = \"../data/small1.csv\"\n",
    "\n",
    "sc = SparkContext.getOrCreate()\n",
    "raw_data = sc.textFile(input_file)\n",
    "header = raw_data.first()\n",
    "raw_data_without_header = raw_data.filter(lambda x: x != header)\n",
    "clean_data = raw_data_without_header.map(lambda line: [i for i in line.strip().split(',')])\n",
    "\n",
    "baskets = clean_data.map(lambda x: (x[0], [x[1]])).reduceByKey(lambda a, b: a + b).map(\n",
    "        lambda x: [x[0], sorted(list(set(list(x[1]))))])\n",
    "# baskets2 = clean_data.map(lambda x: (x[1], [x[0]])).reduceByKey(lambda a, b: a + b).map(\n",
    "#         lambda x: [x[0], sorted(list(set(list(x[1]))))])\n",
    "\n",
    "# get rid of original key:\n",
    "#   case 1 only remain [business_ids];\n",
    "#   case 2 only remain [user_ids]\n",
    "clean_baskets = baskets.map(lambda x: x[1])\n",
    "clean_baskets.persist()\n",
    "total_baskets_cnt = clean_baskets.count()\n",
    "print(clean_baskets.collect())"
   ]
  },
  {
   "cell_type": "code",
   "execution_count": 20,
   "metadata": {},
   "outputs": [],
   "source": [
    "phase1_map = clean_baskets.mapPartitions(lambda baskets_subset: A_priori(baskets_subset, support, total_baskets_cnt)).map(lambda x: (x,1))"
   ]
  },
  {
   "cell_type": "code",
   "execution_count": 21,
   "metadata": {},
   "outputs": [
    {
     "data": {
      "text/plain": [
       "[('100', 1),\n",
       " ('101', 1),\n",
       " ('102', 1),\n",
       " ('97', 1),\n",
       " ('98', 1),\n",
       " ('99', 1),\n",
       " ('100_101', 1),\n",
       " ('100_98', 1),\n",
       " ('101_102', 1),\n",
       " ('101_98', 1),\n",
       " ('102_98', 1),\n",
       " ('102_97', 1),\n",
       " ('97_99', 1),\n",
       " ('97_98', 1),\n",
       " ('98_99', 1),\n",
       " ('100', 1),\n",
       " ('101', 1),\n",
       " ('102', 1),\n",
       " ('103', 1),\n",
       " ('105', 1),\n",
       " ('97', 1),\n",
       " ('98', 1),\n",
       " ('99', 1),\n",
       " ('100_101', 1),\n",
       " ('100_99', 1),\n",
       " ('101_97', 1),\n",
       " ('101_99', 1),\n",
       " ('97_99', 1),\n",
       " ('102_103', 1),\n",
       " ('102_105', 1),\n",
       " ('102_98', 1),\n",
       " ('102_99', 1),\n",
       " ('103_105', 1),\n",
       " ('103_98', 1),\n",
       " ('103_99', 1),\n",
       " ('105_98', 1),\n",
       " ('105_99', 1),\n",
       " ('97_98', 1),\n",
       " ('98_99', 1),\n",
       " ('101_102', 1)]"
      ]
     },
     "execution_count": 21,
     "metadata": {},
     "output_type": "execute_result"
    }
   ],
   "source": [
    "phase1_map.collect()"
   ]
  },
  {
   "cell_type": "code",
   "execution_count": 32,
   "metadata": {},
   "outputs": [],
   "source": [
    "phase1_reduce = phase1_map.reduceByKey(lambda x,y: 1).keys().collect()"
   ]
  },
  {
   "cell_type": "code",
   "execution_count": 33,
   "metadata": {},
   "outputs": [
    {
     "data": {
      "text/plain": [
       "['100',\n",
       " '102',\n",
       " '98',\n",
       " '101_98',\n",
       " '102_97',\n",
       " '97_99',\n",
       " '102_103',\n",
       " '102_105',\n",
       " '103_105',\n",
       " '103_98',\n",
       " '105_98',\n",
       " '101',\n",
       " '97',\n",
       " '99',\n",
       " '100_101',\n",
       " '100_98',\n",
       " '101_102',\n",
       " '102_98',\n",
       " '97_98',\n",
       " '98_99',\n",
       " '103',\n",
       " '105',\n",
       " '100_99',\n",
       " '101_97',\n",
       " '101_99',\n",
       " '102_99',\n",
       " '103_99',\n",
       " '105_99']"
      ]
     },
     "execution_count": 33,
     "metadata": {},
     "output_type": "execute_result"
    }
   ],
   "source": [
    "phase1_reduce"
   ]
  },
  {
   "cell_type": "code",
   "execution_count": 49,
   "metadata": {},
   "outputs": [],
   "source": [
    "phase2_map = clean_baskets.mapPartitions(lambda baskets_subset: candidate_count(baskets_subset,phase1_reduce))\n",
    "phase2_reduce = phase2_map.reduceByKey(lambda x,y: x+y).filter(lambda kv: kv[1]>=support).keys().map(lambda x: x.split('_')).collect()"
   ]
  },
  {
   "cell_type": "code",
   "execution_count": 50,
   "metadata": {},
   "outputs": [
    {
     "data": {
      "text/plain": [
       "[['100'],\n",
       " ['102'],\n",
       " ['98'],\n",
       " ['101', '98'],\n",
       " ['102', '97'],\n",
       " ['97', '99'],\n",
       " ['102', '103'],\n",
       " ['101'],\n",
       " ['100', '101'],\n",
       " ['100', '98'],\n",
       " ['101', '102'],\n",
       " ['102', '98'],\n",
       " ['97'],\n",
       " ['99'],\n",
       " ['103'],\n",
       " ['101', '97'],\n",
       " ['101', '99'],\n",
       " ['102', '99'],\n",
       " ['103', '99'],\n",
       " ['97', '98'],\n",
       " ['98', '99']]"
      ]
     },
     "execution_count": 50,
     "metadata": {},
     "output_type": "execute_result"
    }
   ],
   "source": [
    "phase2_reduce"
   ]
  },
  {
   "cell_type": "code",
   "execution_count": 16,
   "metadata": {},
   "outputs": [],
   "source": [
    "item_cnt = clean_data.map(lambda x: [x[1],1]).reduceByKey(lambda a,b: a + b)\n",
    "custum_cnt = clean_data.map(lambda x: [x[0],1]).reduceByKey(lambda a,b: a + b)"
   ]
  },
  {
   "cell_type": "code",
   "execution_count": 19,
   "metadata": {},
   "outputs": [
    {
     "data": {
      "text/plain": [
       "[('100', 5), ('98', 12), ('102', 8), ('101', 9), ('99', 12), ('97', 14)]"
      ]
     },
     "execution_count": 19,
     "metadata": {},
     "output_type": "execute_result"
    }
   ],
   "source": [
    "frequent_item = item_cnt.filter(lambda x: x[1] > support)\n",
    "frequent_item.collect()"
   ]
  },
  {
   "cell_type": "code",
   "execution_count": 21,
   "metadata": {},
   "outputs": [
    {
     "data": {
      "text/plain": [
       "[('4', 5), ('8', 6), ('12', 8), ('3', 6), ('13', 10)]"
      ]
     },
     "execution_count": 21,
     "metadata": {},
     "output_type": "execute_result"
    }
   ],
   "source": [
    "frequent_custum = custum_cnt.filter(lambda x: x[1] > support)\n",
    "frequent_custum.collect()"
   ]
  },
  {
   "cell_type": "code",
   "execution_count": null,
   "metadata": {},
   "outputs": [],
   "source": []
  }
 ],
 "metadata": {
  "kernelspec": {
   "display_name": "Python [conda env:inf553]",
   "language": "python",
   "name": "conda-env-inf553-py"
  },
  "language_info": {
   "codemirror_mode": {
    "name": "ipython",
    "version": 3
   },
   "file_extension": ".py",
   "mimetype": "text/x-python",
   "name": "python",
   "nbconvert_exporter": "python",
   "pygments_lexer": "ipython3",
   "version": "3.6.9"
  },
  "latex_envs": {
   "LaTeX_envs_menu_present": true,
   "autoclose": false,
   "autocomplete": true,
   "bibliofile": "biblio.bib",
   "cite_by": "apalike",
   "current_citInitial": 1,
   "eqLabelWithNumbers": true,
   "eqNumInitial": 1,
   "hotkeys": {
    "equation": "Ctrl-E",
    "itemize": "Ctrl-I"
   },
   "labels_anchors": false,
   "latex_user_defs": false,
   "report_style_numbering": false,
   "user_envs_cfg": false
  },
  "toc": {
   "base_numbering": 1,
   "nav_menu": {},
   "number_sections": true,
   "sideBar": true,
   "skip_h1_title": false,
   "title_cell": "Table of Contents",
   "title_sidebar": "Contents",
   "toc_cell": false,
   "toc_position": {},
   "toc_section_display": true,
   "toc_window_display": false
  }
 },
 "nbformat": 4,
 "nbformat_minor": 2
}
