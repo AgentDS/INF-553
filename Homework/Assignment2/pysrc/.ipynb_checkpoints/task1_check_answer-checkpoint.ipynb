{
 "cells": [
  {
   "cell_type": "code",
   "execution_count": 1,
   "metadata": {},
   "outputs": [],
   "source": [
    "from pyspark import SparkContext\n",
    "import sys\n",
    "import csv\n",
    "from collections import Counter\n",
    "from itertools import combinations"
   ]
  },
  {
   "cell_type": "code",
   "execution_count": 7,
   "metadata": {},
   "outputs": [],
   "source": [
    "def emit_key(baskets):\n",
    "    baskets = list(baskets)\n",
    "    for basket in baskets:\n",
    "        max_size = len(basket)\n",
    "        for set_size in range(1,max_size+1):\n",
    "            for itemset in combinations(basket,set_size):\n",
    "                itemset = '_'.join(sorted(itemset))\n",
    "                yield [itemset,1]"
   ]
  },
  {
   "cell_type": "code",
   "execution_count": 18,
   "metadata": {},
   "outputs": [],
   "source": [
    "input_file = \"../data/small1.csv\"\n",
    "support = 5\n",
    "case = 1"
   ]
  },
  {
   "cell_type": "code",
   "execution_count": 19,
   "metadata": {},
   "outputs": [],
   "source": [
    "# def task_stupid(input_file,support)\n",
    "sc = SparkContext.getOrCreate()\n",
    "raw_data = sc.textFile(input_file)\n",
    "header = raw_data.first()\n",
    "raw_data_without_header = raw_data.filter(lambda x: x != header)\n",
    "clean_data = raw_data_without_header.map(lambda line: [i for i in line.strip().split(',')])\n",
    "\n",
    "# whether there is faster method??\n",
    "if case==1:\n",
    "    baskets = clean_data.map(lambda x: (x[0], [x[1]])).reduceByKey(lambda a, b: a + b).map(\n",
    "            lambda x: [x[0], sorted(list(set(list(x[1]))))])\n",
    "elif case==2:\n",
    "    baskets = clean_data.map(lambda x: (x[1], [x[0]])).reduceByKey(lambda a, b: a + b).map(\n",
    "            lambda x: [x[0], sorted(list(set(list(x[1]))))])\n",
    "clean_baskets = baskets.map(lambda x: x[1])  # TODO\n",
    "clean_baskets.persist()\n",
    "map_result = clean_baskets.mapPartitions(lambda subset: emit_key(subset))\n",
    "reduce_result = map_result.reduceByKey(lambda x,y: x+y)\n",
    "result = reduce_result.filter(lambda kv: kv[1]>=support).collect()\n",
    "sc.stop()"
   ]
  },
  {
   "cell_type": "code",
   "execution_count": 20,
   "metadata": {},
   "outputs": [
    {
     "data": {
      "text/plain": [
       "[('100', 5),\n",
       " ('102', 8),\n",
       " ('98', 12),\n",
       " ('97_99', 10),\n",
       " ('97_98_99', 5),\n",
       " ('101', 9),\n",
       " ('100_101', 5),\n",
       " ('101_102', 5),\n",
       " ('102_98', 6),\n",
       " ('97', 14),\n",
       " ('99', 12),\n",
       " ('101_99', 6),\n",
       " ('97_98', 8),\n",
       " ('98_99', 7)]"
      ]
     },
     "execution_count": 20,
     "metadata": {},
     "output_type": "execute_result"
    }
   ],
   "source": [
    "result"
   ]
  },
  {
   "cell_type": "code",
   "execution_count": null,
   "metadata": {},
   "outputs": [],
   "source": []
  }
 ],
 "metadata": {
  "kernelspec": {
   "display_name": "Python [conda env:inf553]",
   "language": "python",
   "name": "conda-env-inf553-py"
  },
  "language_info": {
   "codemirror_mode": {
    "name": "ipython",
    "version": 3
   },
   "file_extension": ".py",
   "mimetype": "text/x-python",
   "name": "python",
   "nbconvert_exporter": "python",
   "pygments_lexer": "ipython3",
   "version": "3.6.9"
  },
  "latex_envs": {
   "LaTeX_envs_menu_present": true,
   "autoclose": false,
   "autocomplete": true,
   "bibliofile": "biblio.bib",
   "cite_by": "apalike",
   "current_citInitial": 1,
   "eqLabelWithNumbers": true,
   "eqNumInitial": 1,
   "hotkeys": {
    "equation": "Ctrl-E",
    "itemize": "Ctrl-I"
   },
   "labels_anchors": false,
   "latex_user_defs": false,
   "report_style_numbering": false,
   "user_envs_cfg": false
  },
  "toc": {
   "base_numbering": 1,
   "nav_menu": {},
   "number_sections": true,
   "sideBar": true,
   "skip_h1_title": false,
   "title_cell": "Table of Contents",
   "title_sidebar": "Contents",
   "toc_cell": false,
   "toc_position": {},
   "toc_section_display": true,
   "toc_window_display": false
  }
 },
 "nbformat": 4,
 "nbformat_minor": 2
}
