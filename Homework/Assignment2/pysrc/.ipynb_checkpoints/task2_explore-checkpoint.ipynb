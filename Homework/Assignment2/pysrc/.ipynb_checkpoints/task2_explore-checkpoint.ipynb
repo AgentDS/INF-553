{
 "cells": [
  {
   "cell_type": "code",
   "execution_count": 6,
   "metadata": {},
   "outputs": [],
   "source": [
    "import pandas as pd\n",
    "import csv\n",
    "import numpy as np\n",
    "import seaborn as sns\n",
    "import matplotlib.pyplot as plt\n",
    "%matplotlib inline"
   ]
  },
  {
   "cell_type": "code",
   "execution_count": 2,
   "metadata": {},
   "outputs": [],
   "source": [
    "sorted_frequents = [('4710011401128_4710011401135', 185),\n",
    " ('4710011401128_4710011405133', 182),\n",
    " ('4710011401128_4710011409056', 166),\n",
    " ('4710011401128_4710011406123', 149),\n",
    " ('4710011401135_4710011405133', 139),\n",
    " ('4710085120093_4710085120628', 127),\n",
    " ('4710011405133_4710011409056', 126),\n",
    " ('4710011401135_4710011409056', 124),\n",
    " ('4710085120628_4710085172696', 119),\n",
    " ('4710011401128_4710011401135_4710011405133', 116),\n",
    " ('4710018004605_4710018004704', 116),\n",
    " ('4710011405133_4710011406123', 113),\n",
    " ('4710085120093_4710085172696', 108),\n",
    " ('4710011401128_4710011401135_4710011409056', 106),\n",
    " ('4710011401128_4710011405133_4710011409056', 103),\n",
    " ('4710011401135_4710011406123', 103),\n",
    " ('4710011406123_4710011409056', 96),\n",
    " ('4711271000014_4714981010038', 94),\n",
    " ('4710011401128_4710011405133_4710011406123', 85),\n",
    " ('4710011401135_4710011405133_4710011409056', 84),\n",
    " ('4710011401128_4710011401135_4710011406123', 84),\n",
    " ('4710085120680_4710085120697', 82),\n",
    " ('4710011401128_4710011401142', 81),\n",
    " ('4710085120703_4710085120710', 79),\n",
    " ('4710085120628_4710085172702', 78),\n",
    " ('4710011401142_4710011405133', 77),\n",
    " ('4710011401128_4710011401135_4710011405133_4710011409056', 75),\n",
    " ('4710254049323_4710254049521', 74),\n",
    " ('4710085120093_4710085120628_4710085172696', 73),\n",
    " ('4711524000891_4711524001041', 73),\n",
    " ('4710085172696_4710085172702', 72),\n",
    " ('4710011401128_4710011406123_4710011409056', 72),\n",
    " ('4710114128038_4711271000014', 69),\n",
    " ('4710011401135_4710011405133_4710011406123', 68),\n",
    " ('4710085120093_4710085172702', 68),\n",
    " ('4711524000907_4711524001041', 67),\n",
    " ('4710114128038_4710114606048', 66),\n",
    " ('4710011401142_4710011409056', 65),\n",
    " ('4710088410139_4710088410610', 64),\n",
    " ('4710908131589_4711271000014', 64),\n",
    " ('4710088414311_4710088414328', 64),\n",
    " ('4710011405133_4710011406123_4710011409056', 63),\n",
    " ('4710011402019_4710011402026', 63),\n",
    " ('4710011401135_4710011401142', 62),\n",
    " ('4710011401135_4710011406123_4710011409056', 61),\n",
    " ('719859796117_719859796124', 61),\n",
    " ('4710011401142_4710011406123', 60),\n",
    " ('4710466103073_4710466103080', 59),\n",
    " ('4710011401128_4710011401135_4710011405133_4710011406123', 58),\n",
    " ('4712019100591_4712019100607', 56),\n",
    " ('4711524000891_4711524000907', 56),\n",
    " ('4710011401128_4710011401142_4710011405133', 55),\n",
    " ('723125485032_7231254880206', 54),\n",
    " ('4710011401128_4714981010038', 52),\n",
    " ('4710011401128_4710011401135_4710011401142', 52),\n",
    " ('4710114105046_4710114606048', 51),\n",
    " ('4710011401128_4710857000059', 51),\n",
    " ('4710085120628_4710085172696_4710085172702', 51),\n",
    " ('4710011401128_4710011401135_4710011406123_4710011409056', 51),\n",
    " ('4710085120093_4710085120628_4710085172702', 51),\n",
    " ('4710011401128_4710011405133_4710011406123_4710011409056', 51),\n",
    " ('37000440147_37000445111', 50)]"
   ]
  },
  {
   "cell_type": "code",
   "execution_count": 4,
   "metadata": {},
   "outputs": [],
   "source": [
    "raw_file = \"/Users/liangsiqi/Documents/Dataset/ta_feng_dataset/ta_feng_all_months_merged.csv\"\n",
    "data = pd.read_csv(raw_file)"
   ]
  },
  {
   "cell_type": "code",
   "execution_count": 9,
   "metadata": {},
   "outputs": [],
   "source": [
    "data[\"PRODUCT_ID\"] = data[\"PRODUCT_ID\"].astype(int)\n",
    "data[\"PRODUCT_SUBCLASS\"] = data[\"PRODUCT_SUBCLASS\"].astype(int)\n",
    "data[\"ASSET\"] = data[\"ASSET\"].astype(int)\n",
    "data[\"SALES_PRICE\"] = data[\"SALES_PRICE\"].astype(int)\n",
    "concise_data = data[[\"AGE_GROUP\",\"PRODUCT_SUBCLASS\",\"PRODUCT_ID\",\"SALES_PRICE\"]]"
   ]
  },
  {
   "cell_type": "code",
   "execution_count": 32,
   "metadata": {},
   "outputs": [
    {
     "data": {
      "text/html": [
       "<div>\n",
       "<style scoped>\n",
       "    .dataframe tbody tr th:only-of-type {\n",
       "        vertical-align: middle;\n",
       "    }\n",
       "\n",
       "    .dataframe tbody tr th {\n",
       "        vertical-align: top;\n",
       "    }\n",
       "\n",
       "    .dataframe thead th {\n",
       "        text-align: right;\n",
       "    }\n",
       "</style>\n",
       "<table border=\"1\" class=\"dataframe\">\n",
       "  <thead>\n",
       "    <tr style=\"text-align: right;\">\n",
       "      <th></th>\n",
       "      <th>TRANSACTION_DT</th>\n",
       "      <th>CUSTOMER_ID</th>\n",
       "      <th>AGE_GROUP</th>\n",
       "      <th>PIN_CODE</th>\n",
       "      <th>PRODUCT_SUBCLASS</th>\n",
       "      <th>PRODUCT_ID</th>\n",
       "      <th>AMOUNT</th>\n",
       "      <th>ASSET</th>\n",
       "      <th>SALES_PRICE</th>\n",
       "    </tr>\n",
       "  </thead>\n",
       "  <tbody>\n",
       "    <tr>\n",
       "      <th>0</th>\n",
       "      <td>11/1/2000</td>\n",
       "      <td>1104905</td>\n",
       "      <td>45-49</td>\n",
       "      <td>115</td>\n",
       "      <td>110411</td>\n",
       "      <td>4710199010372</td>\n",
       "      <td>2</td>\n",
       "      <td>24</td>\n",
       "      <td>30</td>\n",
       "    </tr>\n",
       "    <tr>\n",
       "      <th>1</th>\n",
       "      <td>11/1/2000</td>\n",
       "      <td>418683</td>\n",
       "      <td>45-49</td>\n",
       "      <td>115</td>\n",
       "      <td>120107</td>\n",
       "      <td>4710857472535</td>\n",
       "      <td>1</td>\n",
       "      <td>48</td>\n",
       "      <td>46</td>\n",
       "    </tr>\n",
       "    <tr>\n",
       "      <th>2</th>\n",
       "      <td>11/1/2000</td>\n",
       "      <td>1057331</td>\n",
       "      <td>35-39</td>\n",
       "      <td>115</td>\n",
       "      <td>100407</td>\n",
       "      <td>4710043654103</td>\n",
       "      <td>2</td>\n",
       "      <td>142</td>\n",
       "      <td>166</td>\n",
       "    </tr>\n",
       "    <tr>\n",
       "      <th>3</th>\n",
       "      <td>11/1/2000</td>\n",
       "      <td>1849332</td>\n",
       "      <td>45-49</td>\n",
       "      <td>Others</td>\n",
       "      <td>120108</td>\n",
       "      <td>4710126092129</td>\n",
       "      <td>1</td>\n",
       "      <td>32</td>\n",
       "      <td>38</td>\n",
       "    </tr>\n",
       "    <tr>\n",
       "      <th>4</th>\n",
       "      <td>11/1/2000</td>\n",
       "      <td>1981995</td>\n",
       "      <td>50-54</td>\n",
       "      <td>115</td>\n",
       "      <td>100205</td>\n",
       "      <td>4710176021445</td>\n",
       "      <td>1</td>\n",
       "      <td>14</td>\n",
       "      <td>18</td>\n",
       "    </tr>\n",
       "  </tbody>\n",
       "</table>\n",
       "</div>"
      ],
      "text/plain": [
       "  TRANSACTION_DT  CUSTOMER_ID AGE_GROUP PIN_CODE  PRODUCT_SUBCLASS  \\\n",
       "0      11/1/2000      1104905     45-49      115            110411   \n",
       "1      11/1/2000       418683     45-49      115            120107   \n",
       "2      11/1/2000      1057331     35-39      115            100407   \n",
       "3      11/1/2000      1849332     45-49   Others            120108   \n",
       "4      11/1/2000      1981995     50-54      115            100205   \n",
       "\n",
       "      PRODUCT_ID  AMOUNT  ASSET  SALES_PRICE  \n",
       "0  4710199010372       2     24           30  \n",
       "1  4710857472535       1     48           46  \n",
       "2  4710043654103       2    142          166  \n",
       "3  4710126092129       1     32           38  \n",
       "4  4710176021445       1     14           18  "
      ]
     },
     "execution_count": 32,
     "metadata": {},
     "output_type": "execute_result"
    }
   ],
   "source": [
    "data.head()"
   ]
  },
  {
   "cell_type": "markdown",
   "metadata": {},
   "source": [
    "### Product SUBCLASS & ID"
   ]
  },
  {
   "cell_type": "markdown",
   "metadata": {},
   "source": [
    "#### Product Subclass & ID"
   ]
  },
  {
   "cell_type": "code",
   "execution_count": 12,
   "metadata": {},
   "outputs": [],
   "source": [
    "tmp_data = concise_data[[\"PRODUCT_SUBCLASS\",\"PRODUCT_ID\"]].drop_duplicates()"
   ]
  },
  {
   "cell_type": "code",
   "execution_count": 42,
   "metadata": {},
   "outputs": [],
   "source": [
    "productID_to_subclass = {}\n",
    "for row in tmp_data.values:\n",
    "    productID_to_subclass[row[1]] = row[0]"
   ]
  },
  {
   "cell_type": "code",
   "execution_count": null,
   "metadata": {},
   "outputs": [],
   "source": []
  },
  {
   "cell_type": "code",
   "execution_count": 31,
   "metadata": {},
   "outputs": [
    {
     "data": {
      "text/plain": [
       "Text(0.5, 0, 'PRODUCT_SUBCLASS')"
      ]
     },
     "execution_count": 31,
     "metadata": {},
     "output_type": "execute_result"
    },
    {
     "data": {
      "image/png": "[encoded data removed]",
      "text/plain": [
       "<Figure size 720x720 with 1 Axes>"
      ]
     },
     "metadata": {
      "needs_background": "light"
     },
     "output_type": "display_data"
    }
   ],
   "source": [
    "plt.figure(figsize=(10,10))\n",
    "plt.scatter(concise_data[\"PRODUCT_SUBCLASS\"],concise_data[\"PRODUCT_ID\"],marker=\"x\",s=5,c='r')\n",
    "plt.ylabel(\"PRODUCT_ID\")\n",
    "plt.xlabel(\"PRODUCT_SUBCLASS\")"
   ]
  },
  {
   "cell_type": "code",
   "execution_count": 13,
   "metadata": {},
   "outputs": [
    {
     "data": {
      "image/png": "[encoded data removed]",
      "text/plain": [
       "<Figure size 432x432 with 3 Axes>"
      ]
     },
     "metadata": {
      "needs_background": "light"
     },
     "output_type": "display_data"
    }
   ],
   "source": [
    "sns.jointplot(x=\"PRODUCT_SUBCLASS\", y=\"PRODUCT_ID\", data=tmp_data, kind=\"kde\");"
   ]
  },
  {
   "cell_type": "code",
   "execution_count": 33,
   "metadata": {},
   "outputs": [
    {
     "data": {
      "image/png": "[encoded data removed]",
      "text/plain": [
       "<Figure size 432x432 with 3 Axes>"
      ]
     },
     "metadata": {
      "needs_background": "light"
     },
     "output_type": "display_data"
    }
   ],
   "source": [
    "sns.jointplot(x=\"PRODUCT_SUBCLASS\", y=\"PRODUCT_ID\", data=concise_data, kind=\"kde\");"
   ]
  },
  {
   "cell_type": "code",
   "execution_count": 14,
   "metadata": {},
   "outputs": [
    {
     "data": {
      "image/png": "[encoded data removed]",
      "text/plain": [
       "<Figure size 432x432 with 3 Axes>"
      ]
     },
     "metadata": {
      "needs_background": "light"
     },
     "output_type": "display_data"
    }
   ],
   "source": [
    "sns.jointplot(x=\"PRODUCT_SUBCLASS\", y=\"PRODUCT_ID\", data=tmp_data, kind=\"hex\");"
   ]
  },
  {
   "cell_type": "markdown",
   "metadata": {},
   "source": [
    "#### Product_ID statistic"
   ]
  },
  {
   "cell_type": "code",
   "execution_count": 19,
   "metadata": {},
   "outputs": [
    {
     "data": {
      "image/png": "[encoded data removed]",
      "text/plain": [
       "<Figure size 432x288 with 1 Axes>"
      ]
     },
     "metadata": {
      "needs_background": "light"
     },
     "output_type": "display_data"
    }
   ],
   "source": [
    "sns.distplot(concise_data[\"PRODUCT_ID\"]);"
   ]
  },
  {
   "cell_type": "code",
   "execution_count": 23,
   "metadata": {},
   "outputs": [
    {
     "data": {
      "text/plain": [
       "4714981010038    8476\n",
       "4711271000014    6120\n",
       "4719090900065    2444\n",
       "4711080010112    2251\n",
       "4710114128038    2181\n",
       "4710265849066    2018\n",
       "4713985863121    1976\n",
       "4710088410139    1870\n",
       "4710583996008    1840\n",
       "4710908131589    1680\n",
       "4710291112172    1641\n",
       "4710011401128    1637\n",
       "4710088410610    1632\n",
       "4710036003581    1622\n",
       "4712425010712    1620\n",
       "4710421090059    1564\n",
       "4710094097768    1448\n",
       "4719090900058    1408\n",
       "4710018004605    1391\n",
       "4710114105046    1384\n",
       "4710085120628    1357\n",
       "4710114606048    1294\n",
       "4711001302104    1242\n",
       "20557003         1202\n",
       "37000440147      1196\n",
       "4710104111569    1166\n",
       "4714381003128    1147\n",
       "4710908131534    1143\n",
       "8888021200256    1119\n",
       "4710032501791    1113\n",
       "4710054380619    1084\n",
       "4712162000038    1083\n",
       "4710363352000    1056\n",
       "37000445111      1042\n",
       "4710085172696    1040\n",
       "4712019100591    1027\n",
       "4712425010255    1017\n",
       "4710018008634    1015\n",
       "4710291101039    1009\n",
       "37000329169      1001\n",
       "4710583110015     999\n",
       "4710063031106     994\n",
       "4711258001256     982\n",
       "4710011406123     980\n",
       "4710105015118     972\n",
       "4711022100017     971\n",
       "37000442127       965\n",
       "4710114362029     957\n",
       "4711271000472     954\n",
       "20332433          951\n",
       "4710105015125     947\n",
       "4710011405133     940\n",
       "4710011401135     930\n",
       "4710254049521     926\n",
       "4710085120680     923\n",
       "4710088620156     919\n",
       "4711856000125     898\n",
       "4710085120093     898\n",
       "4711663700010     895\n",
       "4710011402019     893\n",
       "Name: PRODUCT_ID, dtype: int64"
      ]
     },
     "execution_count": 23,
     "metadata": {},
     "output_type": "execute_result"
    }
   ],
   "source": [
    "concise_data[\"PRODUCT_ID\"].value_counts()[:60]"
   ]
  },
  {
   "cell_type": "markdown",
   "metadata": {},
   "source": [
    "#### Product_SUBCLASS statistic"
   ]
  },
  {
   "cell_type": "code",
   "execution_count": 25,
   "metadata": {},
   "outputs": [
    {
     "data": {
      "image/png": "[encoded data removed]",
      "text/plain": [
       "<Figure size 432x288 with 1 Axes>"
      ]
     },
     "metadata": {
      "needs_background": "light"
     },
     "output_type": "display_data"
    }
   ],
   "source": [
    "sns.distplot(concise_data[\"PRODUCT_SUBCLASS\"]);"
   ]
  },
  {
   "cell_type": "code",
   "execution_count": 24,
   "metadata": {},
   "outputs": [
    {
     "data": {
      "text/plain": [
       "100205    20400\n",
       "120103    15360\n",
       "110401    13099\n",
       "110411    12794\n",
       "130206    12008\n",
       "130315    11874\n",
       "500201    11418\n",
       "110217    11047\n",
       "130204    10844\n",
       "530101    10563\n",
       "100312     9886\n",
       "100505     8890\n",
       "100102     8499\n",
       "100201     8402\n",
       "110106     7990\n",
       "560201     7655\n",
       "130106     7636\n",
       "110117     7592\n",
       "530105     6396\n",
       "500210     6256\n",
       "110507     6218\n",
       "130205     6137\n",
       "530110     5962\n",
       "110136     5954\n",
       "100507     5924\n",
       "560402     5017\n",
       "100301     4930\n",
       "500202     4760\n",
       "120106     4755\n",
       "500804     4369\n",
       "530114     4305\n",
       "120105     4026\n",
       "100323     4008\n",
       "530403     3905\n",
       "530404     3898\n",
       "130201     3811\n",
       "500203     3807\n",
       "100311     3762\n",
       "110105     3752\n",
       "100414     3716\n",
       "120101     3634\n",
       "100303     3625\n",
       "530103     3564\n",
       "530301     3539\n",
       "130101     3448\n",
       "530104     3435\n",
       "110504     3427\n",
       "100401     3402\n",
       "130208     3307\n",
       "110404     3260\n",
       "530209     3176\n",
       "130102     3105\n",
       "110508     3078\n",
       "100503     3009\n",
       "100106     2973\n",
       "110108     2915\n",
       "110402     2892\n",
       "560204     2746\n",
       "110501     2623\n",
       "530302     2620\n",
       "Name: PRODUCT_SUBCLASS, dtype: int64"
      ]
     },
     "execution_count": 24,
     "metadata": {},
     "output_type": "execute_result"
    }
   ],
   "source": [
    "concise_data[\"PRODUCT_SUBCLASS\"].value_counts()[:60]"
   ]
  },
  {
   "cell_type": "markdown",
   "metadata": {},
   "source": [
    "### Product Subclass & Price"
   ]
  },
  {
   "cell_type": "code",
   "execution_count": null,
   "metadata": {},
   "outputs": [],
   "source": []
  },
  {
   "cell_type": "code",
   "execution_count": null,
   "metadata": {},
   "outputs": [],
   "source": []
  },
  {
   "cell_type": "markdown",
   "metadata": {},
   "source": [
    "### Frequent Itemset -> Frequent Subclass"
   ]
  },
  {
   "cell_type": "code",
   "execution_count": 46,
   "metadata": {},
   "outputs": [],
   "source": [
    "frequent_subclass_itemset = {}\n",
    "for element in sorted_frequents:\n",
    "    itemset = element[0].split('_')\n",
    "    subclass_itemset = sorted([str(productID_to_subclass[int(item)]) for item in itemset])\n",
    "    subclass_string = '_'.join(subclass_itemset)\n",
    "    if subclass_string not in frequent_subclass_itemset:\n",
    "        frequent_subclass_itemset[subclass_string] = 0\n",
    "    frequent_subclass_itemset[subclass_string] += element[1]"
   ]
  },
  {
   "cell_type": "code",
   "execution_count": 52,
   "metadata": {},
   "outputs": [],
   "source": [
    "results = sorted([i for i in frequent_subclass_itemset.items()],key=lambda x:x[1],reverse=True)"
   ]
  },
  {
   "cell_type": "code",
   "execution_count": 54,
   "metadata": {},
   "outputs": [
    {
     "name": "stdout",
     "output_type": "stream",
     "text": [
      "('120103', '120103') -> 1975\n",
      "('120103', '120103', '120103') -> 949\n",
      "('110411', '110411') -> 654\n",
      "('120103', '120103', '120103', '120103') -> 235\n",
      "('110411', '110411', '110411') -> 175\n",
      "('100505', '100505') -> 116\n",
      "('110106', '130315') -> 94\n",
      "('100205', '100205') -> 79\n",
      "('110136', '110136') -> 74\n",
      "('110106', '500201') -> 69\n",
      "('500201', '500203') -> 66\n",
      "('110401', '110401') -> 64\n",
      "('110106', '500210') -> 64\n",
      "('110402', '110402') -> 64\n",
      "('120106', '120106') -> 63\n",
      "('100512', '100512') -> 61\n",
      "('500311', '500311') -> 59\n",
      "('100201', '100201') -> 56\n",
      "('100324', '100324') -> 54\n",
      "('120103', '130315') -> 52\n",
      "('500203', '500210') -> 51\n",
      "('100312', '100312') -> 50\n"
     ]
    }
   ],
   "source": [
    "for item in results:\n",
    "    print(tuple(item[0].split('_')),\"->\",item[1])"
   ]
  },
  {
   "cell_type": "code",
   "execution_count": null,
   "metadata": {},
   "outputs": [],
   "source": []
  }
 ],
 "metadata": {
  "kernelspec": {
   "display_name": "Python 3",
   "language": "python",
   "name": "python3"
  },
  "language_info": {
   "codemirror_mode": {
    "name": "ipython",
    "version": 3
   },
   "file_extension": ".py",
   "mimetype": "text/x-python",
   "name": "python",
   "nbconvert_exporter": "python",
   "pygments_lexer": "ipython3",
   "version": "3.7.3"
  },
  "latex_envs": {
   "LaTeX_envs_menu_present": true,
   "autoclose": false,
   "autocomplete": true,
   "bibliofile": "biblio.bib",
   "cite_by": "apalike",
   "current_citInitial": 1,
   "eqLabelWithNumbers": true,
   "eqNumInitial": 1,
   "hotkeys": {
    "equation": "Ctrl-E",
    "itemize": "Ctrl-I"
   },
   "labels_anchors": false,
   "latex_user_defs": false,
   "report_style_numbering": false,
   "user_envs_cfg": false
  },
  "toc": {
   "base_numbering": 1,
   "nav_menu": {},
   "number_sections": true,
   "sideBar": true,
   "skip_h1_title": false,
   "title_cell": "Table of Contents",
   "title_sidebar": "Contents",
   "toc_cell": false,
   "toc_position": {
    "height": "calc(100% - 180px)",
    "left": "10px",
    "top": "150px",
    "width": "225px"
   },
   "toc_section_display": true,
   "toc_window_display": false
  }
 },
 "nbformat": 4,
 "nbformat_minor": 2
}
