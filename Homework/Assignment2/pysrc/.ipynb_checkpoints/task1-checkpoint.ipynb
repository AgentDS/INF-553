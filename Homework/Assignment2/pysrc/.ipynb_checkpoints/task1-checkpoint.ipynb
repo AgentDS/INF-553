{
 "cells": [
  {
   "cell_type": "code",
   "execution_count": 17,
   "metadata": {},
   "outputs": [],
   "source": [
    "from pyspark import SparkContext\n",
    "# import json\n",
    "# import sys\n",
    "input_file = \"../data/small1.csv\"\n",
    "support = 4"
   ]
  },
  {
   "cell_type": "code",
   "execution_count": 13,
   "metadata": {},
   "outputs": [],
   "source": [
    "sc = SparkContext.getOrCreate()\n",
    "raw_data = sc.textFile(input_file)\n",
    "header = raw_data.first()\n",
    "raw_data_without_header = raw_data.filter(lambda x: x != header)\n",
    "clean_data = raw_data_without_header.map(lambda line: line.strip().split(',')) # user_id, business_id"
   ]
  },
  {
   "cell_type": "code",
   "execution_count": 14,
   "metadata": {},
   "outputs": [],
   "source": [
    "baskets1 = clean_data.map(lambda x: [x[0], [x[1]]]).reduceByKey(lambda a, b: a + b).map(lambda x: [x[0], list(set(list(x[1])))])\n",
    "baskets2 = clean_data.map(lambda x: [x[1], [x[0]]]).reduceByKey(lambda a, b: a + b).map(lambda x: [x[0], list(set(list(x[1])))])"
   ]
  },
  {
   "cell_type": "code",
   "execution_count": 15,
   "metadata": {},
   "outputs": [
    {
     "name": "stdout",
     "output_type": "stream",
     "text": [
      "[['1', ['102', '100', '101', '98']], ['4', ['102', '97', '101', '99', '103']], ['8', ['102', '97', '104', '99', '103', '98']], ['9', ['99', '97', '98']], ['10', ['97', '98']], ['12', ['102', '106', '107', '108', '101', '100', '105', '98']], ['14', ['97']], ['16', ['99', '100', '101', '98']], ['17', ['99', '97']], ['19', ['102', '97', '98']], ['2', ['99', '100', '101', '97']], ['3', ['102', '97', '103', '99', '105', '98']], ['5', ['97', '98']], ['6', ['102', '101']], ['7', ['99', '97', '101']], ['11', ['99', '97', '98']], ['13', ['102', '106', '107', '108', '101', '103', '99', '100', '105', '98']], ['15', ['99', '97', '101']], ['18', ['99', '97', '98']]]\n"
     ]
    }
   ],
   "source": [
    "print(baskets1.collect())"
   ]
  },
  {
   "cell_type": "code",
   "execution_count": 16,
   "metadata": {},
   "outputs": [],
   "source": [
    "item_cnt = clean_data.map(lambda x: [x[1],1]).reduceByKey(lambda a,b: a + b)\n",
    "custum_cnt = clean_data.map(lambda x: [x[0],1]).reduceByKey(lambda a,b: a + b)"
   ]
  },
  {
   "cell_type": "code",
   "execution_count": 19,
   "metadata": {},
   "outputs": [
    {
     "data": {
      "text/plain": [
       "[('100', 5), ('98', 12), ('102', 8), ('101', 9), ('99', 12), ('97', 14)]"
      ]
     },
     "execution_count": 19,
     "metadata": {},
     "output_type": "execute_result"
    }
   ],
   "source": [
    "frequent_item = item_cnt.filter(lambda x: x[1] > support)\n",
    "frequent_item.collect()"
   ]
  },
  {
   "cell_type": "code",
   "execution_count": 21,
   "metadata": {},
   "outputs": [
    {
     "data": {
      "text/plain": [
       "[('4', 5), ('8', 6), ('12', 8), ('3', 6), ('13', 10)]"
      ]
     },
     "execution_count": 21,
     "metadata": {},
     "output_type": "execute_result"
    }
   ],
   "source": [
    "frequent_custum = custum_cnt.filter(lambda x: x[1] > support)\n",
    "frequent_custum.collect()"
   ]
  },
  {
   "cell_type": "code",
   "execution_count": null,
   "metadata": {},
   "outputs": [],
   "source": []
  }
 ],
 "metadata": {
  "kernelspec": {
   "display_name": "Python [conda env:inf553]",
   "language": "python",
   "name": "conda-env-inf553-py"
  },
  "language_info": {
   "codemirror_mode": {
    "name": "ipython",
    "version": 3
   },
   "file_extension": ".py",
   "mimetype": "text/x-python",
   "name": "python",
   "nbconvert_exporter": "python",
   "pygments_lexer": "ipython3",
   "version": "3.6.9"
  },
  "latex_envs": {
   "LaTeX_envs_menu_present": true,
   "autoclose": false,
   "autocomplete": true,
   "bibliofile": "biblio.bib",
   "cite_by": "apalike",
   "current_citInitial": 1,
   "eqLabelWithNumbers": true,
   "eqNumInitial": 1,
   "hotkeys": {
    "equation": "Ctrl-E",
    "itemize": "Ctrl-I"
   },
   "labels_anchors": false,
   "latex_user_defs": false,
   "report_style_numbering": false,
   "user_envs_cfg": false
  },
  "toc": {
   "base_numbering": 1,
   "nav_menu": {},
   "number_sections": true,
   "sideBar": true,
   "skip_h1_title": false,
   "title_cell": "Table of Contents",
   "title_sidebar": "Contents",
   "toc_cell": false,
   "toc_position": {},
   "toc_section_display": true,
   "toc_window_display": false
  }
 },
 "nbformat": 4,
 "nbformat_minor": 2
}
